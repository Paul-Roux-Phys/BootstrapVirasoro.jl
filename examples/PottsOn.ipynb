{
 "cells": [
  {
   "cell_type": "markdown",
   "id": "03777087",
   "metadata": {},
   "source": [
    "# Four point functions in the Potts and $O(n)$ models\n",
    "\n",
    "This notebook reproduces some known results about Potts and $O(n)$ four-point functions, using the new Julia code."
   ]
  },
  {
   "cell_type": "code",
   "execution_count": 1,
   "id": "5d7699d5",
   "metadata": {},
   "outputs": [
    {
     "name": "stderr",
     "output_type": "stream",
     "text": [
      "\u001b[32m\u001b[1m  Activating\u001b[22m\u001b[39m project at `~/Documents/Recherche/projet_these/code/BootstrapVirasoro`\n"
     ]
    }
   ],
   "source": [
    "Pkg.activate(\"..\") # activate the parent environment\n",
    "using DoubleFloats, BootstrapVirasoro\n",
    "n_threads = Threads.nthreads()\n",
    "if n_threads == 1\n",
    "    println(\"You are using a single thread. Consider starting julia with more threads, for instance by setting\n",
    "    the environment variable `export JULIA_NUM_THREADS=auto`\")\n",
    "end"
   ]
  },
  {
   "cell_type": "markdown",
   "id": "ad8906b8",
   "metadata": {},
   "source": [
    "## Spectra\n",
    "\n",
    "We create functions to generate the spectra of the $O(n)$ and Potts CFTs, with a cutoff:\n",
    "\n",
    "\\begin{align}\n",
    "\\mathcal{S}^{O(n)} &= \\left\\{V^d_{\\langle 1,s\\rangle}\\right\\}_{s\\in 2\\mathbb{N}+1} \\bigcup \\left\\{V_{(r,s)}\\right\\}_{\\substack{r\\in \\frac12\\mathbb{N}^*\\\\ s\\in\\frac{1}{r}\\mathbb{Z}}}  \\ ,\n",
    " \\\\\n",
    " \\mathcal{S}^{PSU(n)} &= \\left\\{V^d_{\\langle 1,s\\rangle}\\right\\}_{s\\in\\mathbb{N}^*} \\bigcup \\left\\{V_{(r,s)}\\right\\}_{\\substack{r\\in \\mathbb{N}^*\\\\ s\\in\\frac{1}{r}\\mathbb{Z}}}  \\ ,\n",
    " \\\\\n",
    " \\mathcal{S}^\\text{Potts} &= \\left\\{V^d_{\\langle 1,s\\rangle}\\right\\}_{s\\in\\mathbb{N}^*} \\bigcup \\left\\{V_{(r,s)}\\right\\}_{\\substack{r\\in \\mathbb{N}+2\\\\ s\\in\\frac{1}{r}\\mathbb{Z}}} \\bigcup  \\left\\{ V_{P_{(0,s)}}\\right\\}_{s\\in \\mathbb{N}+\\frac12}\\ .\n",
    "\\end{align}\n"
   ]
  },
  {
   "cell_type": "code",
   "execution_count": 2,
   "id": "af82dfda",
   "metadata": {},
   "outputs": [],
   "source": [
    "setprecision(BigFloat, 50, base=10)\n",
    "c = CC(β=1/(big\"0.8\" + big\"0.1\"*im))\n",
    "Δmax = 30.\n",
    "\n",
    "LoopFields = Dict(\n",
    "    :On => vcat(\n",
    "        [Field(c, r=r, s=s) for r in 1//2:1//2:50 for s in -10+1//r:1//r:10 if r*s%1 == 0],\n",
    "        [Field(c, r=1, s=s, diagonal=true) for s in 1:2:50]\n",
    "    ),\n",
    "    :PSUn => vcat(\n",
    "        [Field(c, r=r, s=s) for r in 1:50 for s in -10+1//r:1//r:10],\n",
    "        [Field(c, r=1, s=s, diagonal=true) for s in 1:50]\n",
    "    ),\n",
    "    :Potts => vcat(\n",
    "        [Field(c, r=r, s=s) for r in 2:50 for s in -10+1//r:1//r:10],\n",
    "        [Field(c, r=0, s=s, diagonal=true) for s in 1//2:1:3//2],\n",
    "        [Field(c, r=1, s=s, diagonal=true) for s in 1:50]\n",
    "    )\n",
    ")\n",
    "\n",
    "LoopSpectra = Dict(\n",
    "    model => Spectrum(LoopFields[model], Δmax, interchiral=true)\n",
    "    for model in (:On, :PSUn, :Potts)\n",
    ");"
   ]
  },
  {
   "cell_type": "markdown",
   "id": "fc39c848",
   "metadata": {},
   "source": [
    "## Bootstrap equations\n",
    "\n",
    "We numerically solve\n",
    "\n",
    "\\begin{align}\n",
    "\\sum_{V \\in \\mathcal{S}^{(s)}} D^{(s)}_V \\mathcal I^{(s)}_V (x) = \\sum_{V \\in \\mathcal{S}^{(t)}} D^{(t)}_V \\mathcal I^{(t)}_V (x) = \\sum_{V \\in \\mathcal{S}^{(u)}} D^{(u)}_V \\mathcal I^{(u)}_V (x),\n",
    "\\end{align}\n",
    "\n",
    "for some channel spectra $\\mathcal{S}^{(s)}, \\mathcal{S}^{(t)}, \\mathcal{S}^{(u)}$, where $\\mathcal I$ are interchiral conformal blocks, and the $D$'s are four-point structure constants.\n",
    "\n",
    "We solve this system as\n",
    "\\begin{equation}\n",
    "\\underbrace{\n",
    "\\begin{bmatrix}\n",
    "[\\mathcal I^{(s)}_{V_j}(x_i)]_{ij} & [-\\mathcal I^{(t)}_{V_j}(x_i)]_{ij} & [0] \\\\\n",
    "[\\mathcal I^{(s)}_{V_j}(x_i)]_{ij} & [0] & [-\\mathcal I^{(u)}_{V_j}(x_i)]_{ij}\n",
    "\\end{bmatrix}}_A\n",
    "\\begin{bmatrix}\n",
    "[D^{(s)}_{V_j}]_j \\\\\n",
    "[D^{(t)}_{V_j}]_j \\\\\n",
    "[D^{(u)}_{V_j}]_j\n",
    "\\end{bmatrix} = \n",
    "\\begin{bmatrix}\n",
    "\\sum_{V_j \\in \\text{ known}} D^{(t)}_{V_j} \\mathcal{I}^{(t)}_{V_j}(x_i) - \\sum_{V_j \\in \\text{ known}} D^{(s)}_{V_j} \\mathcal{I}^{(s)}_{V_j}(x_i)\\\\\n",
    "\\sum_{V_j \\in \\text{ known}} D^{(u)}_{V_j} \\mathcal{I}^{(u)}_{V_j}(x_i) - \\sum_{V_j \\in \\text{ known}} D^{(s)}_{V_j} \\mathcal{I}^{(s)}_{V_j}(x_i)\n",
    "\\end{bmatrix}\n",
    "\\end{equation}\n",
    "where the $x_i$ take more values than there are unknowns, i.e. $A$ is a tall rectangular matrix. \n",
    "\n",
    "To check numerical convergence, we solve two subsystems and compare the solutions. If the solutions are close, we know the computation has converged."
   ]
  },
  {
   "cell_type": "markdown",
   "id": "f8064650",
   "metadata": {},
   "source": [
    "## $\\langle (\\frac{1}{2}, 0)^2 (1, 0)^2 \\rangle$"
   ]
  },
  {
   "cell_type": "code",
   "execution_count": null,
   "id": "dcb3fc31",
   "metadata": {},
   "outputs": [
    {
     "name": "stdout",
     "output_type": "stream",
     "text": [
      "158.487810 seconds (2.21 G allocations: 98.324 GiB, 9.57% gc time, 5.21% compilation time)\n"
     ]
    },
    {
     "name": "stderr",
     "output_type": "stream",
     "text": [
      "┌ Info: system size: (118, 112)\n",
      "└ @ BootstrapVirasoro /Users/paulroux/Documents/Recherche/projet_these/code/BootstrapVirasoro/src/bootstrap_equations.jl:139\n"
     ]
    },
    {
     "name": "stdout",
     "output_type": "stream",
     "text": [
      "  9.213506 seconds (53.37 M allocations: 2.375 GiB, 4.59% gc time, 65.81% compilation time)\n"
     ]
    },
    {
     "data": {
      "text/plain": [
       "\u001b[31m\u001b[1mChannel s\u001b[22m\u001b[39m\n",
       "\u001b[31m\u001b[1m==========\u001b[22m\u001b[39m\n",
       "Fields         | Structure constants          | Errors                     \n",
       "--------------------------------------------------------------------\n",
       "V_{(1, 0)}     |  1.00000e+00 + 0.00000e+00im | 0.00000e+00 + 0.00000e+00im\n",
       "V_{(1, 1)}     |  5.02183e-01 - 8.30317e-02im |  1.29577e-19 + 0.00000e+00im\n",
       "V_{(2, -1//2)} |  2.73704e-03 + 2.00265e-02im |  9.36877e-17 + 0.00000e+00im\n",
       "V_{(2, 0)}     |  2.39155e-03 + 2.55139e-02im |  1.10100e-16 + 0.00000e+00im\n",
       "V_{(2, 1//2)}  |  2.73704e-03 + 2.00265e-02im |  1.06242e-16 + 0.00000e+00im\n",
       "V_{(2, 1)}     | -3.97586e-19 + 1.25531e-19im |  1.31370e+00 + 0.00000e+00im\n",
       "V_{(3, -2//3)} | -6.00257e-07 + 2.35486e-07im |  1.69845e-09 + 0.00000e+00im\n",
       "V_{(3, -1//3)} | -7.07647e-07 - 9.43683e-07im |  1.27692e-09 + 0.00000e+00im\n",
       "V_{(3, 0)}     | -6.40312e-07 - 1.92164e-06im |  7.85826e-10 + 0.00000e+00im\n",
       "V_{(3, 1//3)}  | -7.07647e-07 - 9.43683e-07im |  1.13800e-09 + 0.00000e+00im\n",
       "V_{(3, 2//3)}  | -6.00257e-07 + 2.35486e-07im |  1.51100e-09 + 0.00000e+00im\n",
       "V_{(3, 1)}     |  2.61084e-16 + 1.78859e-16im |  1.46996e+00 + 0.00000e+00im\n",
       "V_{(4, -3//4)} |  1.76461e-11 - 3.13609e-11im |  1.14245e+00 + 0.00000e+00im\n",
       "V_{(4, -1//2)} | -4.55634e-11 - 4.85017e-12im |  1.15809e+00 + 0.00000e+00im\n",
       "V_{(4, -1//4)} |  1.14746e-11 + 5.09019e-11im |  1.14758e+00 + 0.00000e+00im\n",
       "V_{(4, 0)}     |  4.57698e-11 - 2.71262e-11im |  1.13056e+00 + 0.00000e+00im\n",
       "V_{(4, 1//4)}  | -4.03834e-11 - 2.94231e-11im |  1.13698e+00 + 0.00000e+00im\n",
       "V_{(4, 1//2)}  | -1.06317e-11 + 4.31981e-11im |  1.13407e+00 + 0.00000e+00im\n",
       "V_{(4, 3//4)}  |  3.53606e-11 - 7.56508e-12im |  1.13784e+00 + 0.00000e+00im\n",
       "V_{(4, 1)}     | -1.65974e-11 - 1.73632e-11im |  1.14823e+00 + 0.00000e+00im\n",
       "V_{(5, -4//5)} | -2.80822e-03 + 8.58924e-05im |  2.05711e+00 + 0.00000e+00im\n",
       "V_{(5, -3//5)} |  2.02509e-03 + 2.99006e-03im |  2.05711e+00 + 0.00000e+00im\n",
       "V_{(5, -2//5)} |  1.65289e-03 - 3.99183e-03im |  2.05710e+00 + 0.00000e+00im\n",
       "V_{(5, -1//5)} | -4.70704e-03 + 9.95885e-04im |  2.05708e+00 + 0.00000e+00im\n",
       "V_{(5, 0)}     |  3.67237e-03 + 3.37389e-03im |  2.05707e+00 + 0.00000e+00im\n",
       "V_{(5, 1//5)}  |  5.07452e-04 - 4.78448e-03im |  2.05706e+00 + 0.00000e+00im\n",
       "V_{(5, 2//5)}  | -3.68368e-03 + 2.25793e-03im |  2.05707e+00 + 0.00000e+00im\n",
       "V_{(5, 3//5)}  |  3.39592e-03 + 1.22876e-03im |  2.05708e+00 + 0.00000e+00im\n",
       "V_{(5, 4//5)}  | -9.49472e-04 - 2.64428e-03im |  2.05709e+00 + 0.00000e+00im\n",
       "V_{(5, 1)}     | -1.00372e-03 + 1.76955e-03im |  2.05711e+00 + 0.00000e+00im\n",
       "V_{(6, -5//6)} |  3.44229e-11 + 2.29657e-11im |  1.57786e+00 + 0.00000e+00im\n",
       "V_{(6, -2//3)} | -1.12856e-11 - 2.02281e-11im |  1.71297e+00 + 0.00000e+00im\n",
       "V_{(6, -1//2)} | -1.28224e-10 + 1.42450e-10im |  1.74595e+00 + 0.00000e+00im\n",
       "V_{(6, -1//3)} |  5.60970e-10 + 2.03096e-10im |  1.80851e+00 + 0.00000e+00im\n",
       "V_{(6, -1//6)} | -1.10523e-10 - 9.10366e-10im |  1.94580e+00 + 0.00000e+00im\n",
       "V_{(6, 0)}     | -6.44264e-10 + 4.71637e-10im |  2.35454e+00 + 0.00000e+00im\n",
       "V_{(6, 1//6)}  |  3.36970e-10 + 1.33641e-10im |  8.30078e+00 + 0.00000e+00im\n",
       "V_{(6, 1//3)}  | -1.92210e-11 - 3.32391e-11im |  8.77359e-01 + 0.00000e+00im\n",
       "V_{(6, 1//2)}  |  2.26059e-11 - 1.34109e-11im |  1.20929e+00 + 0.00000e+00im\n",
       "V_{(6, 2//3)}  | -5.87630e-12 - 1.55181e-12im |  1.33487e+00 + 0.00000e+00im\n",
       "V_{(6, 5//6)}  |  6.09416e-13 + 3.38978e-11im |  1.49936e+00 + 0.00000e+00im\n",
       "V_{(6, 1)}     |  4.30464e-11 - 2.84257e-11im |  1.54121e+00 + 0.00000e+00im\n",
       "\u001b[31m\u001b[1mChannel t\u001b[22m\u001b[39m\n",
       "\u001b[31m\u001b[1m==========\u001b[22m\u001b[39m\n",
       "Fields               | Structure constants          | Errors                     \n",
       "--------------------------------------------------------------------------\n",
       "V_{(1//2, 0)}        |  2.88598e-04 - 2.27579e-04im |  2.17196e-15 + 0.00000e+00im\n",
       "V_{(3//2, -2//3)}    |  1.37642e-23 - 8.25999e-24im |  2.69624e+00 + 0.00000e+00im\n",
       "V_{(3//2, 0)}        | -8.10308e-01 - 1.38605e-01im |  7.16115e-20 + 0.00000e+00im\n",
       "V_{(3//2, 2//3)}     |  1.80481e-05 - 8.79009e-05im |  5.73703e-15 + 0.00000e+00im\n",
       "V_{(5//2, -4//5)}    |  1.38716e-09 - 1.61297e-09im |  1.39356e-05 + 0.00000e+00im\n",
       "V_{(5//2, -2//5)}    |  1.12771e-16 - 5.13523e-16im |  1.34380e+00 + 0.00000e+00im\n",
       "V_{(5//2, 0)}        | -5.96037e-10 + 8.88889e-10im |  5.61166e-03 + 0.00000e+00im\n",
       "V_{(5//2, 2//5)}     | -2.05874e-23 - 2.58225e-23im |  4.15832e+00 + 0.00000e+00im\n",
       "V_{(5//2, 4//5)}     |  5.85200e-16 - 5.24537e-16im |  5.40507e+00 + 0.00000e+00im\n",
       "V_{(7//2, -6//7)}    |  3.57969e-04 + 9.73578e-05im |  3.84434e-15 + 0.00000e+00im\n",
       "V_{(7//2, -4//7)}    | -5.93624e-10 + 8.91072e-10im |  5.61266e-03 + 0.00000e+00im\n",
       "V_{(7//2, -2//7)}    |  1.57658e-10 + 1.98421e-09im |  2.08002e-03 + 0.00000e+00im\n",
       "V_{(7//2, 0)}        | -6.29561e-24 + 9.29960e-24im |  3.10138e+00 + 0.00000e+00im\n",
       "V_{(7//2, 2//7)}     | -2.49073e-01 - 1.28304e-02im |  2.02304e-19 + 0.00000e+00im\n",
       "V_{(7//2, 4//7)}     | -1.26044e-24 - 4.60014e-25im |  3.36850e+00 + 0.00000e+00im\n",
       "V_{(7//2, 6//7)}     | -1.47999e-23 + 5.05020e-24im |  4.10846e+00 + 0.00000e+00im\n",
       "V_{(9//2, -8//9)}    | -1.27567e-16 - 2.63799e-16im |  1.21115e+00 + 0.00000e+00im\n",
       "V_{(9//2, -2//3)}    |  1.08237e-23 - 2.13970e-23im |  3.66096e+00 + 0.00000e+00im\n",
       "V_{(9//2, -4//9)}    |  2.73900e-16 - 1.40570e-16im |  2.47250e+00 + 0.00000e+00im\n",
       "V_{(9//2, -2//9)}    |  5.46994e-16 + 1.43854e-15im |  1.61438e+00 + 0.00000e+00im\n",
       "V_{(9//2, 0)}        |  1.60888e-10 + 1.98662e-09im |  2.08162e-03 + 0.00000e+00im\n",
       "V_{(9//2, 2//9)}     |  1.45108e-23 + 1.50212e-23im |  2.88770e+00 + 0.00000e+00im\n",
       "V_{(9//2, 4//9)}     | -5.39802e-16 - 3.88788e-16im |  1.48952e+00 + 0.00000e+00im\n",
       "V_{(9//2, 2//3)}     | -2.49073e-01 - 1.28304e-02im |  8.06260e-20 + 0.00000e+00im\n",
       "V_{(9//2, 8//9)}     |  4.01833e-24 - 4.36963e-24im |  2.04445e+00 + 0.00000e+00im\n",
       "V_{(11//2, -10//11)} | -1.49564e-17 - 3.74196e-16im |  2.27614e+00 + 0.00000e+00im\n",
       "V_{(11//2, -8//11)}  |  1.80481e-05 - 8.79009e-05im |  8.70134e-15 + 0.00000e+00im\n",
       "V_{(11//2, -6//11)}  | -3.61041e-25 - 5.30196e-24im |  1.13126e+00 + 0.00000e+00im\n",
       "V_{(11//2, -4//11)}  | -1.74987e-09 + 4.01314e-09im |  1.86496e-03 + 0.00000e+00im\n",
       "V_{(11//2, -2//11)}  |  2.88598e-04 - 2.27579e-04im |  3.89655e-15 + 0.00000e+00im\n",
       "V_{(11//2, 0)}       |  4.37544e-24 - 1.36329e-23im |  4.62317e+00 + 0.00000e+00im\n",
       "V_{(11//2, 2//11)}   |  8.82943e-25 - 7.14512e-25im |  2.64596e+00 + 0.00000e+00im\n",
       "V_{(11//2, 4//11)}   | -1.56296e-09 - 9.03291e-10im |  4.17332e-03 + 0.00000e+00im\n",
       "V_{(11//2, 6//11)}   |  1.28795e-15 + 1.25045e-16im |  3.09255e+00 + 0.00000e+00im\n",
       "V_{(11//2, 8//11)}   | -1.56939e-09 - 9.09809e-10im |  4.18594e-03 + 0.00000e+00im\n",
       "V_{(11//2, 10//11)}  | -5.66851e-16 + 7.34265e-16im |  4.23300e+00 + 0.00000e+00im\n",
       "\u001b[31m\u001b[1mChannel u\u001b[22m\u001b[39m\n",
       "\u001b[31m\u001b[1m==========\u001b[22m\u001b[39m\n",
       "Fields               | Structure constants          | Errors                     \n",
       "--------------------------------------------------------------------------\n",
       "V_{(3//2, -2//3)}    |  6.09416e-13 + 3.38978e-11im |  1.49936e+00 + 0.00000e+00im\n",
       "V_{(3//2, 0)}        | -1.65974e-11 - 1.73632e-11im |  1.14823e+00 + 0.00000e+00im\n",
       "V_{(3//2, 2//3)}     | -6.00257e-07 + 2.35486e-07im |  1.69845e-09 + 0.00000e+00im\n",
       "V_{(5//2, -4//5)}    | -1.00372e-03 + 1.76955e-03im |  2.05711e+00 + 0.00000e+00im\n",
       "V_{(5//2, -2//5)}    |  5.60970e-10 + 2.03096e-10im |  1.80851e+00 + 0.00000e+00im\n",
       "V_{(5//2, 0)}        |  1.65289e-03 - 3.99183e-03im |  2.05710e+00 + 0.00000e+00im\n",
       "V_{(5//2, 2//5)}     | -6.40312e-07 - 1.92164e-06im |  7.85826e-10 + 0.00000e+00im\n",
       "V_{(5//2, 4//5)}     |  2.61084e-16 + 1.78859e-16im |  1.46996e+00 + 0.00000e+00im\n",
       "V_{(7//2, -6//7)}    | -2.80822e-03 + 8.58924e-05im |  2.05711e+00 + 0.00000e+00im\n",
       "V_{(7//2, -4//7)}    | -4.55634e-11 - 4.85017e-12im |  1.15809e+00 + 0.00000e+00im\n",
       "V_{(7//2, -2//7)}    | -4.70704e-03 + 9.95885e-04im |  2.05708e+00 + 0.00000e+00im\n",
       "V_{(7//2, 0)}        |  1.14746e-11 + 5.09019e-11im |  1.14758e+00 + 0.00000e+00im\n",
       "V_{(7//2, 2//7)}     |  4.30464e-11 - 2.84257e-11im |  1.54121e+00 + 0.00000e+00im\n",
       "V_{(7//2, 4//7)}     | -7.07647e-07 - 9.43683e-07im |  1.27692e-09 + 0.00000e+00im\n",
       "V_{(7//2, 6//7)}     | -1.92210e-11 - 3.32391e-11im |  8.77359e-01 + 0.00000e+00im\n",
       "V_{(9//2, -8//9)}    |  2.26059e-11 - 1.34109e-11im |  1.20929e+00 + 0.00000e+00im\n",
       "V_{(9//2, -2//3)}    | -6.44264e-10 + 4.71637e-10im |  2.35454e+00 + 0.00000e+00im\n",
       "V_{(9//2, -4//9)}    |  2.02509e-03 + 2.99006e-03im |  2.05711e+00 + 0.00000e+00im\n",
       "V_{(9//2, -2//9)}    |  3.36970e-10 + 1.33641e-10im |  8.30078e+00 + 0.00000e+00im\n",
       "V_{(9//2, 0)}        | -4.03834e-11 - 2.94231e-11im |  1.13698e+00 + 0.00000e+00im\n",
       "V_{(9//2, 2//9)}     | -1.10523e-10 - 9.10366e-10im |  1.94580e+00 + 0.00000e+00im\n",
       "V_{(9//2, 4//9)}     | -1.12856e-11 - 2.02281e-11im |  1.71297e+00 + 0.00000e+00im\n",
       "V_{(9//2, 2//3)}     |  3.44229e-11 + 2.29657e-11im |  1.57786e+00 + 0.00000e+00im\n",
       "V_{(9//2, 8//9)}     |  3.39592e-03 + 1.22876e-03im |  2.05708e+00 + 0.00000e+00im\n",
       "V_{(11//2, -10//11)} |  3.67237e-03 + 3.37389e-03im |  2.05707e+00 + 0.00000e+00im\n",
       "V_{(11//2, -8//11)}  | -3.68368e-03 + 2.25793e-03im |  2.05707e+00 + 0.00000e+00im\n",
       "V_{(11//2, -6//11)}  | -1.06317e-11 + 4.31981e-11im |  1.13407e+00 + 0.00000e+00im\n",
       "V_{(11//2, -4//11)}  |  1.76461e-11 - 3.13609e-11im |  1.14245e+00 + 0.00000e+00im\n",
       "V_{(11//2, -2//11)}  | -9.49472e-04 - 2.64428e-03im |  2.05709e+00 + 0.00000e+00im\n",
       "V_{(11//2, 0)}       |  2.73704e-03 + 2.00265e-02im |  9.36877e-17 + 0.00000e+00im\n",
       "V_{(11//2, 2//11)}   | -1.28224e-10 + 1.42450e-10im |  1.74595e+00 + 0.00000e+00im\n",
       "V_{(11//2, 4//11)}   | -3.97586e-19 + 1.25531e-19im |  1.31370e+00 + 0.00000e+00im\n",
       "V_{(11//2, 6//11)}   |  2.39155e-03 + 2.55139e-02im |  1.10100e-16 + 0.00000e+00im\n",
       "V_{(11//2, 8//11)}   |  5.07452e-04 - 4.78448e-03im |  2.05706e+00 + 0.00000e+00im\n",
       "V_{(11//2, 10//11)}  | -6.00257e-07 + 2.35486e-07im |  1.51100e-09 + 0.00000e+00im\n"
      ]
     },
     "metadata": {},
     "output_type": "display_data"
    }
   ],
   "source": [
    "indices = ((1//2, 0), (1//2, 0), (1, 0), (1, 0))\n",
    "fields = [Field(c, r=r, s=s) for (r, s) in indices]\n",
    "@time co = Correlation(fields..., Δmax=Δmax)\n",
    "\n",
    "Schan_On = ChannelSpectra(\n",
    "    co, LoopSpectra[:On],\n",
    "    signature = Dict(:s => 1, :t => 1//2, :u => 3//2),\n",
    ")\n",
    "@time b = BootstrapSystem(Schan_On);\n",
    "compute_linear_system!(b)\n",
    "@time solve!(b, precision_factor=1)\n",
    "b.consts"
   ]
  },
  {
   "cell_type": "code",
   "execution_count": null,
   "id": "5f5644ec",
   "metadata": {},
   "outputs": [
    {
     "ename": "MethodError",
     "evalue": "MethodError: no method matching evaluate(::Field{Complex{BigFloat}}, ::Complex{BigFloat})\nThe function `evaluate` exists, but no method is defined for this combination of argument types.\n\nClosest candidates are:\n  evaluate(!Matched::BootstrapVirasoro.BlockInterchiral, ::T) where T\n   @ BootstrapVirasoro ~/Documents/Recherche/projet_these/code/BootstrapVirasoro/src/ConformalBlocks/evaluate.jl:95\n  evaluate(!Matched::BootstrapVirasoro.BlockLogarithmic, ::T) where T\n   @ BootstrapVirasoro ~/Documents/Recherche/projet_these/code/BootstrapVirasoro/src/ConformalBlocks/evaluate.jl:64\n  evaluate(!Matched::BootstrapVirasoro.BlockFactorized, ::T) where T\n   @ BootstrapVirasoro ~/Documents/Recherche/projet_these/code/BootstrapVirasoro/src/ConformalBlocks/evaluate.jl:60\n  ...\n",
     "output_type": "error",
     "traceback": [
      "MethodError: no method matching evaluate(::Field{Complex{BigFloat}}, ::Complex{BigFloat})\n",
      "The function `evaluate` exists, but no method is defined for this combination of argument types.\n",
      "\n",
      "Closest candidates are:\n",
      "  evaluate(!Matched::BootstrapVirasoro.BlockInterchiral, ::T) where T\n",
      "   @ BootstrapVirasoro ~/Documents/Recherche/projet_these/code/BootstrapVirasoro/src/ConformalBlocks/evaluate.jl:95\n",
      "  evaluate(!Matched::BootstrapVirasoro.BlockLogarithmic, ::T) where T\n",
      "   @ BootstrapVirasoro ~/Documents/Recherche/projet_these/code/BootstrapVirasoro/src/ConformalBlocks/evaluate.jl:64\n",
      "  evaluate(!Matched::BootstrapVirasoro.BlockFactorized, ::T) where T\n",
      "   @ BootstrapVirasoro ~/Documents/Recherche/projet_these/code/BootstrapVirasoro/src/ConformalBlocks/evaluate.jl:60\n",
      "  ...\n",
      "\n",
      "\n",
      "Stacktrace:\n",
      " [1] top-level scope\n",
      "   @ ~/Documents/Recherche/projet_these/code/BootstrapVirasoro/examples/jl_notebook_cell_df34fa98e69747e1a8f8a730347b8e2f_X15sZmlsZQ==.jl:1"
     ]
    }
   ],
   "source": [
    "evaluate(b.blocks[:s][1], b.positions[1])"
   ]
  },
  {
   "cell_type": "code",
   "execution_count": 12,
   "id": "b74cff88",
   "metadata": {},
   "outputs": [
    {
     "data": {
      "text/plain": [
       "Dict{Field{Complex{BigFloat}}, Vector{Complex{BigFloat}}} with 42 entries:\n",
       "  V_{(4, -1//2)} => [-1.46587e-05-0.000223579im, -0.000247924-9.86149e-05im, 3.…\n",
       "  V_{(6, -2//3)} => [-4.48566e-09-3.05187e-09im, 1.7116e-09+9.9696e-09im, 1.582…\n",
       "  V_{(6, 1//2)}  => [2.60275e-09+4.18758e-09im, -7.53573e-09+4.78335e-09im, 3.5…\n",
       "  V_{(2, -1//2)} => [-0.0284754+0.127025im, 0.0558019+0.15517im, -0.0048485+0.0…\n",
       "  V_{(3, 0)}     => [0.00309697+0.00947491im, 0.00420398+0.011321im, -7.4643e-0…\n",
       "  V_{(4, 1//2)}  => [0.00022619-7.99777e-05im, 0.000192819+0.000215779im, -3.96…\n",
       "  V_{(5, 4//5)}  => [-1.01188e-07-9.29609e-07im, 1.62697e-06+3.68528e-07im, -1.…\n",
       "  V_{(6, -1//3)} => [1.88742e-09+4.63139e-09im, 9.57319e-09-8.05171e-10im, 6.95…\n",
       "  V_{(6, -5//6)} => [2.11521e-09-5.76504e-09im, -6.7629e-09+8.65756e-09im, 8.03…\n",
       "  V_{(6, 5//6)}  => [-5.59366e-10-5.91617e-09im, 6.29273e-09+7.82276e-09im, 1.6…\n",
       "  V_{(2, 1)}     => [0.0636676-0.113701im, 0.12481-0.224915im, 0.0225054-0.0138…\n",
       "  V_{(5, -1//5)} => [5.01032e-08-1.77979e-06im, -1.71917e-06-2.2866e-06im, 4.80…\n",
       "  V_{(4, 1)}     => [-0.00028455-0.000186209im, 0.000148402+8.55981e-05im, -9.0…\n",
       "  V_{(5, -4//5)} => [-8.08952e-07+6.28753e-07im, 2.01658e-06+4.64442e-07im, -1.…\n",
       "  V_{(5, -2//5)} => [1.63207e-06-4.10934e-07im, 2.37182e-07-2.74963e-06im, -1.3…\n",
       "  V_{(3, -1//3)} => [-0.00830572+0.00549634im, -0.00345111+0.0111115im, -8.6278…\n",
       "  V_{(5, 0)}     => [-1.71578e-06-5.61444e-07im, -2.8053e-06-6.11588e-07im, 2.1…\n",
       "  V_{(6, 0)}     => [1.02797e-09-4.83577e-09im, 6.81861e-10-9.42186e-09im, -1.5…\n",
       "  V_{(4, -3//4)} => [0.000209488-0.000119676im, -0.000124403-0.000154735im, 2.5…\n",
       "  ⋮              => ⋮"
      ]
     },
     "metadata": {},
     "output_type": "display_data"
    }
   ],
   "source": [
    "b.blocks[:s]"
   ]
  },
  {
   "cell_type": "code",
   "execution_count": null,
   "id": "2dba2af2",
   "metadata": {},
   "outputs": [],
   "source": []
  }
 ],
 "metadata": {
  "kernelspec": {
   "display_name": "Julia 1.11.5",
   "language": "julia",
   "name": "julia-1.11"
  },
  "language_info": {
   "file_extension": ".jl",
   "mimetype": "application/julia",
   "name": "julia",
   "version": "1.11.5"
  }
 },
 "nbformat": 4,
 "nbformat_minor": 5
}
