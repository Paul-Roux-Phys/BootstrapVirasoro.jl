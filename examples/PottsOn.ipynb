{
 "cells": [
  {
   "cell_type": "markdown",
   "id": "03777087",
   "metadata": {},
   "source": [
    "# Four point functions in the Potts and $O(n)$ models\n",
    "\n",
    "This notebook reproduces some known results about Potts and $O(n)$ four-point functions, using the new Julia code."
   ]
  },
  {
   "cell_type": "code",
   "execution_count": null,
   "id": "5d7699d5",
   "metadata": {},
   "outputs": [
    {
     "name": "stderr",
     "output_type": "stream",
     "text": [
      "\u001b[32m\u001b[1m  Activating\u001b[22m\u001b[39m project at `~/Documents/Recherche/projet_these/code/BootstrapVirasoro/examples`\n"
     ]
    },
    {
     "name": "stdout",
     "output_type": "stream",
     "text": [
      "Number of threads: 4\n"
     ]
    }
   ],
   "source": [
    "Pkg.activate(\".\"); # activate the parent environment\n",
    "using BootstrapVirasoro, BenchmarkTools\n",
    "println(\"Number of threads: $(Threads.nthreads())\")"
   ]
  },
  {
   "cell_type": "markdown",
   "id": "ad8906b8",
   "metadata": {},
   "source": [
    "## Spectra\n",
    "\n",
    "We create functions to generate the spectra of the $O(n)$ and Potts CFTs, with a cutoff:\n",
    "\n",
    "\\begin{align}\n",
    "\\mathcal{S}^{O(n)} &= \\left\\{V^d_{\\langle 1,s\\rangle}\\right\\}_{s\\in 2\\mathbb{N}+1} \\bigcup \\left\\{V_{(r,s)}\\right\\}_{\\substack{r\\in \\frac12\\mathbb{N}^*\\\\ s\\in\\frac{1}{r}\\mathbb{Z}}}  \\ ,\n",
    " \\\\\n",
    " \\mathcal{S}^{PSU(n)} &= \\left\\{V^d_{\\langle 1,s\\rangle}\\right\\}_{s\\in\\mathbb{N}^*} \\bigcup \\left\\{V_{(r,s)}\\right\\}_{\\substack{r\\in \\mathbb{N}^*\\\\ s\\in\\frac{1}{r}\\mathbb{Z}}}  \\ ,\n",
    " \\\\\n",
    " \\mathcal{S}^\\text{Potts} &= \\left\\{V^d_{\\langle 1,s\\rangle}\\right\\}_{s\\in\\mathbb{N}^*} \\bigcup \\left\\{V_{(r,s)}\\right\\}_{\\substack{r\\in \\mathbb{N}+2\\\\ s\\in\\frac{1}{r}\\mathbb{Z}}} \\bigcup  \\left\\{ V_{P_{(0,s)}}\\right\\}_{s\\in \\mathbb{N}+\\frac12}\\ .\n",
    "\\end{align}\n",
    "\n",
    "## Bootstrap equations\n",
    "\n",
    "We then numerically solve\n",
    "\n",
    "\\begin{align}\n",
    "\\sum_{V \\in \\mathcal{S}^{(s)}} D^{(s)}_V \\mathcal I^{(s)}_V (x) = \\sum_{V \\in \\mathcal{S}^{(t)}} D^{(t)}_V \\mathcal I^{(t)}_V (x) = \\sum_{V \\in \\mathcal{S}^{(u)}} D^{(u)}_V \\mathcal I^{(u)}_V (x),\n",
    "\\end{align}\n",
    "\n",
    "for some channel spectra $\\mathcal{S}^{(s)}, \\mathcal{S}^{(t)}, \\mathcal{S}^{(u)}$, where $\\mathcal I$ are interchiral conformal blocks, and the $D$'s are four-point structure constants.\n",
    "\n",
    "We solve this system as\n",
    "\\begin{equation}\n",
    "\\underbrace{\n",
    "\\begin{bmatrix}\n",
    "[\\mathcal I^{(s)}_{V_j}(x_i)]_{ij} & [-\\mathcal I^{(t)}_{V_j}(x_i)]_{ij} & [0] \\\\\n",
    "[\\mathcal I^{(s)}_{V_j}(x_i)]_{ij} & [0] & [-\\mathcal I^{(u)}_{V_j}(x_i)]_{ij}\n",
    "\\end{bmatrix}}_A\n",
    "\\begin{bmatrix}\n",
    "[D^{(s)}_{V_j}]_j \\\\\n",
    "[D^{(t)}_{V_j}]_j \\\\\n",
    "[D^{(u)}_{V_j}]_j\n",
    "\\end{bmatrix} = \n",
    "\\begin{bmatrix}\n",
    "\\sum_{V_j \\in \\text{ known}} D^{(t)}_{V_j} \\mathcal{I}^{(t)}_{V_j}(1-x_i) - \\sum_{V_j \\in \\text{ known}} D^{(s)}_{V_j} \\mathcal{I}^{(s)}_{V_j}(x_i)\\\\\n",
    "\\sum_{V_j \\in \\text{ known}} D^{(u)}_{V_j} \\mathcal{I}^{(u)}_{V_j}(1/x_i) - \\sum_{V_j \\in \\text{ known}} D^{(s)}_{V_j} \\mathcal{I}^{(s)}_{V_j}(x_i)\n",
    "\\end{bmatrix}\n",
    "\\end{equation}\n",
    "where the $x_i$ take more values than there are unknowns, i.e. $A$ is a tall rectangular matrix. \n",
    "\n",
    "To check numerical convergence, we solve two subsystems and compare the solutions. If the solutions are close, we know the computation has converged.\n"
   ]
  },
  {
   "cell_type": "code",
   "execution_count": 5,
   "id": "af82dfda",
   "metadata": {},
   "outputs": [
    {
     "data": {
      "text/plain": [
       "solve (generic function with 1 method)"
      ]
     },
     "execution_count": 5,
     "metadata": {},
     "output_type": "execute_result"
    }
   ],
   "source": [
    "function LoopFields(c, model)\n",
    "    model === :On && return vcat(\n",
    "        [Field(c, r=r, s=s) for r in 1:15 for s in -1+1//r:1//r:1],\n",
    "        [Field(c, r=r, s=s) for r in 1//2:1:15 for s in -1+1//(2r):1//r:1 if (r*s)%1 == 0],\n",
    "        [Field(c, r=1, s=s, diagonal=true) for s in 1:2:15]\n",
    "    )\n",
    "    model === :PSUn && return vcat(\n",
    "        [Field(c, r=r, s=s) for r in 1:15 for s in -1+1//r:1//r:1],\n",
    "        [Field(c, r=1, s=s, diagonal=true) for s in 1:15]\n",
    "    )\n",
    "    model === :Potts && return vcat(\n",
    "        [Field(c, r=r, s=s) for r in 2:15 for s in -1+1//r:1//r:1],\n",
    "        [Field(c, r=0, s=s, diagonal=true) for s in 1//2:1:3//2],\n",
    "        [Field(c, r=1, s=s, diagonal=true) for s in 1:15]\n",
    "    )\n",
    "end\n",
    "\n",
    "LoopSpectrum(c, model, Δmax) = Spectrum(LoopFields(c, model), Δmax, interchiral=true);\n",
    "\n",
    "function solve(;indices, signature, parity, even_spin=(), benchmark=false)\n",
    "    ext_fields = [Field(c, r=r, s=s) for (r, s) in indices]\n",
    "    co = Correlation(ext_fields..., Δmax=Δmax)\n",
    "    SOn = LoopSpectrum(c, :On, Δmax)\n",
    "    Seven = Spectrum([V for V in SOn.fields if spin(V) % 2 == 0], Δmax, interchiral=true)\n",
    "\n",
    "    specs = (; (chan =>\n",
    "        if chan in even_spin\n",
    "            Seven\n",
    "        else\n",
    "            SOn\n",
    "        end\n",
    "                for chan in (:s, :t, :u)\n",
    "    )...)\n",
    "\n",
    "    chan_spectra = ChannelSpectra(\n",
    "        co, specs, signature;\n",
    "        interchiral=true, Δmax=Δmax, parity=1\n",
    "    )\n",
    "\n",
    "    sys = BootstrapSystem(chan_spectra)\n",
    "    evaluate_blocks!(sys)\n",
    "    compute_linear_system!(sys)\n",
    "    solve!(sys)\n",
    "    if benchmark\n",
    "        println(\"precomputation of blocks coefficients\")\n",
    "        @btime ChannelSpectra(\n",
    "            $co, $SOn, $signature;\n",
    "            interchiral=true, Δmax=Δmax, parity=1,\n",
    "            exclude=(u=[Field(c, r=2, s=0)],)\n",
    "        )\n",
    "        println(\"time to compute all positions' cache\")\n",
    "        @btime BootstrapSystem($chan_spectra)\n",
    "        println(\"time to evaluate blocks\")\n",
    "        @btime evaluate_blocks!($sys)\n",
    "        println(\"time for the linear solver\")\n",
    "        @btime solve!($sys)\n",
    "    end\n",
    "    return sys\n",
    "end"
   ]
  },
  {
   "cell_type": "markdown",
   "id": "f8064650",
   "metadata": {},
   "source": [
    "## $\\langle (\\frac{1}{2}, 0)^4 \\rangle$"
   ]
  },
  {
   "cell_type": "code",
   "execution_count": 8,
   "id": "61a07909",
   "metadata": {},
   "outputs": [
    {
     "name": "stdout",
     "output_type": "stream",
     "text": [
      "\u001b[1m70×4 DataFrame\u001b[0m\n",
      "\u001b[1m Row \u001b[0m│\u001b[1m Channel \u001b[0m\u001b[1m Field         \u001b[0m\u001b[1m StructureConstant          \u001b[0m\u001b[1m RelativeError \u001b[0m\n",
      "     │\u001b[90m Symbol  \u001b[0m\u001b[90m String        \u001b[0m\u001b[90m Complex                    \u001b[0m\u001b[90m Float32       \u001b[0m\n",
      "─────┼───────────────────────────────────────────────────────────────────\n",
      "   1 │ s        V_{<1, 1>}              1.0+0.0im            0.0\n",
      "   2 │ s        V_{(1, 0)}        -0.182995+0.243693im       2.70677e-20\n",
      "   3 │ s        V_{(2, 0)}     -0.000165018+0.000981007im    6.39777e-18\n",
      "   4 │ s        V_{(2, 1)}      0.000133433-0.000458461im    4.47326e-18\n",
      "   5 │ s        V_{(3, 0)}      2.60868e-08+1.31146e-08im    1.66964e-12\n",
      "   6 │ s        V_{(3, 2//3)}  -1.26635e-08-6.18514e-09im    1.18231e-12\n",
      "   7 │ s        V_{(4, 0)}     -5.24347e-14+1.08755e-15im    9.21757e-6\n",
      "   8 │ s        V_{(4, 1//2)}   3.75941e-14+1.58328e-14im    7.1434e-6\n",
      "   9 │ s        V_{(4, 1)}     -2.07519e-14-1.48788e-14im    5.3598e-6\n",
      "  10 │ s        V_{(5, 0)}     -3.00062e-18-1.31584e-18im    0.801243\n",
      "  11 │ s        V_{(5, 2//5)}  -2.62088e-18-6.178e-19im      0.770253\n",
      "  12 │ s        V_{(5, 4//5)}  -1.73607e-18+2.96869e-20im    0.750002\n",
      "  13 │ s        V_{(6, 0)}      7.10582e-18-2.39461e-17im    0.858817\n",
      "  14 │ s        V_{(6, 1//3)}   3.75745e-18-2.32844e-17im    0.850298\n",
      "  15 │ s        V_{(6, 2//3)}  -1.65189e-18-1.91127e-17im    0.839551\n",
      "  16 │ s        V_{(6, 1)}     -3.06853e-18-1.17184e-17im    0.836633\n",
      "  17 │ t        V_{(1, 0)}        -0.182995+0.243693im       2.70677e-20\n",
      "  18 │ t        V_{(1, 1)}     -0.000165018+0.000981007im    6.39777e-18\n",
      "  19 │ t        V_{(2, 0)}      0.000133433-0.000458461im    4.47326e-18\n",
      "  20 │ t        V_{(2, 1//2)}   2.60868e-08+1.31146e-08im    1.66964e-12\n",
      "  21 │ t        V_{(2, 1)}     -1.26635e-08-6.18514e-09im    1.18231e-12\n",
      "  22 │ t        V_{(3, 0)}     -5.24347e-14+1.08755e-15im    9.21757e-6\n",
      "  23 │ t        V_{(3, 1//3)}   3.75941e-14+1.58328e-14im    7.1434e-6\n",
      "  24 │ t        V_{(3, 2//3)}  -2.07519e-14-1.48788e-14im    5.3598e-6\n",
      "  25 │ t        V_{(3, 1)}     -3.00062e-18-1.31584e-18im    0.801243\n",
      "  26 │ t        V_{(4, 0)}     -2.62088e-18-6.178e-19im      0.770253\n",
      "  27 │ t        V_{(4, 1//4)}  -1.73607e-18+2.96869e-20im    0.750002\n",
      "  28 │ t        V_{(4, 1//2)}   7.10582e-18-2.39461e-17im    0.858817\n",
      "  29 │ t        V_{(4, 3//4)}   3.75745e-18-2.32844e-17im    0.850298\n",
      "  30 │ t        V_{(4, 1)}     -1.65189e-18-1.91127e-17im    0.839551\n",
      "  31 │ t        V_{(5, 0)}     -3.06853e-18-1.17184e-17im    0.836633\n",
      "  32 │ t        V_{(5, 1//5)}      0.372344+0.260527im       9.00662e-21\n",
      "  33 │ t        V_{(5, 2//5)}      0.164205+0.0665377im      1.25746e-20\n",
      "  34 │ t        V_{(5, 3//5)}    -0.0021056-0.00194425im     4.72016e-18\n",
      "  35 │ t        V_{(5, 4//5)}   -0.00182593-0.000855204im    5.2979e-18\n",
      "  36 │ t        V_{(5, 1)}     -0.000689941-0.000175913im    7.15571e-18\n",
      "  37 │ t        V_{(6, 0)}     -4.17836e-09+1.69308e-07im    5.85633e-12\n",
      "  38 │ t        V_{(6, 1//6)}   1.00223e-08+1.92688e-07im    4.66227e-12\n",
      "  39 │ t        V_{(6, 1//3)}   1.91254e-08+1.4321e-07im     4.642e-12\n",
      "  40 │ t        V_{(6, 1//2)}   1.72415e-08+7.22658e-08im    5.53017e-12\n",
      "  41 │ t        V_{(6, 2//3)}   2.53721e-13+1.08927e-13im    0.00224507\n",
      "  42 │ t        V_{(6, 5//6)}   2.46255e-13+1.11782e-13im    0.00216356\n",
      "  43 │ t        V_{(6, 1)}      2.09097e-13+8.88944e-14im    0.00219044\n",
      "  44 │ u        V_{(1, 0)}         0.372344+0.260527im       9.00662e-21\n",
      "  45 │ u        V_{(1, 1)}         0.164205+0.0665377im      1.25746e-20\n",
      "  46 │ u        V_{(2, 0)}       -0.0021056-0.00194425im     4.72016e-18\n",
      "  47 │ u        V_{(2, 1//2)}   -0.00182593-0.000855204im    5.2979e-18\n",
      "  48 │ u        V_{(2, 1)}     -0.000689941-0.000175913im    7.15571e-18\n",
      "  49 │ u        V_{(3, 0)}     -4.17836e-09+1.69308e-07im    5.85633e-12\n",
      "  50 │ u        V_{(3, 1//3)}   1.00223e-08+1.92688e-07im    4.66227e-12\n",
      "  51 │ u        V_{(3, 2//3)}   1.91254e-08+1.4321e-07im     4.642e-12\n",
      "  52 │ u        V_{(3, 1)}      1.72415e-08+7.22658e-08im    5.53017e-12\n",
      "  53 │ u        V_{(4, 0)}      2.53721e-13+1.08927e-13im    0.00224507\n",
      "  54 │ u        V_{(4, 1//4)}   2.46255e-13+1.11782e-13im    0.00216356\n",
      "  55 │ u        V_{(4, 1//2)}   2.09097e-13+8.88944e-14im    0.00219044\n",
      "  56 │ u        V_{(4, 3//4)}   1.65729e-13+5.47057e-14im    0.00216074\n",
      "  57 │ u        V_{(4, 1)}      1.21427e-13+2.98723e-14im    0.00205908\n",
      "  58 │ u        V_{(5, 0)}     -1.52776e-16-4.64781e-15im    1.45278\n",
      "  59 │ u        V_{(5, 1//5)}   1.87869e-16+4.48633e-15im    1.45279\n",
      "  60 │ u        V_{(5, 2//5)}  -2.77805e-16-4.03276e-15im    1.45283\n",
      "  61 │ u        V_{(5, 3//5)}    3.8439e-16+3.37081e-15im    1.45287\n",
      "  62 │ u        V_{(5, 4//5)}  -4.64799e-16-2.61345e-15im    1.45292\n",
      "  63 │ u        V_{(5, 1)}      4.90381e-16+1.87294e-15im    1.45293\n",
      "  64 │ u        V_{(6, 0)}      1.90239e-22+5.88856e-22im    1.28415\n",
      "  65 │ u        V_{(6, 1//6)}  -1.63442e-22-4.82592e-22im    1.28357\n",
      "  66 │ u        V_{(6, 1//3)}   1.00107e-22+2.53692e-22im    1.28149\n",
      "  67 │ u        V_{(6, 1//2)}  -3.81835e-23-7.05044e-23im    1.27567\n",
      "  68 │ u        V_{(6, 2//3)}   6.11252e-24+8.48623e-24im    1.25625\n",
      "  69 │ u        V_{(6, 5//6)}  -1.82615e-24-1.64181e-23im    1.27293\n",
      "  70 │ u        V_{(6, 1)}      4.30474e-24+2.12515e-23im    1.27242\n"
     ]
    }
   ],
   "source": [
    "Δmax, prec = 30, 25\n",
    "setprecision(BigFloat, prec, base=10);\n",
    "c = CC(β=1 / (big\"0.8\" + big\"0.1\" * im))\n",
    "ind = ((1 // 2, 0), (1 // 2, 0), (1 // 2, 0), (1 // 2, 0))\n",
    "sig = (s=0, t=1, u=1)\n",
    "sol = solve(indices=ind, signature=sig, parity=1, even_spin=(:s,), benchmark=false)\n",
    "# println(\"total time to setup and solve the crossing equations:\")\n",
    "# @btime solve(indices=ind, signature=sig, parity=1, even_spin=(:s,))\n",
    "println(sol.structure_constants)"
   ]
  },
  {
   "cell_type": "code",
   "execution_count": 7,
   "id": "d739223e",
   "metadata": {},
   "outputs": [
    {
     "name": "stdout",
     "output_type": "stream",
     "text": [
      "  4.086 s (24838478 allocations: 1.07 GiB)\n"
     ]
    }
   ],
   "source": [
    "@btime BootstrapVirasoro.compute_reference!(sol)"
   ]
  },
  {
   "cell_type": "code",
   "execution_count": null,
   "id": "e5e8e7c8",
   "metadata": {},
   "outputs": [
    {
     "data": {
      "text/plain": [
       "-1.53062953992539103539011639e+13 - 4.45554254074160083697935488e+12im"
      ]
     },
     "execution_count": 29,
     "metadata": {},
     "output_type": "execute_result"
    }
   ],
   "source": [
    "b = collect(values(sol.spectra.s.blocks))[5]\n",
    "using BarnesDoubleGamma\n",
    "DG = DoubleGamma(c.β)\n",
    "\n",
    "@btime BootstrapVirasoro.compute_reference(b, DG)\n",
    "\n",
    "V = b.channel_field\n",
    "@btime BootstrapVirasoro.Bref(V, DG)\n",
    "@btime BootstrapVirasoro.Cref(sol.correlation.fields[1], sol.correlation.fields[2], V, DG)"
   ]
  },
  {
   "cell_type": "markdown",
   "id": "bcdd3828",
   "metadata": {},
   "source": [
    "Benchmarks:\n",
    "| Precision          | Python | Julia |\n",
    "|----------|----------|----------|\n",
    "| $\\Delta_{\\mathrm{max}}=20$, 13 digits  | 2min23s  | 2.3s  |\n",
    "| $\\Delta_{\\mathrm{max}}=30$, 25 digits  | 8min10s  | 3.0s  |\n",
    "| $\\Delta_{\\mathrm{max}}=40$, 35 digits  | 23min18s  | 12.6s  |"
   ]
  },
  {
   "cell_type": "markdown",
   "id": "9e3f3ac3",
   "metadata": {},
   "source": [
    "## $\\langle (\\frac{1}{2}, 0)^2 (1, 0)^2 \\rangle$"
   ]
  },
  {
   "cell_type": "code",
   "execution_count": 7,
   "id": "b5bc34cc",
   "metadata": {},
   "outputs": [
    {
     "ename": "MethodError",
     "evalue": "MethodError: no method matching Union{Int64, Rational}(::Bool)\nThe type `Union{Int64, Rational}` exists, but no method is defined for this combination of argument types when trying to construct it.\n\nClosest candidates are:\n  (::Type{T})(::T) where T<:Number\n   @ Core boot.jl:900\n  (::Type{T})(!Matched::AbstractChar) where T<:Union{AbstractChar, Number}\n   @ Base char.jl:50\n  (::Type{T})(!Matched::Complex) where T<:Real\n   @ Base complex.jl:44\n  ...\n",
     "output_type": "error",
     "traceback": [
      "MethodError: no method matching Union{Int64, Rational}(::Bool)\n",
      "The type `Union{Int64, Rational}` exists, but no method is defined for this combination of argument types when trying to construct it.\n",
      "\n",
      "Closest candidates are:\n",
      "  (::Type{T})(::T) where T<:Number\n",
      "   @ Core boot.jl:900\n",
      "  (::Type{T})(!Matched::AbstractChar) where T<:Union{AbstractChar, Number}\n",
      "   @ Base char.jl:50\n",
      "  (::Type{T})(!Matched::Complex) where T<:Real\n",
      "   @ Base complex.jl:44\n",
      "  ...\n",
      "\n",
      "\n",
      "Stacktrace:\n",
      "  [1] convert(::Type{Union{Int64, Rational}}, x::Bool)\n",
      "    @ Base ./number.jl:7\n",
      "  [2] ConformalDimension{Complex{BigFloat}}(c::CentralCharge{Complex{BigFloat}}, P::Complex{BigFloat}, p::Complex{BigFloat}, δ::Complex{BigFloat}, Δ::Complex{BigFloat}, r::Bool, s::Int64, isKac::Int64)\n",
      "    @ BootstrapVirasoro ~/Documents/Recherche/projet_these/code/BootstrapVirasoro/src/CFTData/conformal_dimensions.jl:23\n",
      "  [3] ConformalDimension(c::CentralCharge{Complex{BigFloat}}, sym::Symbol, P::Int64; r::Int64, s::Int64)\n",
      "    @ BootstrapVirasoro ~/Documents/Recherche/projet_these/code/BootstrapVirasoro/src/CFTData/conformal_dimensions.jl:84\n",
      "  [4] Field(c::CentralCharge{Complex{BigFloat}}, sym::Symbol, dim::Int64; r::Int64, s::Int64, degenerate::Bool, diagonal::Bool)\n",
      "    @ BootstrapVirasoro ~/Documents/Recherche/projet_these/code/BootstrapVirasoro/src/CFTData/fields.jl:64\n",
      "  [5] Field(c::CentralCharge{Complex{BigFloat}}; r::Int64, s::Int64, diagonal::Bool, degenerate::Bool, Δ::Missing, δ::Missing, P::Missing, p::Missing)\n",
      "    @ BootstrapVirasoro ~/Documents/Recherche/projet_these/code/BootstrapVirasoro/src/CFTData/fields.jl:99\n",
      "  [6] (::var\"#40#43\")(::Tuple{Int64, Int64})\n",
      "    @ Main ./none:0\n",
      "  [7] iterate\n",
      "    @ ./generator.jl:48 [inlined]\n",
      "  [8] collect(itr::Base.Generator{Tuple{Tuple{Int64, Int64}, Tuple{Int64, Int64}, Tuple{Rational{Int64}, Int64}, Tuple{Rational{Int64}, Int64}}, var\"#40#43\"})\n",
      "    @ Base ./array.jl:791\n",
      "  [9] solve(; indices::Tuple{Tuple{Int64, Int64}, Tuple{Int64, Int64}, Tuple{Rational{Int64}, Int64}, Tuple{Rational{Int64}, Int64}}, signature::@NamedTuple{s::Int64, t::Rational{Int64}, u::Rational{Int64}}, parity::Int64, even_spin::Tuple{Symbol}, benchmark::Bool)\n",
      "    @ Main ~/Documents/Recherche/projet_these/code/BootstrapVirasoro/examples/jl_notebook_cell_df34fa98e69747e1a8f8a730347b8e2f_W4sZmlsZQ==.jl:21\n",
      " [10] top-level scope\n",
      "    @ ~/Documents/Recherche/projet_these/code/BootstrapVirasoro/examples/jl_notebook_cell_df34fa98e69747e1a8f8a730347b8e2f_X14sZmlsZQ==.jl:3"
     ]
    }
   ],
   "source": [
    "ind = ((1, 0), (1, 0), (1//2, 0), (1//2, 0))\n",
    "sig = (s=0, t=3//2, u=3//2)\n",
    "println(solve(indices=ind, signature=sig, parity=1, even_spin=(:s,)).structure_constants)"
   ]
  },
  {
   "cell_type": "code",
   "execution_count": 8,
   "id": "836d7e90",
   "metadata": {},
   "outputs": [
    {
     "ename": "MethodError",
     "evalue": "MethodError: no method matching Union{Int64, Rational}(::Bool)\nThe type `Union{Int64, Rational}` exists, but no method is defined for this combination of argument types when trying to construct it.\n\nClosest candidates are:\n  (::Type{T})(::T) where T<:Number\n   @ Core boot.jl:900\n  (::Type{T})(!Matched::AbstractChar) where T<:Union{AbstractChar, Number}\n   @ Base char.jl:50\n  (::Type{T})(!Matched::Complex) where T<:Real\n   @ Base complex.jl:44\n  ...\n",
     "output_type": "error",
     "traceback": [
      "MethodError: no method matching Union{Int64, Rational}(::Bool)\n",
      "The type `Union{Int64, Rational}` exists, but no method is defined for this combination of argument types when trying to construct it.\n",
      "\n",
      "Closest candidates are:\n",
      "  (::Type{T})(::T) where T<:Number\n",
      "   @ Core boot.jl:900\n",
      "  (::Type{T})(!Matched::AbstractChar) where T<:Union{AbstractChar, Number}\n",
      "   @ Base char.jl:50\n",
      "  (::Type{T})(!Matched::Complex) where T<:Real\n",
      "   @ Base complex.jl:44\n",
      "  ...\n",
      "\n",
      "\n",
      "Stacktrace:\n",
      "  [1] convert(::Type{Union{Int64, Rational}}, x::Bool)\n",
      "    @ Base ./number.jl:7\n",
      "  [2] ConformalDimension{Complex{BigFloat}}(c::CentralCharge{Complex{BigFloat}}, P::Complex{BigFloat}, p::Complex{BigFloat}, δ::Complex{BigFloat}, Δ::Complex{BigFloat}, r::Bool, s::Int64, isKac::Int64)\n",
      "    @ BootstrapVirasoro ~/Documents/Recherche/projet_these/code/BootstrapVirasoro/src/CFTData/conformal_dimensions.jl:23\n",
      "  [3] ConformalDimension(c::CentralCharge{Complex{BigFloat}}, sym::Symbol, P::Int64; r::Int64, s::Int64)\n",
      "    @ BootstrapVirasoro ~/Documents/Recherche/projet_these/code/BootstrapVirasoro/src/CFTData/conformal_dimensions.jl:84\n",
      "  [4] Field(c::CentralCharge{Complex{BigFloat}}, sym::Symbol, dim::Int64; r::Int64, s::Int64, degenerate::Bool, diagonal::Bool)\n",
      "    @ BootstrapVirasoro ~/Documents/Recherche/projet_these/code/BootstrapVirasoro/src/CFTData/fields.jl:64\n",
      "  [5] Field(c::CentralCharge{Complex{BigFloat}}; r::Int64, s::Int64, diagonal::Bool, degenerate::Bool, Δ::Missing, δ::Missing, P::Missing, p::Missing)\n",
      "    @ BootstrapVirasoro ~/Documents/Recherche/projet_these/code/BootstrapVirasoro/src/CFTData/fields.jl:99\n",
      "  [6] (::var\"#40#43\")(::Tuple{Int64, Int64})\n",
      "    @ Main ./none:0\n",
      "  [7] iterate\n",
      "    @ ./generator.jl:48 [inlined]\n",
      "  [8] collect(itr::Base.Generator{Tuple{Tuple{Int64, Int64}, Tuple{Int64, Int64}, Tuple{Rational{Int64}, Int64}, Tuple{Rational{Int64}, Int64}}, var\"#40#43\"})\n",
      "    @ Base ./array.jl:791\n",
      "  [9] solve(; indices::Tuple{Tuple{Int64, Int64}, Tuple{Int64, Int64}, Tuple{Rational{Int64}, Int64}, Tuple{Rational{Int64}, Int64}}, signature::@NamedTuple{s::Int64, t::Rational{Int64}, u::Rational{Int64}}, parity::Int64, even_spin::Tuple{}, benchmark::Bool)\n",
      "    @ Main ~/Documents/Recherche/projet_these/code/BootstrapVirasoro/examples/jl_notebook_cell_df34fa98e69747e1a8f8a730347b8e2f_W4sZmlsZQ==.jl:21\n",
      " [10] top-level scope\n",
      "    @ ~/Documents/Recherche/projet_these/code/BootstrapVirasoro/examples/jl_notebook_cell_df34fa98e69747e1a8f8a730347b8e2f_X15sZmlsZQ==.jl:2"
     ]
    }
   ],
   "source": [
    "sig = (s=1, t=1//2, u=3//2)\n",
    "println(solve(indices=ind, signature=sig, parity=1).structure_constants)"
   ]
  },
  {
   "cell_type": "code",
   "execution_count": 9,
   "id": "e554a250",
   "metadata": {},
   "outputs": [
    {
     "ename": "MethodError",
     "evalue": "MethodError: no method matching Union{Int64, Rational}(::Bool)\nThe type `Union{Int64, Rational}` exists, but no method is defined for this combination of argument types when trying to construct it.\n\nClosest candidates are:\n  (::Type{T})(::T) where T<:Number\n   @ Core boot.jl:900\n  (::Type{T})(!Matched::AbstractChar) where T<:Union{AbstractChar, Number}\n   @ Base char.jl:50\n  (::Type{T})(!Matched::Complex) where T<:Real\n   @ Base complex.jl:44\n  ...\n",
     "output_type": "error",
     "traceback": [
      "MethodError: no method matching Union{Int64, Rational}(::Bool)\n",
      "The type `Union{Int64, Rational}` exists, but no method is defined for this combination of argument types when trying to construct it.\n",
      "\n",
      "Closest candidates are:\n",
      "  (::Type{T})(::T) where T<:Number\n",
      "   @ Core boot.jl:900\n",
      "  (::Type{T})(!Matched::AbstractChar) where T<:Union{AbstractChar, Number}\n",
      "   @ Base char.jl:50\n",
      "  (::Type{T})(!Matched::Complex) where T<:Real\n",
      "   @ Base complex.jl:44\n",
      "  ...\n",
      "\n",
      "\n",
      "Stacktrace:\n",
      "  [1] convert(::Type{Union{Int64, Rational}}, x::Bool)\n",
      "    @ Base ./number.jl:7\n",
      "  [2] ConformalDimension{Complex{BigFloat}}(c::CentralCharge{Complex{BigFloat}}, P::Complex{BigFloat}, p::Complex{BigFloat}, δ::Complex{BigFloat}, Δ::Complex{BigFloat}, r::Bool, s::Int64, isKac::Int64)\n",
      "    @ BootstrapVirasoro ~/Documents/Recherche/projet_these/code/BootstrapVirasoro/src/CFTData/conformal_dimensions.jl:23\n",
      "  [3] ConformalDimension(c::CentralCharge{Complex{BigFloat}}, sym::Symbol, P::Int64; r::Int64, s::Int64)\n",
      "    @ BootstrapVirasoro ~/Documents/Recherche/projet_these/code/BootstrapVirasoro/src/CFTData/conformal_dimensions.jl:84\n",
      "  [4] Field(c::CentralCharge{Complex{BigFloat}}, sym::Symbol, dim::Int64; r::Int64, s::Int64, degenerate::Bool, diagonal::Bool)\n",
      "    @ BootstrapVirasoro ~/Documents/Recherche/projet_these/code/BootstrapVirasoro/src/CFTData/fields.jl:64\n",
      "  [5] Field(c::CentralCharge{Complex{BigFloat}}; r::Int64, s::Int64, diagonal::Bool, degenerate::Bool, Δ::Missing, δ::Missing, P::Missing, p::Missing)\n",
      "    @ BootstrapVirasoro ~/Documents/Recherche/projet_these/code/BootstrapVirasoro/src/CFTData/fields.jl:99\n",
      "  [6] (::var\"#40#43\")(::Tuple{Int64, Int64})\n",
      "    @ Main ./none:0\n",
      "  [7] iterate\n",
      "    @ ./generator.jl:48 [inlined]\n",
      "  [8] collect(itr::Base.Generator{Tuple{Tuple{Int64, Int64}, Tuple{Int64, Int64}, Tuple{Rational{Int64}, Int64}, Tuple{Rational{Int64}, Int64}}, var\"#40#43\"})\n",
      "    @ Base ./array.jl:791\n",
      "  [9] solve(; indices::Tuple{Tuple{Int64, Int64}, Tuple{Int64, Int64}, Tuple{Rational{Int64}, Int64}, Tuple{Rational{Int64}, Int64}}, signature::@NamedTuple{s::Int64, t::Rational{Int64}, u::Rational{Int64}}, parity::Int64, even_spin::Tuple{}, benchmark::Bool)\n",
      "    @ Main ~/Documents/Recherche/projet_these/code/BootstrapVirasoro/examples/jl_notebook_cell_df34fa98e69747e1a8f8a730347b8e2f_W4sZmlsZQ==.jl:21\n",
      " [10] top-level scope\n",
      "    @ ~/Documents/Recherche/projet_these/code/BootstrapVirasoro/examples/jl_notebook_cell_df34fa98e69747e1a8f8a730347b8e2f_X16sZmlsZQ==.jl:2"
     ]
    }
   ],
   "source": [
    "sig = (s=1, t=3//2, u=1//2)\n",
    "println(solve(indices=ind, signature=sig, parity=1).structure_constants)"
   ]
  },
  {
   "cell_type": "markdown",
   "id": "cd73a173",
   "metadata": {},
   "source": [
    "# Torus one point functions"
   ]
  },
  {
   "cell_type": "code",
   "execution_count": 10,
   "id": "85b2ec3e",
   "metadata": {},
   "outputs": [
    {
     "ename": "MethodError",
     "evalue": "MethodError: no method matching Union{Int64, Rational}(::Bool)\nThe type `Union{Int64, Rational}` exists, but no method is defined for this combination of argument types when trying to construct it.\n\nClosest candidates are:\n  (::Type{T})(::T) where T<:Number\n   @ Core boot.jl:900\n  (::Type{T})(!Matched::AbstractChar) where T<:Union{AbstractChar, Number}\n   @ Base char.jl:50\n  (::Type{T})(!Matched::Complex) where T<:Real\n   @ Base complex.jl:44\n  ...\n",
     "output_type": "error",
     "traceback": [
      "MethodError: no method matching Union{Int64, Rational}(::Bool)\n",
      "The type `Union{Int64, Rational}` exists, but no method is defined for this combination of argument types when trying to construct it.\n",
      "\n",
      "Closest candidates are:\n",
      "  (::Type{T})(::T) where T<:Number\n",
      "   @ Core boot.jl:900\n",
      "  (::Type{T})(!Matched::AbstractChar) where T<:Union{AbstractChar, Number}\n",
      "   @ Base char.jl:50\n",
      "  (::Type{T})(!Matched::Complex) where T<:Real\n",
      "   @ Base complex.jl:44\n",
      "  ...\n",
      "\n",
      "\n",
      "Stacktrace:\n",
      " [1] convert(::Type{Union{Int64, Rational}}, x::Bool)\n",
      "   @ Base ./number.jl:7\n",
      " [2] ConformalDimension{Complex{BigFloat}}(c::CentralCharge{Complex{BigFloat}}, P::Complex{BigFloat}, p::Complex{BigFloat}, δ::Complex{BigFloat}, Δ::Complex{BigFloat}, r::Bool, s::Int64, isKac::Int64)\n",
      "   @ BootstrapVirasoro ~/Documents/Recherche/projet_these/code/BootstrapVirasoro/src/CFTData/conformal_dimensions.jl:23\n",
      " [3] ConformalDimension(c::CentralCharge{Complex{BigFloat}}, sym::Symbol, P::Int64; r::Int64, s::Int64)\n",
      "   @ BootstrapVirasoro ~/Documents/Recherche/projet_these/code/BootstrapVirasoro/src/CFTData/conformal_dimensions.jl:84\n",
      " [4] Field(c::CentralCharge{Complex{BigFloat}}, sym::Symbol, dim::Int64; r::Int64, s::Int64, degenerate::Bool, diagonal::Bool)\n",
      "   @ BootstrapVirasoro ~/Documents/Recherche/projet_these/code/BootstrapVirasoro/src/CFTData/fields.jl:64\n",
      " [5] Field(c::CentralCharge{Complex{BigFloat}}; r::Int64, s::Int64, diagonal::Bool, degenerate::Bool, Δ::Missing, δ::Missing, P::Missing, p::Missing)\n",
      "   @ BootstrapVirasoro ~/Documents/Recherche/projet_these/code/BootstrapVirasoro/src/CFTData/fields.jl:99\n",
      " [6] top-level scope\n",
      "   @ ~/Documents/Recherche/projet_these/code/BootstrapVirasoro/examples/jl_notebook_cell_df34fa98e69747e1a8f8a730347b8e2f_X21sZmlsZQ==.jl:1"
     ]
    }
   ],
   "source": [
    "V1 = Field(c, r=1, s=0)\n",
    "co = Correlation(V1, Δmax=Δmax)\n",
    "SOn = LoopSpectrum(c, :On, Δmax)\n",
    "signature = (s=1//2, t=0, u=1//2)\n",
    "schan = ChannelSpectrum(co, co.Nmax, :s)\n",
    "chan_spectra = ChannelSpectra(\n",
    "    co, SOn, signature;\n",
    "    interchiral=true, Δmax=Δmax, parity=1\n",
    ")\n",
    "sys = BootstrapSystem(chan_spectra)\n",
    "evaluate_blocks!(sys)\n",
    "compute_linear_system!(sys)\n",
    "solve!(sys)\n",
    "println(sys.structure_constants)"
   ]
  },
  {
   "cell_type": "code",
   "execution_count": 11,
   "id": "3abe8219",
   "metadata": {},
   "outputs": [
    {
     "ename": "UndefVarError",
     "evalue": "UndefVarError: `DoubleGamma` not defined in `Main`\nSuggestion: check for spelling errors or missing imports.\nHint: a global variable of this name may be made accessible by importing BarnesDoubleGamma in the current active module Main",
     "output_type": "error",
     "traceback": [
      "UndefVarError: `DoubleGamma` not defined in `Main`\n",
      "Suggestion: check for spelling errors or missing imports.\n",
      "Hint: a global variable of this name may be made accessible by importing BarnesDoubleGamma in the current active module Main\n",
      "\n",
      "Stacktrace:\n",
      " [1] top-level scope\n",
      "   @ ~/Documents/Recherche/projet_these/code/BootstrapVirasoro/examples/jl_notebook_cell_df34fa98e69747e1a8f8a730347b8e2f_X22sZmlsZQ==.jl:4"
     ]
    }
   ],
   "source": [
    "Δmax, prec = 30, 25\n",
    "setprecision(BigFloat, prec, base=10);\n",
    "c = CC(β=1 / (big\"0.8\" + big\"0.1\" * im))\n",
    "DG = DoubleGamma(c.β)\n",
    "@btime DG(big\"0.4\"+big\"0.1\"*im)"
   ]
  },
  {
   "cell_type": "code",
   "execution_count": 12,
   "id": "38ca179f",
   "metadata": {},
   "outputs": [],
   "source": []
  }
 ],
 "metadata": {
  "kernelspec": {
   "display_name": "Julia 1.11.5",
   "language": "julia",
   "name": "julia-1.11"
  },
  "language_info": {
   "file_extension": ".jl",
   "mimetype": "application/julia",
   "name": "julia",
   "version": "1.11.5"
  }
 },
 "nbformat": 4,
 "nbformat_minor": 5
}
