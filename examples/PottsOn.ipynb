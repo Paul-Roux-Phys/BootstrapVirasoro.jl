{
 "cells": [
  {
   "cell_type": "markdown",
   "id": "03777087",
   "metadata": {},
   "source": [
    "# Four point functions in the Potts and $O(n)$ models\n",
    "\n",
    "This notebook reproduces some known results about Potts and $O(n)$ four-point functions, using the new Julia code."
   ]
  },
  {
   "cell_type": "code",
   "execution_count": 1,
   "id": "5d7699d5",
   "metadata": {},
   "outputs": [
    {
     "name": "stderr",
     "output_type": "stream",
     "text": [
      "\u001b[32m\u001b[1m  Activating\u001b[22m\u001b[39m project at `~/Documents/Recherche/projet_these/code/BootstrapVirasoro/examples`\n"
     ]
    },
    {
     "name": "stdout",
     "output_type": "stream",
     "text": [
      "Number of threads: 4\n"
     ]
    }
   ],
   "source": [
    "Pkg.activate(\".\"); # activate the parent environment\n",
    "using BootstrapVirasoro, BenchmarkTools\n",
    "\n",
    "Threads.nthreads() == 1 && \n",
    "    println(\"You are using a single thread. Consider starting julia with more threads, for instance by setting\n",
    "    the environment variable `export JULIA_NUM_THREADS=auto`\");\n",
    "println(\"Number of threads: $(Threads.nthreads())\")"
   ]
  },
  {
   "cell_type": "markdown",
   "id": "ad8906b8",
   "metadata": {},
   "source": [
    "## Spectra\n",
    "\n",
    "We create functions to generate the spectra of the $O(n)$ and Potts CFTs, with a cutoff:\n",
    "\n",
    "\\begin{align}\n",
    "\\mathcal{S}^{O(n)} &= \\left\\{V^d_{\\langle 1,s\\rangle}\\right\\}_{s\\in 2\\mathbb{N}+1} \\bigcup \\left\\{V_{(r,s)}\\right\\}_{\\substack{r\\in \\frac12\\mathbb{N}^*\\\\ s\\in\\frac{1}{r}\\mathbb{Z}}}  \\ ,\n",
    " \\\\\n",
    " \\mathcal{S}^{PSU(n)} &= \\left\\{V^d_{\\langle 1,s\\rangle}\\right\\}_{s\\in\\mathbb{N}^*} \\bigcup \\left\\{V_{(r,s)}\\right\\}_{\\substack{r\\in \\mathbb{N}^*\\\\ s\\in\\frac{1}{r}\\mathbb{Z}}}  \\ ,\n",
    " \\\\\n",
    " \\mathcal{S}^\\text{Potts} &= \\left\\{V^d_{\\langle 1,s\\rangle}\\right\\}_{s\\in\\mathbb{N}^*} \\bigcup \\left\\{V_{(r,s)}\\right\\}_{\\substack{r\\in \\mathbb{N}+2\\\\ s\\in\\frac{1}{r}\\mathbb{Z}}} \\bigcup  \\left\\{ V_{P_{(0,s)}}\\right\\}_{s\\in \\mathbb{N}+\\frac12}\\ .\n",
    "\\end{align}\n",
    "\n",
    "## Bootstrap equations\n",
    "\n",
    "We then numerically solve\n",
    "\n",
    "\\begin{align}\n",
    "\\sum_{V \\in \\mathcal{S}^{(s)}} D^{(s)}_V \\mathcal I^{(s)}_V (x) = \\sum_{V \\in \\mathcal{S}^{(t)}} D^{(t)}_V \\mathcal I^{(t)}_V (x) = \\sum_{V \\in \\mathcal{S}^{(u)}} D^{(u)}_V \\mathcal I^{(u)}_V (x),\n",
    "\\end{align}\n",
    "\n",
    "for some channel spectra $\\mathcal{S}^{(s)}, \\mathcal{S}^{(t)}, \\mathcal{S}^{(u)}$, where $\\mathcal I$ are interchiral conformal blocks, and the $D$'s are four-point structure constants.\n",
    "\n",
    "We solve this system as\n",
    "\\begin{equation}\n",
    "\\underbrace{\n",
    "\\begin{bmatrix}\n",
    "[\\mathcal I^{(s)}_{V_j}(x_i)]_{ij} & [-\\mathcal I^{(t)}_{V_j}(x_i)]_{ij} & [0] \\\\\n",
    "[\\mathcal I^{(s)}_{V_j}(x_i)]_{ij} & [0] & [-\\mathcal I^{(u)}_{V_j}(x_i)]_{ij}\n",
    "\\end{bmatrix}}_A\n",
    "\\begin{bmatrix}\n",
    "[D^{(s)}_{V_j}]_j \\\\\n",
    "[D^{(t)}_{V_j}]_j \\\\\n",
    "[D^{(u)}_{V_j}]_j\n",
    "\\end{bmatrix} = \n",
    "\\begin{bmatrix}\n",
    "\\sum_{V_j \\in \\text{ known}} D^{(t)}_{V_j} \\mathcal{I}^{(t)}_{V_j}(1-x_i) - \\sum_{V_j \\in \\text{ known}} D^{(s)}_{V_j} \\mathcal{I}^{(s)}_{V_j}(x_i)\\\\\n",
    "\\sum_{V_j \\in \\text{ known}} D^{(u)}_{V_j} \\mathcal{I}^{(u)}_{V_j}(1/x_i) - \\sum_{V_j \\in \\text{ known}} D^{(s)}_{V_j} \\mathcal{I}^{(s)}_{V_j}(x_i)\n",
    "\\end{bmatrix}\n",
    "\\end{equation}\n",
    "where the $x_i$ take more values than there are unknowns, i.e. $A$ is a tall rectangular matrix. \n",
    "\n",
    "To check numerical convergence, we solve two subsystems and compare the solutions. If the solutions are close, we know the computation has converged.\n"
   ]
  },
  {
   "cell_type": "code",
   "execution_count": 2,
   "id": "af82dfda",
   "metadata": {},
   "outputs": [
    {
     "data": {
      "text/plain": [
       "solve (generic function with 1 method)"
      ]
     },
     "metadata": {},
     "output_type": "display_data"
    }
   ],
   "source": [
    "function LoopFields(c, model)\n",
    "    model === :On && return vcat(\n",
    "        [Field(c, r=r, s=s) for r in 1:15 for s in -1+1//r:1//r:1],\n",
    "        [Field(c, r=r, s=s) for r in 1//2:1:15 for s in -1+1//(2r):1//r:1 if (r*s)%1 == 0],\n",
    "        [Field(c, r=1, s=s, diagonal=true) for s in 1:2:15]\n",
    "    )\n",
    "    model === :PSUn && return vcat(\n",
    "        [Field(c, r=r, s=s) for r in 1:15 for s in -1+1//r:1//r:1],\n",
    "        [Field(c, r=1, s=s, diagonal=true) for s in 1:15]\n",
    "    )\n",
    "    model === :Potts && return vcat(\n",
    "        [Field(c, r=r, s=s) for r in 2:15 for s in -1+1//r:1//r:1],\n",
    "        [Field(c, r=0, s=s, diagonal=true) for s in 1//2:1:3//2],\n",
    "        [Field(c, r=1, s=s, diagonal=true) for s in 1:15]\n",
    "    )\n",
    "end\n",
    "\n",
    "LoopSpectrum(c, model, Δmax) = Spectrum(LoopFields(c, model), Δmax, interchiral=true);\n",
    "\n",
    "function solve(;indices, signature, parity, even_spin=(), benchmark=false)\n",
    "    ext_fields = [Field(c, r=r, s=s) for (r, s) in indices]\n",
    "    co = Correlation(ext_fields..., Δmax=Δmax)\n",
    "    SOn = LoopSpectrum(c, :On, Δmax)\n",
    "    Seven = Spectrum([V for V in SOn.fields if spin(V) % 2 == 0], Δmax, interchiral=true)\n",
    "\n",
    "    specs = (; (chan =>\n",
    "        if chan in even_spin\n",
    "            Seven\n",
    "        else\n",
    "            SOn\n",
    "        end\n",
    "                for chan in (:s, :t, :u)\n",
    "    )...)\n",
    "\n",
    "    chan_spectra = ChannelSpectra(\n",
    "        co, specs, signature;\n",
    "        interchiral=true, Δmax=Δmax, parity=1\n",
    "    )\n",
    "\n",
    "    sys = BootstrapSystem(chan_spectra)\n",
    "    evaluate_blocks!(sys)\n",
    "    compute_linear_system!(sys)\n",
    "    solve!(sys)\n",
    "    if benchmark\n",
    "        println(\"precomputation of blocks coefficients\")\n",
    "        @btime ChannelSpectra(\n",
    "            $co, $SOn, $signature;\n",
    "            interchiral=true, Δmax=Δmax, parity=1,\n",
    "            exclude=(u=[Field(c, r=2, s=0)],)\n",
    "        )\n",
    "        println(\"time to compute all positions' cache\")\n",
    "        @btime BootstrapSystem($chan_spectra)\n",
    "        println(\"time to evaluate blocks\")\n",
    "        @btime evaluate_blocks!($sys)\n",
    "        println(\"time for the linear solver\")\n",
    "        @btime solve!($sys)\n",
    "    end\n",
    "    return sys\n",
    "end"
   ]
  },
  {
   "cell_type": "markdown",
   "id": "f8064650",
   "metadata": {},
   "source": [
    "## $\\langle (\\frac{1}{2}, 0)^4 \\rangle$"
   ]
  },
  {
   "cell_type": "code",
   "execution_count": null,
   "id": "f6c6ed3c",
   "metadata": {},
   "outputs": [
    {
     "ename": "TypeError",
     "evalue": "TypeError: in typeassert, expected @NamedTuple{left::T, right::T} where T, got a value of type Tuple{Int64, Int64}",
     "output_type": "error",
     "traceback": [
      "TypeError: in typeassert, expected @NamedTuple{left::T, right::T} where T, got a value of type Tuple{Int64, Int64}\n",
      "\n",
      "Stacktrace:\n",
      " [1] top-level scope\n",
      "   @ ~/Documents/Recherche/projet_these/code/BootstrapVirasoro/examples/jl_notebook_cell_df34fa98e69747e1a8f8a730347b8e2f_X24sZmlsZQ==.jl:1"
     ]
    }
   ],
   "source": [
    "LeftRight((1, 2))\n"
   ]
  },
  {
   "cell_type": "code",
   "execution_count": 4,
   "id": "61a07909",
   "metadata": {},
   "outputs": [
    {
     "ename": "MethodError",
     "evalue": "MethodError: no method matching (@NamedTuple{left::T, right::T} where T)(::Tuple{ConformalDimension{Complex{BigFloat}}, ConformalDimension{Complex{BigFloat}}})\nThe type `@NamedTuple{left::T, right::T} where T` exists, but no method is defined for this combination of argument types when trying to construct it.",
     "output_type": "error",
     "traceback": [
      "MethodError: no method matching (@NamedTuple{left::T, right::T} where T)(::Tuple{ConformalDimension{Complex{BigFloat}}, ConformalDimension{Complex{BigFloat}}})\n",
      "The type `@NamedTuple{left::T, right::T} where T` exists, but no method is defined for this combination of argument types when trying to construct it.\n",
      "\n",
      "Stacktrace:\n",
      " [1] Field(c::CentralCharge{Complex{BigFloat}}, sym::Symbol, dim::Int64; r::Rational{Int64}, s::Int64, degenerate::Bool, diagonal::Bool)\n",
      "   @ BootstrapVirasoro ~/Documents/Recherche/projet_these/code/BootstrapVirasoro/src/CFTData/fields.jl:85\n",
      " [2] Field(c::CentralCharge{Complex{BigFloat}}; r::Rational{Int64}, s::Int64, diagonal::Bool, degenerate::Bool, Δ::Missing, δ::Missing, P::Missing, p::Missing)\n",
      "   @ BootstrapVirasoro ~/Documents/Recherche/projet_these/code/BootstrapVirasoro/src/CFTData/fields.jl:99\n",
      " [3] (::var\"#40#43\")(::Tuple{Rational{Int64}, Int64})\n",
      "   @ Main ./none:0\n",
      " [4] iterate\n",
      "   @ ./generator.jl:48 [inlined]\n",
      " [5] collect(itr::Base.Generator{NTuple{4, Tuple{Rational{Int64}, Int64}}, var\"#40#43\"})\n",
      "   @ Base ./array.jl:791\n",
      " [6] solve(; indices::NTuple{4, Tuple{Rational{Int64}, Int64}}, signature::@NamedTuple{s::Int64, t::Int64, u::Int64}, parity::Int64, even_spin::Tuple{Symbol}, benchmark::Bool)\n",
      "   @ Main ~/Documents/Recherche/projet_these/code/BootstrapVirasoro/examples/jl_notebook_cell_df34fa98e69747e1a8f8a730347b8e2f_W4sZmlsZQ==.jl:21\n",
      " [7] top-level scope\n",
      "   @ ~/Documents/Recherche/projet_these/code/BootstrapVirasoro/examples/jl_notebook_cell_df34fa98e69747e1a8f8a730347b8e2f_W6sZmlsZQ==.jl:6"
     ]
    }
   ],
   "source": [
    "Δmax, prec = 30, 25\n",
    "setprecision(BigFloat, prec, base=10);\n",
    "c = CC(β=1 / (big\"0.8\" + big\"0.1\" * im))\n",
    "ind = ((1 // 2, 0), (1 // 2, 0), (1 // 2, 0), (1 // 2, 0))\n",
    "sig = (s=0, t=1, u=1)\n",
    "sol = solve(indices=ind, signature=sig, parity=1, even_spin=(:s,), benchmark=false)\n",
    "# println(\"total time to setup and solve the crossing equations:\")\n",
    "# @btime solve(indices=ind, signature=sig, parity=1, even_spin=(:s,))\n",
    "println(sol.structure_constants)"
   ]
  },
  {
   "cell_type": "code",
   "execution_count": 5,
   "id": "d739223e",
   "metadata": {},
   "outputs": [
    {
     "ename": "UndefVarError",
     "evalue": "UndefVarError: `sol` not defined in `Main`\nSuggestion: check for spelling errors or missing imports.",
     "output_type": "error",
     "traceback": [
      "UndefVarError: `sol` not defined in `Main`\n",
      "Suggestion: check for spelling errors or missing imports.\n",
      "\n",
      "Stacktrace:\n",
      "  [1] var\"##core#261\"()\n",
      "    @ Main ~/.julia/packages/BenchmarkTools/1i1mY/src/execution.jl:598\n",
      "  [2] var\"##sample#262\"(::Tuple{}, __params::BenchmarkTools.Parameters)\n",
      "    @ Main ~/.julia/packages/BenchmarkTools/1i1mY/src/execution.jl:607\n",
      "  [3] _lineartrial(b::BenchmarkTools.Benchmark, p::BenchmarkTools.Parameters; maxevals::Int64, kwargs::@Kwargs{})\n",
      "    @ BenchmarkTools ~/.julia/packages/BenchmarkTools/1i1mY/src/execution.jl:186\n",
      "  [4] _lineartrial(b::BenchmarkTools.Benchmark, p::BenchmarkTools.Parameters)\n",
      "    @ BenchmarkTools ~/.julia/packages/BenchmarkTools/1i1mY/src/execution.jl:181\n",
      "  [5] #invokelatest#2\n",
      "    @ ./essentials.jl:1055 [inlined]\n",
      "  [6] invokelatest\n",
      "    @ ./essentials.jl:1052 [inlined]\n",
      "  [7] #lineartrial#46\n",
      "    @ ~/.julia/packages/BenchmarkTools/1i1mY/src/execution.jl:51 [inlined]\n",
      "  [8] lineartrial\n",
      "    @ ~/.julia/packages/BenchmarkTools/1i1mY/src/execution.jl:50 [inlined]\n",
      "  [9] tune!(b::BenchmarkTools.Benchmark, p::BenchmarkTools.Parameters; progressid::Nothing, nleaves::Float64, ndone::Float64, verbose::Bool, pad::String, kwargs::@Kwargs{})\n",
      "    @ BenchmarkTools ~/.julia/packages/BenchmarkTools/1i1mY/src/execution.jl:299\n",
      " [10] tune!\n",
      "    @ ~/.julia/packages/BenchmarkTools/1i1mY/src/execution.jl:288 [inlined]\n",
      " [11] tune!(b::BenchmarkTools.Benchmark)\n",
      "    @ BenchmarkTools ~/.julia/packages/BenchmarkTools/1i1mY/src/execution.jl:288\n",
      " [12] top-level scope\n",
      "    @ ~/.julia/packages/BenchmarkTools/1i1mY/src/execution.jl:728"
     ]
    }
   ],
   "source": [
    "@btime BootstrapVirasoro.compute_reference!(sol)"
   ]
  },
  {
   "cell_type": "code",
   "execution_count": 6,
   "id": "502e6e1b",
   "metadata": {},
   "outputs": [
    {
     "ename": "MethodError",
     "evalue": "MethodError: no method matching Union{Int64, Rational}(::Bool)\nThe type `Union{Int64, Rational}` exists, but no method is defined for this combination of argument types when trying to construct it.\n\nClosest candidates are:\n  (::Type{T})(::T) where T<:Number\n   @ Core boot.jl:900\n  (::Type{T})(!Matched::AbstractChar) where T<:Union{AbstractChar, Number}\n   @ Base char.jl:50\n  (::Type{T})(!Matched::Complex) where T<:Real\n   @ Base complex.jl:44\n  ...\n",
     "output_type": "error",
     "traceback": [
      "MethodError: no method matching Union{Int64, Rational}(::Bool)\n",
      "The type `Union{Int64, Rational}` exists, but no method is defined for this combination of argument types when trying to construct it.\n",
      "\n",
      "Closest candidates are:\n",
      "  (::Type{T})(::T) where T<:Number\n",
      "   @ Core boot.jl:900\n",
      "  (::Type{T})(!Matched::AbstractChar) where T<:Union{AbstractChar, Number}\n",
      "   @ Base char.jl:50\n",
      "  (::Type{T})(!Matched::Complex) where T<:Real\n",
      "   @ Base complex.jl:44\n",
      "  ...\n",
      "\n",
      "\n",
      "Stacktrace:\n",
      " [1] convert(::Type{Union{Int64, Rational}}, x::Bool)\n",
      "   @ Base ./number.jl:7\n",
      " [2] ConformalDimension{Complex{BigFloat}}(c::CentralCharge{Complex{BigFloat}}, P::Complex{BigFloat}, p::Complex{BigFloat}, δ::Complex{BigFloat}, Δ::Complex{BigFloat}, r::Bool, s::Int64, isKac::Int64)\n",
      "   @ BootstrapVirasoro ~/Documents/Recherche/projet_these/code/BootstrapVirasoro/src/CFTData/conformal_dimensions.jl:23\n",
      " [3] ConformalDimension(c::CentralCharge{Complex{BigFloat}}, sym::Symbol, P::Int64; r::Int64, s::Int64)\n",
      "   @ BootstrapVirasoro ~/Documents/Recherche/projet_these/code/BootstrapVirasoro/src/CFTData/conformal_dimensions.jl:84\n",
      " [4] Field(c::CentralCharge{Complex{BigFloat}}, sym::Symbol, dim::Int64; r::Int64, s::Int64, degenerate::Bool, diagonal::Bool)\n",
      "   @ BootstrapVirasoro ~/Documents/Recherche/projet_these/code/BootstrapVirasoro/src/CFTData/fields.jl:64\n",
      " [5] Field(c::CentralCharge{Complex{BigFloat}}; r::Int64, s::Int64, diagonal::Bool, degenerate::Bool, Δ::Missing, δ::Missing, P::Missing, p::Missing)\n",
      "   @ BootstrapVirasoro ~/Documents/Recherche/projet_these/code/BootstrapVirasoro/src/CFTData/fields.jl:99\n",
      " [6] top-level scope\n",
      "   @ ~/Documents/Recherche/projet_these/code/BootstrapVirasoro/examples/jl_notebook_cell_df34fa98e69747e1a8f8a730347b8e2f_X11sZmlsZQ==.jl:1"
     ]
    }
   ],
   "source": [
    "total_dimension(Field(c, r=6, s=0))\n",
    "sol.spectra.s.Δmax"
   ]
  },
  {
   "cell_type": "markdown",
   "id": "bcdd3828",
   "metadata": {},
   "source": [
    "Benchmarks:\n",
    "| Precision          | Python | Julia |\n",
    "|----------|----------|----------|\n",
    "| $\\Delta_{\\mathrm{max}}=20$, 13 digits  | 2min23s  | 2.3s  |\n",
    "| $\\Delta_{\\mathrm{max}}=30$, 25 digits  | 8min10s  | 3.0s  |\n",
    "| $\\Delta_{\\mathrm{max}}=40$, 35 digits  | 23min18s  | 12.6s  |"
   ]
  },
  {
   "cell_type": "markdown",
   "id": "9e3f3ac3",
   "metadata": {},
   "source": [
    "## $\\langle (\\frac{1}{2}, 0)^2 (1, 0)^2 \\rangle$"
   ]
  },
  {
   "cell_type": "code",
   "execution_count": 7,
   "id": "b5bc34cc",
   "metadata": {},
   "outputs": [
    {
     "ename": "MethodError",
     "evalue": "MethodError: no method matching Union{Int64, Rational}(::Bool)\nThe type `Union{Int64, Rational}` exists, but no method is defined for this combination of argument types when trying to construct it.\n\nClosest candidates are:\n  (::Type{T})(::T) where T<:Number\n   @ Core boot.jl:900\n  (::Type{T})(!Matched::AbstractChar) where T<:Union{AbstractChar, Number}\n   @ Base char.jl:50\n  (::Type{T})(!Matched::Complex) where T<:Real\n   @ Base complex.jl:44\n  ...\n",
     "output_type": "error",
     "traceback": [
      "MethodError: no method matching Union{Int64, Rational}(::Bool)\n",
      "The type `Union{Int64, Rational}` exists, but no method is defined for this combination of argument types when trying to construct it.\n",
      "\n",
      "Closest candidates are:\n",
      "  (::Type{T})(::T) where T<:Number\n",
      "   @ Core boot.jl:900\n",
      "  (::Type{T})(!Matched::AbstractChar) where T<:Union{AbstractChar, Number}\n",
      "   @ Base char.jl:50\n",
      "  (::Type{T})(!Matched::Complex) where T<:Real\n",
      "   @ Base complex.jl:44\n",
      "  ...\n",
      "\n",
      "\n",
      "Stacktrace:\n",
      "  [1] convert(::Type{Union{Int64, Rational}}, x::Bool)\n",
      "    @ Base ./number.jl:7\n",
      "  [2] ConformalDimension{Complex{BigFloat}}(c::CentralCharge{Complex{BigFloat}}, P::Complex{BigFloat}, p::Complex{BigFloat}, δ::Complex{BigFloat}, Δ::Complex{BigFloat}, r::Bool, s::Int64, isKac::Int64)\n",
      "    @ BootstrapVirasoro ~/Documents/Recherche/projet_these/code/BootstrapVirasoro/src/CFTData/conformal_dimensions.jl:23\n",
      "  [3] ConformalDimension(c::CentralCharge{Complex{BigFloat}}, sym::Symbol, P::Int64; r::Int64, s::Int64)\n",
      "    @ BootstrapVirasoro ~/Documents/Recherche/projet_these/code/BootstrapVirasoro/src/CFTData/conformal_dimensions.jl:84\n",
      "  [4] Field(c::CentralCharge{Complex{BigFloat}}, sym::Symbol, dim::Int64; r::Int64, s::Int64, degenerate::Bool, diagonal::Bool)\n",
      "    @ BootstrapVirasoro ~/Documents/Recherche/projet_these/code/BootstrapVirasoro/src/CFTData/fields.jl:64\n",
      "  [5] Field(c::CentralCharge{Complex{BigFloat}}; r::Int64, s::Int64, diagonal::Bool, degenerate::Bool, Δ::Missing, δ::Missing, P::Missing, p::Missing)\n",
      "    @ BootstrapVirasoro ~/Documents/Recherche/projet_these/code/BootstrapVirasoro/src/CFTData/fields.jl:99\n",
      "  [6] (::var\"#40#43\")(::Tuple{Int64, Int64})\n",
      "    @ Main ./none:0\n",
      "  [7] iterate\n",
      "    @ ./generator.jl:48 [inlined]\n",
      "  [8] collect(itr::Base.Generator{Tuple{Tuple{Int64, Int64}, Tuple{Int64, Int64}, Tuple{Rational{Int64}, Int64}, Tuple{Rational{Int64}, Int64}}, var\"#40#43\"})\n",
      "    @ Base ./array.jl:791\n",
      "  [9] solve(; indices::Tuple{Tuple{Int64, Int64}, Tuple{Int64, Int64}, Tuple{Rational{Int64}, Int64}, Tuple{Rational{Int64}, Int64}}, signature::@NamedTuple{s::Int64, t::Rational{Int64}, u::Rational{Int64}}, parity::Int64, even_spin::Tuple{Symbol}, benchmark::Bool)\n",
      "    @ Main ~/Documents/Recherche/projet_these/code/BootstrapVirasoro/examples/jl_notebook_cell_df34fa98e69747e1a8f8a730347b8e2f_W4sZmlsZQ==.jl:21\n",
      " [10] top-level scope\n",
      "    @ ~/Documents/Recherche/projet_these/code/BootstrapVirasoro/examples/jl_notebook_cell_df34fa98e69747e1a8f8a730347b8e2f_X14sZmlsZQ==.jl:3"
     ]
    }
   ],
   "source": [
    "ind = ((1, 0), (1, 0), (1//2, 0), (1//2, 0))\n",
    "sig = (s=0, t=3//2, u=3//2)\n",
    "println(solve(indices=ind, signature=sig, parity=1, even_spin=(:s,)).structure_constants)"
   ]
  },
  {
   "cell_type": "code",
   "execution_count": 8,
   "id": "836d7e90",
   "metadata": {},
   "outputs": [
    {
     "ename": "MethodError",
     "evalue": "MethodError: no method matching Union{Int64, Rational}(::Bool)\nThe type `Union{Int64, Rational}` exists, but no method is defined for this combination of argument types when trying to construct it.\n\nClosest candidates are:\n  (::Type{T})(::T) where T<:Number\n   @ Core boot.jl:900\n  (::Type{T})(!Matched::AbstractChar) where T<:Union{AbstractChar, Number}\n   @ Base char.jl:50\n  (::Type{T})(!Matched::Complex) where T<:Real\n   @ Base complex.jl:44\n  ...\n",
     "output_type": "error",
     "traceback": [
      "MethodError: no method matching Union{Int64, Rational}(::Bool)\n",
      "The type `Union{Int64, Rational}` exists, but no method is defined for this combination of argument types when trying to construct it.\n",
      "\n",
      "Closest candidates are:\n",
      "  (::Type{T})(::T) where T<:Number\n",
      "   @ Core boot.jl:900\n",
      "  (::Type{T})(!Matched::AbstractChar) where T<:Union{AbstractChar, Number}\n",
      "   @ Base char.jl:50\n",
      "  (::Type{T})(!Matched::Complex) where T<:Real\n",
      "   @ Base complex.jl:44\n",
      "  ...\n",
      "\n",
      "\n",
      "Stacktrace:\n",
      "  [1] convert(::Type{Union{Int64, Rational}}, x::Bool)\n",
      "    @ Base ./number.jl:7\n",
      "  [2] ConformalDimension{Complex{BigFloat}}(c::CentralCharge{Complex{BigFloat}}, P::Complex{BigFloat}, p::Complex{BigFloat}, δ::Complex{BigFloat}, Δ::Complex{BigFloat}, r::Bool, s::Int64, isKac::Int64)\n",
      "    @ BootstrapVirasoro ~/Documents/Recherche/projet_these/code/BootstrapVirasoro/src/CFTData/conformal_dimensions.jl:23\n",
      "  [3] ConformalDimension(c::CentralCharge{Complex{BigFloat}}, sym::Symbol, P::Int64; r::Int64, s::Int64)\n",
      "    @ BootstrapVirasoro ~/Documents/Recherche/projet_these/code/BootstrapVirasoro/src/CFTData/conformal_dimensions.jl:84\n",
      "  [4] Field(c::CentralCharge{Complex{BigFloat}}, sym::Symbol, dim::Int64; r::Int64, s::Int64, degenerate::Bool, diagonal::Bool)\n",
      "    @ BootstrapVirasoro ~/Documents/Recherche/projet_these/code/BootstrapVirasoro/src/CFTData/fields.jl:64\n",
      "  [5] Field(c::CentralCharge{Complex{BigFloat}}; r::Int64, s::Int64, diagonal::Bool, degenerate::Bool, Δ::Missing, δ::Missing, P::Missing, p::Missing)\n",
      "    @ BootstrapVirasoro ~/Documents/Recherche/projet_these/code/BootstrapVirasoro/src/CFTData/fields.jl:99\n",
      "  [6] (::var\"#40#43\")(::Tuple{Int64, Int64})\n",
      "    @ Main ./none:0\n",
      "  [7] iterate\n",
      "    @ ./generator.jl:48 [inlined]\n",
      "  [8] collect(itr::Base.Generator{Tuple{Tuple{Int64, Int64}, Tuple{Int64, Int64}, Tuple{Rational{Int64}, Int64}, Tuple{Rational{Int64}, Int64}}, var\"#40#43\"})\n",
      "    @ Base ./array.jl:791\n",
      "  [9] solve(; indices::Tuple{Tuple{Int64, Int64}, Tuple{Int64, Int64}, Tuple{Rational{Int64}, Int64}, Tuple{Rational{Int64}, Int64}}, signature::@NamedTuple{s::Int64, t::Rational{Int64}, u::Rational{Int64}}, parity::Int64, even_spin::Tuple{}, benchmark::Bool)\n",
      "    @ Main ~/Documents/Recherche/projet_these/code/BootstrapVirasoro/examples/jl_notebook_cell_df34fa98e69747e1a8f8a730347b8e2f_W4sZmlsZQ==.jl:21\n",
      " [10] top-level scope\n",
      "    @ ~/Documents/Recherche/projet_these/code/BootstrapVirasoro/examples/jl_notebook_cell_df34fa98e69747e1a8f8a730347b8e2f_X15sZmlsZQ==.jl:2"
     ]
    }
   ],
   "source": [
    "sig = (s=1, t=1//2, u=3//2)\n",
    "println(solve(indices=ind, signature=sig, parity=1).structure_constants)"
   ]
  },
  {
   "cell_type": "code",
   "execution_count": 9,
   "id": "e554a250",
   "metadata": {},
   "outputs": [
    {
     "ename": "MethodError",
     "evalue": "MethodError: no method matching Union{Int64, Rational}(::Bool)\nThe type `Union{Int64, Rational}` exists, but no method is defined for this combination of argument types when trying to construct it.\n\nClosest candidates are:\n  (::Type{T})(::T) where T<:Number\n   @ Core boot.jl:900\n  (::Type{T})(!Matched::AbstractChar) where T<:Union{AbstractChar, Number}\n   @ Base char.jl:50\n  (::Type{T})(!Matched::Complex) where T<:Real\n   @ Base complex.jl:44\n  ...\n",
     "output_type": "error",
     "traceback": [
      "MethodError: no method matching Union{Int64, Rational}(::Bool)\n",
      "The type `Union{Int64, Rational}` exists, but no method is defined for this combination of argument types when trying to construct it.\n",
      "\n",
      "Closest candidates are:\n",
      "  (::Type{T})(::T) where T<:Number\n",
      "   @ Core boot.jl:900\n",
      "  (::Type{T})(!Matched::AbstractChar) where T<:Union{AbstractChar, Number}\n",
      "   @ Base char.jl:50\n",
      "  (::Type{T})(!Matched::Complex) where T<:Real\n",
      "   @ Base complex.jl:44\n",
      "  ...\n",
      "\n",
      "\n",
      "Stacktrace:\n",
      "  [1] convert(::Type{Union{Int64, Rational}}, x::Bool)\n",
      "    @ Base ./number.jl:7\n",
      "  [2] ConformalDimension{Complex{BigFloat}}(c::CentralCharge{Complex{BigFloat}}, P::Complex{BigFloat}, p::Complex{BigFloat}, δ::Complex{BigFloat}, Δ::Complex{BigFloat}, r::Bool, s::Int64, isKac::Int64)\n",
      "    @ BootstrapVirasoro ~/Documents/Recherche/projet_these/code/BootstrapVirasoro/src/CFTData/conformal_dimensions.jl:23\n",
      "  [3] ConformalDimension(c::CentralCharge{Complex{BigFloat}}, sym::Symbol, P::Int64; r::Int64, s::Int64)\n",
      "    @ BootstrapVirasoro ~/Documents/Recherche/projet_these/code/BootstrapVirasoro/src/CFTData/conformal_dimensions.jl:84\n",
      "  [4] Field(c::CentralCharge{Complex{BigFloat}}, sym::Symbol, dim::Int64; r::Int64, s::Int64, degenerate::Bool, diagonal::Bool)\n",
      "    @ BootstrapVirasoro ~/Documents/Recherche/projet_these/code/BootstrapVirasoro/src/CFTData/fields.jl:64\n",
      "  [5] Field(c::CentralCharge{Complex{BigFloat}}; r::Int64, s::Int64, diagonal::Bool, degenerate::Bool, Δ::Missing, δ::Missing, P::Missing, p::Missing)\n",
      "    @ BootstrapVirasoro ~/Documents/Recherche/projet_these/code/BootstrapVirasoro/src/CFTData/fields.jl:99\n",
      "  [6] (::var\"#40#43\")(::Tuple{Int64, Int64})\n",
      "    @ Main ./none:0\n",
      "  [7] iterate\n",
      "    @ ./generator.jl:48 [inlined]\n",
      "  [8] collect(itr::Base.Generator{Tuple{Tuple{Int64, Int64}, Tuple{Int64, Int64}, Tuple{Rational{Int64}, Int64}, Tuple{Rational{Int64}, Int64}}, var\"#40#43\"})\n",
      "    @ Base ./array.jl:791\n",
      "  [9] solve(; indices::Tuple{Tuple{Int64, Int64}, Tuple{Int64, Int64}, Tuple{Rational{Int64}, Int64}, Tuple{Rational{Int64}, Int64}}, signature::@NamedTuple{s::Int64, t::Rational{Int64}, u::Rational{Int64}}, parity::Int64, even_spin::Tuple{}, benchmark::Bool)\n",
      "    @ Main ~/Documents/Recherche/projet_these/code/BootstrapVirasoro/examples/jl_notebook_cell_df34fa98e69747e1a8f8a730347b8e2f_W4sZmlsZQ==.jl:21\n",
      " [10] top-level scope\n",
      "    @ ~/Documents/Recherche/projet_these/code/BootstrapVirasoro/examples/jl_notebook_cell_df34fa98e69747e1a8f8a730347b8e2f_X16sZmlsZQ==.jl:2"
     ]
    }
   ],
   "source": [
    "sig = (s=1, t=3//2, u=1//2)\n",
    "println(solve(indices=ind, signature=sig, parity=1).structure_constants)"
   ]
  },
  {
   "cell_type": "markdown",
   "id": "cd73a173",
   "metadata": {},
   "source": [
    "# Torus one point functions"
   ]
  },
  {
   "cell_type": "code",
   "execution_count": 10,
   "id": "85b2ec3e",
   "metadata": {},
   "outputs": [
    {
     "ename": "MethodError",
     "evalue": "MethodError: no method matching Union{Int64, Rational}(::Bool)\nThe type `Union{Int64, Rational}` exists, but no method is defined for this combination of argument types when trying to construct it.\n\nClosest candidates are:\n  (::Type{T})(::T) where T<:Number\n   @ Core boot.jl:900\n  (::Type{T})(!Matched::AbstractChar) where T<:Union{AbstractChar, Number}\n   @ Base char.jl:50\n  (::Type{T})(!Matched::Complex) where T<:Real\n   @ Base complex.jl:44\n  ...\n",
     "output_type": "error",
     "traceback": [
      "MethodError: no method matching Union{Int64, Rational}(::Bool)\n",
      "The type `Union{Int64, Rational}` exists, but no method is defined for this combination of argument types when trying to construct it.\n",
      "\n",
      "Closest candidates are:\n",
      "  (::Type{T})(::T) where T<:Number\n",
      "   @ Core boot.jl:900\n",
      "  (::Type{T})(!Matched::AbstractChar) where T<:Union{AbstractChar, Number}\n",
      "   @ Base char.jl:50\n",
      "  (::Type{T})(!Matched::Complex) where T<:Real\n",
      "   @ Base complex.jl:44\n",
      "  ...\n",
      "\n",
      "\n",
      "Stacktrace:\n",
      " [1] convert(::Type{Union{Int64, Rational}}, x::Bool)\n",
      "   @ Base ./number.jl:7\n",
      " [2] ConformalDimension{Complex{BigFloat}}(c::CentralCharge{Complex{BigFloat}}, P::Complex{BigFloat}, p::Complex{BigFloat}, δ::Complex{BigFloat}, Δ::Complex{BigFloat}, r::Bool, s::Int64, isKac::Int64)\n",
      "   @ BootstrapVirasoro ~/Documents/Recherche/projet_these/code/BootstrapVirasoro/src/CFTData/conformal_dimensions.jl:23\n",
      " [3] ConformalDimension(c::CentralCharge{Complex{BigFloat}}, sym::Symbol, P::Int64; r::Int64, s::Int64)\n",
      "   @ BootstrapVirasoro ~/Documents/Recherche/projet_these/code/BootstrapVirasoro/src/CFTData/conformal_dimensions.jl:84\n",
      " [4] Field(c::CentralCharge{Complex{BigFloat}}, sym::Symbol, dim::Int64; r::Int64, s::Int64, degenerate::Bool, diagonal::Bool)\n",
      "   @ BootstrapVirasoro ~/Documents/Recherche/projet_these/code/BootstrapVirasoro/src/CFTData/fields.jl:64\n",
      " [5] Field(c::CentralCharge{Complex{BigFloat}}; r::Int64, s::Int64, diagonal::Bool, degenerate::Bool, Δ::Missing, δ::Missing, P::Missing, p::Missing)\n",
      "   @ BootstrapVirasoro ~/Documents/Recherche/projet_these/code/BootstrapVirasoro/src/CFTData/fields.jl:99\n",
      " [6] top-level scope\n",
      "   @ ~/Documents/Recherche/projet_these/code/BootstrapVirasoro/examples/jl_notebook_cell_df34fa98e69747e1a8f8a730347b8e2f_X21sZmlsZQ==.jl:1"
     ]
    }
   ],
   "source": [
    "V1 = Field(c, r=1, s=0)\n",
    "co = Correlation(V1, Δmax=Δmax)\n",
    "SOn = LoopSpectrum(c, :On, Δmax)\n",
    "signature = (s=1//2, t=0, u=1//2)\n",
    "schan = ChannelSpectrum(co, co.Nmax, :s)\n",
    "chan_spectra = ChannelSpectra(\n",
    "    co, SOn, signature;\n",
    "    interchiral=true, Δmax=Δmax, parity=1\n",
    ")\n",
    "sys = BootstrapSystem(chan_spectra)\n",
    "evaluate_blocks!(sys)\n",
    "compute_linear_system!(sys)\n",
    "solve!(sys)\n",
    "println(sys.structure_constants)"
   ]
  },
  {
   "cell_type": "code",
   "execution_count": 11,
   "id": "3abe8219",
   "metadata": {},
   "outputs": [
    {
     "ename": "UndefVarError",
     "evalue": "UndefVarError: `DoubleGamma` not defined in `Main`\nSuggestion: check for spelling errors or missing imports.\nHint: a global variable of this name may be made accessible by importing BarnesDoubleGamma in the current active module Main",
     "output_type": "error",
     "traceback": [
      "UndefVarError: `DoubleGamma` not defined in `Main`\n",
      "Suggestion: check for spelling errors or missing imports.\n",
      "Hint: a global variable of this name may be made accessible by importing BarnesDoubleGamma in the current active module Main\n",
      "\n",
      "Stacktrace:\n",
      " [1] top-level scope\n",
      "   @ ~/Documents/Recherche/projet_these/code/BootstrapVirasoro/examples/jl_notebook_cell_df34fa98e69747e1a8f8a730347b8e2f_X22sZmlsZQ==.jl:4"
     ]
    }
   ],
   "source": [
    "Δmax, prec = 30, 25\n",
    "setprecision(BigFloat, prec, base=10);\n",
    "c = CC(β=1 / (big\"0.8\" + big\"0.1\" * im))\n",
    "DG = DoubleGamma(c.β)\n",
    "@btime DG(big\"0.4\"+big\"0.1\"*im)"
   ]
  },
  {
   "cell_type": "code",
   "execution_count": 12,
   "id": "38ca179f",
   "metadata": {},
   "outputs": [],
   "source": []
  }
 ],
 "metadata": {
  "kernelspec": {
   "display_name": "Julia 1.11.5",
   "language": "julia",
   "name": "julia-1.11"
  },
  "language_info": {
   "file_extension": ".jl",
   "mimetype": "application/julia",
   "name": "julia",
   "version": "1.11.5"
  }
 },
 "nbformat": 4,
 "nbformat_minor": 5
}
