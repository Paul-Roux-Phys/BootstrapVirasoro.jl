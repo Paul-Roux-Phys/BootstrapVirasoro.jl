{
 "cells": [
  {
   "cell_type": "markdown",
   "id": "03777087",
   "metadata": {},
   "source": [
    "# Four point functions in the Potts and $O(n)$ models\n",
    "\n",
    "This notebook reproduces some known results about Potts and $O(n)$ four-point functions, using the new Julia code."
   ]
  },
  {
   "cell_type": "code",
   "execution_count": 7,
   "id": "5d7699d5",
   "metadata": {},
   "outputs": [
    {
     "name": "stderr",
     "output_type": "stream",
     "text": [
      "\u001b[32m\u001b[1m  Activating\u001b[22m\u001b[39m project at `~/Documents/Recherche/projet_these/code/BootstrapVirasoro/examples`\n"
     ]
    }
   ],
   "source": [
    "Pkg.activate(\".\") # activate the parent environment\n",
    "using BootstrapVirasoro\n",
    "if Threads.nthreads() == 1\n",
    "    println(\"You are using a single thread. Consider starting julia with more threads, for instance by setting\n",
    "    the environment variable `export JULIA_NUM_THREADS=auto`\")\n",
    "end"
   ]
  },
  {
   "cell_type": "markdown",
   "id": "ad8906b8",
   "metadata": {},
   "source": [
    "## Spectra\n",
    "\n",
    "We create functions to generate the spectra of the $O(n)$ and Potts CFTs, with a cutoff:\n",
    "\n",
    "\\begin{align}\n",
    "\\mathcal{S}^{O(n)} &= \\left\\{V^d_{\\langle 1,s\\rangle}\\right\\}_{s\\in 2\\mathbb{N}+1} \\bigcup \\left\\{V_{(r,s)}\\right\\}_{\\substack{r\\in \\frac12\\mathbb{N}^*\\\\ s\\in\\frac{1}{r}\\mathbb{Z}}}  \\ ,\n",
    " \\\\\n",
    " \\mathcal{S}^{PSU(n)} &= \\left\\{V^d_{\\langle 1,s\\rangle}\\right\\}_{s\\in\\mathbb{N}^*} \\bigcup \\left\\{V_{(r,s)}\\right\\}_{\\substack{r\\in \\mathbb{N}^*\\\\ s\\in\\frac{1}{r}\\mathbb{Z}}}  \\ ,\n",
    " \\\\\n",
    " \\mathcal{S}^\\text{Potts} &= \\left\\{V^d_{\\langle 1,s\\rangle}\\right\\}_{s\\in\\mathbb{N}^*} \\bigcup \\left\\{V_{(r,s)}\\right\\}_{\\substack{r\\in \\mathbb{N}+2\\\\ s\\in\\frac{1}{r}\\mathbb{Z}}} \\bigcup  \\left\\{ V_{P_{(0,s)}}\\right\\}_{s\\in \\mathbb{N}+\\frac12}\\ .\n",
    "\\end{align}\n",
    "\n",
    "## Bootstrap equations\n",
    "\n",
    "We then numerically solve\n",
    "\n",
    "\\begin{align}\n",
    "\\sum_{V \\in \\mathcal{S}^{(s)}} D^{(s)}_V \\mathcal I^{(s)}_V (x) = \\sum_{V \\in \\mathcal{S}^{(t)}} D^{(t)}_V \\mathcal I^{(t)}_V (x) = \\sum_{V \\in \\mathcal{S}^{(u)}} D^{(u)}_V \\mathcal I^{(u)}_V (x),\n",
    "\\end{align}\n",
    "\n",
    "for some channel spectra $\\mathcal{S}^{(s)}, \\mathcal{S}^{(t)}, \\mathcal{S}^{(u)}$, where $\\mathcal I$ are interchiral conformal blocks, and the $D$'s are four-point structure constants.\n",
    "\n",
    "We solve this system as\n",
    "\\begin{equation}\n",
    "\\underbrace{\n",
    "\\begin{bmatrix}\n",
    "[\\mathcal I^{(s)}_{V_j}(x_i)]_{ij} & [-\\mathcal I^{(t)}_{V_j}(x_i)]_{ij} & [0] \\\\\n",
    "[\\mathcal I^{(s)}_{V_j}(x_i)]_{ij} & [0] & [-\\mathcal I^{(u)}_{V_j}(x_i)]_{ij}\n",
    "\\end{bmatrix}}_A\n",
    "\\begin{bmatrix}\n",
    "[D^{(s)}_{V_j}]_j \\\\\n",
    "[D^{(t)}_{V_j}]_j \\\\\n",
    "[D^{(u)}_{V_j}]_j\n",
    "\\end{bmatrix} = \n",
    "\\begin{bmatrix}\n",
    "\\sum_{V_j \\in \\text{ known}} D^{(t)}_{V_j} \\mathcal{I}^{(t)}_{V_j}(1-x_i) - \\sum_{V_j \\in \\text{ known}} D^{(s)}_{V_j} \\mathcal{I}^{(s)}_{V_j}(x_i)\\\\\n",
    "\\sum_{V_j \\in \\text{ known}} D^{(u)}_{V_j} \\mathcal{I}^{(u)}_{V_j}(1/x_i) - \\sum_{V_j \\in \\text{ known}} D^{(s)}_{V_j} \\mathcal{I}^{(s)}_{V_j}(x_i)\n",
    "\\end{bmatrix}\n",
    "\\end{equation}\n",
    "where the $x_i$ take more values than there are unknowns, i.e. $A$ is a tall rectangular matrix. \n",
    "\n",
    "To check numerical convergence, we solve two subsystems and compare the solutions. If the solutions are close, we know the computation has converged.\n"
   ]
  },
  {
   "cell_type": "code",
   "execution_count": 3,
   "id": "af82dfda",
   "metadata": {},
   "outputs": [
    {
     "data": {
      "text/plain": [
       "solve_bootstrap (generic function with 1 method)"
      ]
     },
     "metadata": {},
     "output_type": "display_data"
    }
   ],
   "source": [
    "setprecision(BigFloat, 35, base=10)\n",
    "c = CC(β=1/(big\"0.8\" + big\"0.1\"*im))\n",
    "Δmax = 40.\n",
    "\n",
    "function LoopFields(model)\n",
    "    model === :On && return vcat(\n",
    "        [Field(c, r=r, s=s) for r in 1:15 for s in -1+1//r:1//r:1],\n",
    "        [Field(c, r=r, s=s) for r in 1//2:1:15 for s in -1+1//(2r):1//r:1 if (r*s)%1 == 0],\n",
    "        [Field(c, r=1, s=s, diagonal=true) for s in 1:2:15]\n",
    "    )\n",
    "    model === :PSUn && return vcat(\n",
    "        [Field(c, r=r, s=s) for r in 1:15 for s in -1+1//r:1//r:1],\n",
    "        [Field(c, r=1, s=s, diagonal=true) for s in 1:15]\n",
    "    )\n",
    "    model === :Potts && return vcat(\n",
    "        [Field(c, r=r, s=s) for r in 2:15 for s in -1+1//r:1//r:1],\n",
    "        [Field(c, r=0, s=s, diagonal=true) for s in 1//2:1:3//2],\n",
    "        [Field(c, r=1, s=s, diagonal=true) for s in 1:15]\n",
    "    )\n",
    "end\n",
    "\n",
    "LoopSpectrum(model, Δmax) = Spectrum(LoopFields(model), Δmax, interchiral=true);\n",
    "\n",
    "function solve_bootstrap(indices, Δmax; signature = Dict(:s => 0, :t => 0, :u => 0), diags = Dict())\n",
    "    fields = [Field(c, r=r, s=s) for (r, s) in indices]\n",
    "    co = Correlation(fields..., Δmax=Δmax)\n",
    "    SOn = LoopSpectrum(:On, Δmax)\n",
    "\n",
    "    Schan_On = ChannelSpectra(\n",
    "        co, SOn,\n",
    "        signature=signature\n",
    "    )\n",
    "\n",
    "    for (chan, VP) in diags\n",
    "        add!(Schan_On, VP)\n",
    "    end\n",
    "\n",
    "    b = BootstrapSystem(Schan_On)\n",
    "    compute_linear_system!(b)\n",
    "    solve!(b)\n",
    "    return b\n",
    "end"
   ]
  },
  {
   "cell_type": "markdown",
   "id": "f8064650",
   "metadata": {},
   "source": [
    "## $\\langle (\\frac{1}{2}, 0)^2 (1, 0)^2 \\rangle$"
   ]
  },
  {
   "cell_type": "markdown",
   "id": "450334c8",
   "metadata": {},
   "source": [
    "We expect a three-dimensional space of solutions. We can distinguish between them by choosing an appropriate signature."
   ]
  },
  {
   "cell_type": "code",
   "execution_count": 4,
   "id": "61a07909",
   "metadata": {},
   "outputs": [
    {
     "ename": "MethodError",
     "evalue": "MethodError: no method matching ChannelSpectra(::BootstrapVirasoro.CorrelationNonChiral{Complex{BigFloat}}, ::BootstrapVirasoro.BulkSpectrum{Complex{BigFloat}}; signature::Dict{Symbol, Real})\nThis method may not support any kwargs.\n\nClosest candidates are:\n  ChannelSpectra(::Any, ::Spectrum{T}) where T got unsupported keyword argument \"signature\"\n   @ BootstrapVirasoro ~/Documents/Recherche/projet_these/code/BootstrapVirasoro/src/spectra.jl:114\n",
     "output_type": "error",
     "traceback": [
      "MethodError: no method matching ChannelSpectra(::BootstrapVirasoro.CorrelationNonChiral{Complex{BigFloat}}, ::BootstrapVirasoro.BulkSpectrum{Complex{BigFloat}}; signature::Dict{Symbol, Real})\n",
      "This method may not support any kwargs.\n",
      "\n",
      "Closest candidates are:\n",
      "  ChannelSpectra(::Any, ::Spectrum{T}) where T got unsupported keyword argument \"signature\"\n",
      "   @ BootstrapVirasoro ~/Documents/Recherche/projet_these/code/BootstrapVirasoro/src/spectra.jl:114\n",
      "\n",
      "\n",
      "Stacktrace:\n",
      " [1] solve_bootstrap(indices::Tuple{Tuple{Rational{Int64}, Int64}, Tuple{Rational{Int64}, Int64}, Tuple{Int64, Int64}, Tuple{Int64, Int64}}, Δmax::Float64; signature::Dict{Symbol, Real}, diags::Dict{Any, Any})\n",
      "   @ Main ~/Documents/Recherche/projet_these/code/BootstrapVirasoro/examples/jl_notebook_cell_df34fa98e69747e1a8f8a730347b8e2f_W3sZmlsZQ==.jl:29\n",
      " [2] top-level scope\n",
      "   @ ~/Documents/Recherche/projet_these/code/BootstrapVirasoro/examples/jl_notebook_cell_df34fa98e69747e1a8f8a730347b8e2f_W6sZmlsZQ==.jl:2"
     ]
    }
   ],
   "source": [
    "indices = ((1 // 2, 0), (1 // 2, 0), (1, 0), (1, 0))\n",
    "system1 = solve_bootstrap(indices, Δmax, signature=Dict(:s => 1, :t => 1//2, :u => 3//2))\n",
    "system2 = solve_bootstrap(indices, Δmax, signature=Dict(:s => 0, :t => 3, :u => 3//2))\n",
    "system3 = solve_bootstrap(indices, Δmax, signature=Dict(:s => 1, :t => 3//2, :u => 1//2));"
   ]
  },
  {
   "cell_type": "code",
   "execution_count": 5,
   "id": "a5fc34c9",
   "metadata": {},
   "outputs": [
    {
     "ename": "UndefVarError",
     "evalue": "UndefVarError: `system` not defined in `Main`\nSuggestion: check for spelling errors or missing imports.",
     "output_type": "error",
     "traceback": [
      "UndefVarError: `system` not defined in `Main`\n",
      "Suggestion: check for spelling errors or missing imports.\n",
      "\n",
      "Stacktrace:\n",
      " [1] top-level scope\n",
      "   @ ~/Documents/Recherche/projet_these/code/BootstrapVirasoro/examples/jl_notebook_cell_df34fa98e69747e1a8f8a730347b8e2f_X10sZmlsZQ==.jl:1"
     ]
    }
   ],
   "source": [
    "println(system.consts)\n",
    "println(system2.consts)\n",
    "println(system3.consts)"
   ]
  },
  {
   "cell_type": "code",
   "execution_count": null,
   "id": "54e1dba0",
   "metadata": {},
   "outputs": [
    {
     "ename": "TaskFailedException",
     "evalue": "TaskFailedException\n\n    nested task error: MethodError: no method matching length(::var\"#68#71\")\n    The function `length` exists, but no method is defined for this combination of argument types.\n    \n    Closest candidates are:\n      length(!Matched::DataStructures.IntSet)\n       @ DataStructures ~/.julia/packages/DataStructures/IrAJn/src/int_set.jl:191\n      length(!Matched::Cmd)\n       @ Base process.jl:716\n      length(!Matched::DataStructures.SparseIntSet)\n       @ DataStructures ~/.julia/packages/DataStructures/IrAJn/src/sparse_int_set.jl:61\n      ...\n    \n    Stacktrace:\n     [1] length(g::Base.Generator{var\"#68#71\", BootstrapVirasoro.var\"#316#320\"{Field{Complex{BigFloat}}}})\n       @ Base ./generator.jl:51\n     [2] _similar_shape(itr::Base.Generator{var\"#68#71\", BootstrapVirasoro.var\"#316#320\"{Field{Complex{BigFloat}}}}, ::Base.HasLength)\n       @ Base ./array.jl:663\n     [3] collect(itr::Base.Generator{var\"#68#71\", BootstrapVirasoro.var\"#316#320\"{Field{Complex{BigFloat}}}})\n       @ Base ./array.jl:790\n     [4] (::BootstrapVirasoro.var\"#315#319\"{Symbol, @NamedTuple{s::var\"#68#71\", t::var\"#69#72\", u::var\"#70#73\"}, BootstrapVirasoro.CorrelationNonChiral{Complex{BigFloat}}, BootstrapVirasoro.BulkSpectrum{Complex{BigFloat}}, @NamedTuple{s::ChannelSpectrum{Complex{BigFloat}}, t::ChannelSpectrum{Complex{BigFloat}}, u::ChannelSpectrum{Complex{BigFloat}}}})()\n       @ BootstrapVirasoro ~/Documents/Recherche/projet_these/code/BootstrapVirasoro/src/spectra.jl:128",
     "output_type": "error",
     "traceback": [
      "TaskFailedException\n",
      "\n",
      "    nested task error: MethodError: no method matching length(::var\"#68#71\")\n",
      "    The function `length` exists, but no method is defined for this combination of argument types.\n",
      "    \n",
      "    Closest candidates are:\n",
      "      length(!Matched::DataStructures.IntSet)\n",
      "       @ DataStructures ~/.julia/packages/DataStructures/IrAJn/src/int_set.jl:191\n",
      "      length(!Matched::Cmd)\n",
      "       @ Base process.jl:716\n",
      "      length(!Matched::DataStructures.SparseIntSet)\n",
      "       @ DataStructures ~/.julia/packages/DataStructures/IrAJn/src/sparse_int_set.jl:61\n",
      "      ...\n",
      "    \n",
      "    Stacktrace:\n",
      "     [1] length(g::Base.Generator{var\"#68#71\", BootstrapVirasoro.var\"#316#320\"{Field{Complex{BigFloat}}}})\n",
      "       @ Base ./generator.jl:51\n",
      "     [2] _similar_shape(itr::Base.Generator{var\"#68#71\", BootstrapVirasoro.var\"#316#320\"{Field{Complex{BigFloat}}}}, ::Base.HasLength)\n",
      "       @ Base ./array.jl:663\n",
      "     [3] collect(itr::Base.Generator{var\"#68#71\", BootstrapVirasoro.var\"#316#320\"{Field{Complex{BigFloat}}}})\n",
      "       @ Base ./array.jl:790\n",
      "     [4] (::BootstrapVirasoro.var\"#315#319\"{Symbol, @NamedTuple{s::var\"#68#71\", t::var\"#69#72\", u::var\"#70#73\"}, BootstrapVirasoro.CorrelationNonChiral{Complex{BigFloat}}, BootstrapVirasoro.BulkSpectrum{Complex{BigFloat}}, @NamedTuple{s::ChannelSpectrum{Complex{BigFloat}}, t::ChannelSpectrum{Complex{BigFloat}}, u::ChannelSpectrum{Complex{BigFloat}}}})()\n",
      "       @ BootstrapVirasoro ~/Documents/Recherche/projet_these/code/BootstrapVirasoro/src/spectra.jl:128\n",
      "\n",
      "Stacktrace:\n",
      "  [1] wait(t::Task)\n",
      "    @ Base ./task.jl:370\n",
      "  [2] fetch\n",
      "    @ ./task.jl:390 [inlined]\n",
      "  [3] #70\n",
      "    @ ./tuple.jl:692 [inlined]\n",
      "  [4] BottomRF\n",
      "    @ ./reduce.jl:86 [inlined]\n",
      "  [5] afoldl\n",
      "    @ ./operators.jl:553 [inlined]\n",
      "  [6] _foldl_impl\n",
      "    @ ./reduce.jl:68 [inlined]\n",
      "  [7] foldl_impl\n",
      "    @ ./reduce.jl:48 [inlined]\n",
      "  [8] mapfoldl_impl\n",
      "    @ ./reduce.jl:44 [inlined]\n",
      "  [9] mapfoldl\n",
      "    @ ./reduce.jl:175 [inlined]\n",
      " [10] foldl\n",
      "    @ ./reduce.jl:198 [inlined]\n",
      " [11] foreach\n",
      "    @ ./tuple.jl:692 [inlined]\n",
      " [12] ChannelSpectra(co::BootstrapVirasoro.CorrelationNonChiral{Complex{BigFloat}}, s::BootstrapVirasoro.BulkSpectrum{Complex{BigFloat}}; filters::@NamedTuple{s::var\"#68#71\", t::var\"#69#72\", u::var\"#70#73\"})\n",
      "    @ BootstrapVirasoro ~/Documents/Recherche/projet_these/code/BootstrapVirasoro/src/spectra.jl:136\n",
      " [13] top-level scope\n",
      "    @ ~/Documents/Recherche/projet_these/code/BootstrapVirasoro/examples/jl_notebook_cell_df34fa98e69747e1a8f8a730347b8e2f_X11sZmlsZQ==.jl:10"
     ]
    }
   ],
   "source": [
    "c = CC(β=1/big\"0.8\"+big\"0.1\"*im)\n",
    "Δmax = 15\n",
    "setprecision(BigFloat, 13)\n",
    "indices = ((1 // 2, 0), (1 // 2, 0), (1, 0), (1, 0))\n",
    "fields = [Field(c, r=r, s=s) for (r, s) in indices]\n",
    "co = Correlation(fields..., Δmax=Δmax)\n",
    "SOn = LoopSpectrum(:On, Δmax)\n",
    "\n",
    "signatures = (s=1, t=1//2, u=3//2)\n",
    "Schan_On = ChannelSpectra(co, SOn, signature=)"
   ]
  },
  {
   "cell_type": "code",
   "execution_count": 11,
   "id": "9fac58b8",
   "metadata": {},
   "outputs": [
    {
     "data": {
      "text/plain": [
       "Degenerate:\n",
       "<1, 1>\n",
       "Non-diagonal:\n",
       "(1//2, 0)\n",
       "(1, 0), (1, 1)\n",
       "(3//2, -2//3), (3//2, 0), (3//2, 2//3)\n",
       "(2, -1//2), (2, 0), (2, 1//2), (2, 1)\n",
       "(5//2, -4//5), (5//2, -2//5), (5//2, 0), (5//2, 2//5), (5//2, 4//5)\n",
       "(3, -2//3), (3, -1//3), (3, 0), (3, 1//3), (3, 2//3), (3, 1)\n",
       "(7//2, -6//7), (7//2, -4//7), (7//2, -2//7), (7//2, 0), (7//2, 2//7), (7//2, 4//7), (7//2, 6//7)\n",
       "(4, -3//4), (4, -1//2), (4, -1//4), (4, 0), (4, 1//4), (4, 1//2), (4, 3//4), (4, 1)"
      ]
     },
     "metadata": {},
     "output_type": "display_data"
    }
   ],
   "source": [
    "SOn"
   ]
  },
  {
   "cell_type": "code",
   "execution_count": null,
   "id": "acd083e0",
   "metadata": {},
   "outputs": [],
   "source": []
  }
 ],
 "metadata": {
  "kernelspec": {
   "display_name": "Julia 1.11.5",
   "language": "julia",
   "name": "julia-1.11"
  },
  "language_info": {
   "file_extension": ".jl",
   "mimetype": "application/julia",
   "name": "julia",
   "version": "1.11.5"
  }
 },
 "nbformat": 4,
 "nbformat_minor": 5
}
