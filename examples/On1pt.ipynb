{
 "cells": [
  {
   "cell_type": "markdown",
   "id": "824736bf",
   "metadata": {},
   "source": [
    "# Torus one-point functions of the $O(n)$ model"
   ]
  },
  {
   "cell_type": "code",
   "execution_count": 10,
   "id": "e3ce27de",
   "metadata": {},
   "outputs": [
    {
     "name": "stderr",
     "output_type": "stream",
     "text": [
      "\u001b[32m\u001b[1m  Activating\u001b[22m\u001b[39m project at `~/Documents/Recherche/projet_these/code/BootstrapVirasoro/examples`\n"
     ]
    },
    {
     "name": "stdout",
     "output_type": "stream",
     "text": [
      "Number of threads: 4\n"
     ]
    }
   ],
   "source": [
    "Pkg.activate(\".\"); # activate the parent environment\n",
    "using BootstrapVirasoro, BootstrapVirasoro.LoopModels, BenchmarkTools\n",
    "println(\"Number of threads: $(Threads.nthreads())\")"
   ]
  },
  {
   "cell_type": "code",
   "execution_count": null,
   "id": "3b2d535d",
   "metadata": {},
   "outputs": [
    {
     "data": {
      "text/plain": [
       "torus_spectra (generic function with 1 method)"
      ]
     },
     "metadata": {},
     "output_type": "display_data"
    }
   ],
   "source": [
    "const Sig = Channels{Rational}\n",
    "\n",
    "c = CC(β=-big\"0.8\"-big\"0.1\"*im)\n",
    "ndiag_indices = [(r, s) for r in 1//2:1//2:20 for s in -1+1//(2r):1//(2r):1 if r*s % 1//2 == 0]\n",
    "diag_field = Field(c, r=0, s=big\"0.4\"+big\"0.1\"*im)\n",
    "fields = vcat([Field(c, r = r, s = s) for (r, s) in ndiag_indices], diag_field)\n",
    "Δmax = 10\n",
    "setprecision(BigFloat, 8, base=10)\n",
    "co = Correlation(Field(c, r=1, s=0), Δmax)\n",
    "\n",
    "function torus_channelspectrum(co, fields; parity)\n",
    "    parity != 0 && (fields = filter(V -> V.diagonal || V.s >= 0, fields))\n",
    "    ChannelSpectrum(co, fields, V -> IBlock(co, V, parity=1))\n",
    "end\n",
    "\n",
    "function torus_spectra(fields, signature)\n",
    "    Vs = @channels filter(V -> V.r >= signature[chan], fields)\n",
    "    @channels torus_channelspectrum(co, Vs[chan], parity=1)\n",
    "end"
   ]
  },
  {
   "cell_type": "code",
   "execution_count": 13,
   "id": "7944577e",
   "metadata": {},
   "outputs": [
    {
     "name": "stdout",
     "output_type": "stream",
     "text": [
      "\u001b[0m\u001b[1m Channel s\u001b[22m\n",
      "┌──────────────┬────────────────────┬────────────────┐\n",
      "│\u001b[34m Field        \u001b[0m│\u001b[34m Structure constant \u001b[0m│\u001b[34m Relative error \u001b[0m│\n",
      "├──────────────┼────────────────────┼────────────────┤\n",
      "│       (1, 0) │\u001b[32m          1.0+0.0im \u001b[0m│\u001b[32m            0.0 \u001b[0m│\n",
      "│    (1, 1//2) │\u001b[31m 0.588295+1.94315im \u001b[0m│\u001b[31m        3.11977 \u001b[0m│\n",
      "│    (3//2, 0) │\u001b[31m -6.17451-9.46857im \u001b[0m│\u001b[31m       0.564183 \u001b[0m│\n",
      "│ (3//2, 1//3) │\u001b[31m  9.62008-9.63231im \u001b[0m│\u001b[31m        2.35228 \u001b[0m│\n",
      "│ (3//2, 2//3) │\u001b[31m  5.11095-35.3588im \u001b[0m│\u001b[31m        1.94307 \u001b[0m│\n",
      "│       (1, 1) │\u001b[31m  47.4123+5.51682im \u001b[0m│\u001b[31m        2.32943 \u001b[0m│\n",
      "│       (2, 0) │\u001b[31m -295.115+2.78228im \u001b[0m│\u001b[31m        1.81841 \u001b[0m│\n",
      "│    (2, 1//4) │\u001b[31m  62.8311-122.989im \u001b[0m│\u001b[31m         1.3369 \u001b[0m│\n",
      "│    (2, 1//2) │\u001b[31m -69.6903+89.6207im \u001b[0m│\u001b[31m        1.25148 \u001b[0m│\n",
      "│    (3//2, 1) │\u001b[31m 4.65511+0.670888im \u001b[0m│\u001b[31m        3.23408 \u001b[0m│\n",
      "│    (2, 3//4) │\u001b[31m   177.388+516.94im \u001b[0m│\u001b[31m        2.29432 \u001b[0m│\n",
      "│       (2, 1) │\u001b[31m  -1434.53+2418.9im \u001b[0m│\u001b[31m        1.71274 \u001b[0m│\n",
      "└──────────────┴────────────────────┴────────────────┘\n",
      "\u001b[0m\u001b[1m Channel t\u001b[22m\n",
      "┌──────────────┬────────────────────┬────────────────┐\n",
      "│\u001b[34m Field        \u001b[0m│\u001b[34m Structure constant \u001b[0m│\u001b[34m Relative error \u001b[0m│\n",
      "├──────────────┼────────────────────┼────────────────┤\n",
      "│       (1, 0) │\u001b[31m 0.588295+1.94315im \u001b[0m│\u001b[31m        3.11977 \u001b[0m│\n",
      "│    (1, 1//2) │\u001b[31m -6.17451-9.46857im \u001b[0m│\u001b[31m       0.564183 \u001b[0m│\n",
      "│    (3//2, 0) │\u001b[31m  9.62008-9.63231im \u001b[0m│\u001b[31m        2.35228 \u001b[0m│\n",
      "│ (3//2, 1//3) │\u001b[31m  5.11095-35.3588im \u001b[0m│\u001b[31m        1.94307 \u001b[0m│\n",
      "│ (3//2, 2//3) │\u001b[31m  47.4123+5.51682im \u001b[0m│\u001b[31m        2.32943 \u001b[0m│\n",
      "│       (1, 1) │\u001b[31m -295.115+2.78228im \u001b[0m│\u001b[31m        1.81841 \u001b[0m│\n",
      "│       (2, 0) │\u001b[31m  62.8311-122.989im \u001b[0m│\u001b[31m         1.3369 \u001b[0m│\n",
      "│    (2, 1//4) │\u001b[31m -69.6903+89.6207im \u001b[0m│\u001b[31m        1.25148 \u001b[0m│\n",
      "│    (2, 1//2) │\u001b[31m 4.65511+0.670888im \u001b[0m│\u001b[31m        3.23408 \u001b[0m│\n",
      "│    (3//2, 1) │\u001b[31m   177.388+516.94im \u001b[0m│\u001b[31m        2.29432 \u001b[0m│\n",
      "│    (2, 3//4) │\u001b[31m -9966.48+33534.7im \u001b[0m│\u001b[31m        2.62794 \u001b[0m│\n",
      "│       (2, 1) │\u001b[31m  27707.6+4423.34im \u001b[0m│\u001b[31m        1.49738 \u001b[0m│\n",
      "└──────────────┴────────────────────┴────────────────┘\n",
      "\u001b[0m\u001b[1m Channel u\u001b[22m\n",
      "┌──────────────┬──────────────────────┬────────────────┐\n",
      "│\u001b[34m Field        \u001b[0m│\u001b[34m Structure constant   \u001b[0m│\u001b[34m Relative error \u001b[0m│\n",
      "├──────────────┼──────────────────────┼────────────────┤\n",
      "│       (1, 0) │\u001b[31m  0.499051+0.310166im \u001b[0m│\u001b[31m        1.39841 \u001b[0m│\n",
      "│    (1, 1//2) │\u001b[31m 0.0287621-0.235016im \u001b[0m│\u001b[31m       0.828107 \u001b[0m│\n",
      "│    (3//2, 0) │\u001b[31m  -0.712062-3.88461im \u001b[0m│\u001b[31m        1.24795 \u001b[0m│\n",
      "│ (3//2, 1//3) │\u001b[31m  0.772178+0.751813im \u001b[0m│\u001b[31m        1.23458 \u001b[0m│\n",
      "│ (3//2, 2//3) │\u001b[31m  0.676301+0.909747im \u001b[0m│\u001b[31m       0.945688 \u001b[0m│\n",
      "│       (1, 1) │\u001b[31m    6.87329-8.67735im \u001b[0m│\u001b[31m       0.895849 \u001b[0m│\n",
      "│       (2, 0) │\u001b[31m   -24.0128-19.2741im \u001b[0m│\u001b[31m        1.20327 \u001b[0m│\n",
      "│    (2, 1//4) │\u001b[31m   -37.7651+3.65267im \u001b[0m│\u001b[31m       0.676311 \u001b[0m│\n",
      "│    (2, 1//2) │\u001b[31m   -62.0293-163.658im \u001b[0m│\u001b[31m        1.63182 \u001b[0m│\n",
      "│    (3//2, 1) │\u001b[31m -0.671167+0.151834im \u001b[0m│\u001b[31m        1.85959 \u001b[0m│\n",
      "│    (2, 3//4) │\u001b[31m    23.1501+185.205im \u001b[0m│\u001b[31m        4.01281 \u001b[0m│\n",
      "│       (2, 1) │\u001b[31m   -56.9612+113.127im \u001b[0m│\u001b[31m        1.14844 \u001b[0m│\n",
      "└──────────────┴──────────────────────┴────────────────┘\n"
     ]
    }
   ],
   "source": [
    "sig = Sig(1, 1, 1)\n",
    "specs = torus_spectra(fields, sig);\n",
    "\n",
    "sys = BootstrapSystem(specs)\n",
    "evaluate_blocks!(sys)\n",
    "compute_linear_system!(sys);\n",
    "solve!(sys)\n",
    "show(stdout, sys.str_cst, rmax=2)"
   ]
  },
  {
   "cell_type": "code",
   "execution_count": 76,
   "id": "c84de0aa",
   "metadata": {},
   "outputs": [
    {
     "data": {
      "text/plain": [
       "23-element Vector{Complex{BigFloat}}:\n",
       "  0.1808480527 + 0.5740926042im\n",
       "  0.2284243442 + 0.5458371565im\n",
       "  0.1552194115 + 0.5889387056im\n",
       "  0.1637292057 + 0.4784067497im\n",
       "  0.1875439044 + 0.5335608795im\n",
       "  0.1826739181 + 0.6845091358im\n",
       "   0.145901341 + 0.4842026532im\n",
       "  0.2040876448 + 0.6092510223im\n",
       "   0.109705504 + 0.5661882311im\n",
       "  0.2146782186 + 0.5893488452im\n",
       "               ⋮\n",
       " 0.07138148695 + 0.5502460822im\n",
       "   0.108753223 + 0.5131443366im\n",
       " 0.09950471483 + 0.5295872837im\n",
       "  0.1579050273 + 0.4943104833im\n",
       "  0.2060903981 + 0.5270898044im\n",
       "  0.1280253567 + 0.5126438215im\n",
       "  0.1255315691 + 0.4873910993im\n",
       "  0.1704721227 + 0.6282873303im\n",
       "  0.0677560335 + 0.5117262751im"
      ]
     },
     "metadata": {},
     "output_type": "display_data"
    }
   ],
   "source": [
    "sys.positions"
   ]
  },
  {
   "cell_type": "code",
   "execution_count": null,
   "id": "1120b011",
   "metadata": {},
   "outputs": [],
   "source": [
    "function prefactor_f(τ, co_s, chan, lr)\n",
    "    x_cache = PosCache(xfromτ(τ), co_s[lr], chan)\n",
    "    return inv(\n",
    "        etaDedekind(τ) * x_cache.prefactor\n",
    "    )\n",
    "end\n",
    "\n",
    "nonchiral_prefactor_f(τ, co_s, chan) = prefactor_f(τ, co_s, chan, :left) * \n",
    "    prefactor_f(-conj(τ), co_s, chan, :right)"
   ]
  }
 ],
 "metadata": {
  "kernelspec": {
   "display_name": "Julia 1.11.7",
   "language": "julia",
   "name": "julia-1.11"
  },
  "language_info": {
   "file_extension": ".jl",
   "mimetype": "application/julia",
   "name": "julia",
   "version": "1.11.7"
  }
 },
 "nbformat": 4,
 "nbformat_minor": 5
}
