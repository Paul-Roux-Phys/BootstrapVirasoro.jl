{
 "cells": [
  {
   "cell_type": "markdown",
   "id": "03777087",
   "metadata": {},
   "source": [
    "# Four point functions in the $O(n)$ model\n",
    "\n",
    "This notebook reproduces some known results about Potts and $O(n)$ four-point functions, using the new Julia code."
   ]
  },
  {
   "cell_type": "code",
   "execution_count": 1,
   "id": "5d7699d5",
   "metadata": {},
   "outputs": [
    {
     "name": "stderr",
     "output_type": "stream",
     "text": [
      "\u001b[32m\u001b[1m  Activating\u001b[22m\u001b[39m "
     ]
    },
    {
     "name": "stdout",
     "output_type": "stream",
     "text": [
      "Number of threads: 4\n"
     ]
    },
    {
     "name": "stderr",
     "output_type": "stream",
     "text": [
      "project at `~/Documents/Recherche/projet_these/code/BootstrapVirasoro/examples`\n"
     ]
    }
   ],
   "source": [
    "Pkg.activate(\".\"); # activate the parent environment\n",
    "using BootstrapVirasoro, BootstrapVirasoro.LoopModels, BenchmarkTools\n",
    "println(\"Number of threads: $(Threads.nthreads())\")"
   ]
  },
  {
   "cell_type": "markdown",
   "id": "ad8906b8",
   "metadata": {},
   "source": [
    "## Spectrum\n",
    "\n",
    "We solve crossing symmetry equations for the spectrum of the $O(n)$ CFT:\n",
    "\n",
    "\\begin{align}\n",
    "\\mathcal{S}^{O(n)} &= \\left\\{V^d_{\\langle 1,s\\rangle}\\right\\}_{s\\in 2\\mathbb{N}+1} \\bigcup \\left\\{V_{(r,s)}\\right\\}_{\\substack{r\\in \\frac12\\mathbb{N}^*\\\\ s\\in\\frac{1}{r}\\mathbb{Z}}}  \\ ,\n",
    "\\end{align}\n",
    "\n",
    "## Bootstrap equations\n",
    "\n",
    "We then numerically solve\n",
    "\n",
    "\\begin{align}\n",
    "\\sum_{V \\in \\mathcal{S}^{(s)}} D^{(s)}_V \\mathcal I^{(s)}_V (x) = \\sum_{V \\in \\mathcal{S}^{(t)}} D^{(t)}_V \\mathcal I^{(t)}_V (x) = \\sum_{V \\in \\mathcal{S}^{(u)}} D^{(u)}_V \\mathcal I^{(u)}_V (x),\n",
    "\\end{align}\n",
    "\n",
    "for some channel spectra $\\mathcal{S}^{(s)}, \\mathcal{S}^{(t)}, \\mathcal{S}^{(u)}$, where $\\mathcal I$ are interchiral conformal blocks, and the $D$'s are four-point structure constants.\n",
    "\n",
    "We solve this system as\n",
    "\\begin{equation}\n",
    "\\underbrace{\n",
    "\\begin{bmatrix}\n",
    "[\\mathcal I^{(s)}_{V_j}(x_i)]_{ij} & [-\\mathcal I^{(t)}_{V_j}(1-x_i)]_{ij} & [0] \\\\\n",
    "[\\mathcal I^{(s)}_{V_j}(x_i)]_{ij} & [0] & [-\\mathcal I^{(u)}_{V_j}(1/x_i)]_{ij}\n",
    "\\end{bmatrix}}_A\n",
    "\\begin{bmatrix}\n",
    "[D^{(s)}_{V_j}]_j \\\\\n",
    "[D^{(t)}_{V_j}]_j \\\\\n",
    "[D^{(u)}_{V_j}]_j\n",
    "\\end{bmatrix} = \n",
    "\\begin{bmatrix}\n",
    "\\sum_{V_j \\in \\text{ known}} D^{(t)}_{V_j} \\mathcal{I}^{(t)}_{V_j}(1-x_i) - \\sum_{V_j \\in \\text{ known}} D^{(s)}_{V_j} \\mathcal{I}^{(s)}_{V_j}(x_i)\\\\\n",
    "\\sum_{V_j \\in \\text{ known}} D^{(u)}_{V_j} \\mathcal{I}^{(u)}_{V_j}(1/x_i) - \\sum_{V_j \\in \\text{ known}} D^{(s)}_{V_j} \\mathcal{I}^{(s)}_{V_j}(x_i)\n",
    "\\end{bmatrix}\n",
    "\\end{equation}\n",
    "where the $x_i$ take more values than there are unknowns, i.e. $A$ is a tall rectangular matrix. \n",
    "\n",
    "To check numerical convergence, we solve two subsystems and compare the solutions. If the solutions are close, we know the computation has converged.\n"
   ]
  },
  {
   "cell_type": "code",
   "execution_count": 88,
   "id": "af82dfda",
   "metadata": {},
   "outputs": [
    {
     "data": {
      "text/plain": [
       "solve (generic function with 2 methods)"
      ]
     },
     "metadata": {},
     "output_type": "display_data"
    }
   ],
   "source": [
    "const Sig = Channels{Rational}\n",
    "\n",
    "# Spectrum of O(n) model\n",
    "c_S2 = CC(β=1 / (big\"0.8\" + big\"0.1\" * im))\n",
    "ndiag_indices = [(r, s) for r in 1//2:1//2:20 for s in -1+1//(2r):1//(2r):1 if r * s % 1 == 0]\n",
    "diag_field_S2 = Field(c_S2, r=0, s=big\"0.4\" + big\"0.1\" * im)\n",
    "fields_S2 = vcat([Field(c_S2, r=r, s=s) for (r, s) in ndiag_indices], diag_field_S2)\n",
    "\n",
    "# Determine the parity of the number of legs in 4pt channels\n",
    "function chan_parities(co::Correlation4)\n",
    "    V1, V2, V3, V4 = co.fields\n",
    "    chan_parities = Channels{Rational}((V1.r + V2.r) % 1, (V1.r + V4.r) % 1, (V1.r + V3.r) % 1)\n",
    "end\n",
    "\n",
    "# Compute series of blocks for any channel field compatible\n",
    "# with the correlation co\n",
    "function LoopSpectra(co, fields, fs)\n",
    "    Vs = @channels filter(V -> V.r % 1 == chan_parities(co)[chan], fields)\n",
    "    @channels ChannelSpectrum(co, chan, Vs[chan], fs[chan])\n",
    "end\n",
    "\n",
    "# Compute series of blocks, keeping only one of each (field, reflected field) pair\n",
    "# given indices of the external fields.\n",
    "function precompute_blocks(indices, fields; parity, precision=10)\n",
    "    setprecision(BigFloat, floor(Int, 1.2 * precision), base=10)\n",
    "    Δmax = floor(Int, 1.5 * precision)\n",
    "    co = Correlation([Field(c_S2, r=r, s=s) for (r, s) in ind], Δmax)\n",
    "    parity != 0 && (fields = filter(V -> V.diagonal || V.s >= 0, fields))\n",
    "    fs = Channels(chan -> (V -> IBlock(co, chan, V, parity=parity)))\n",
    "    LoopSpectra(co, fields, fs)\n",
    "end\n",
    "\n",
    "# Solve crossing symmetry for given signature\n",
    "function solve(specs, signature; even_spin=Channels(false), int_spin=Channels(false), rmax=3, show=true)\n",
    "    specs = @channels filter(V -> V.r >= signature[chan], specs[chan])\n",
    "    specs = @channels filter(V -> even_spin[chan] ? spin(V) % 2 == 0 : true, specs[chan])\n",
    "    specs = @channels filter(V -> int_spin[chan] ? spin(V) % 1 == 0 : true, specs[chan])\n",
    "    system = solve_bootstrap(specs)\n",
    "    if show\n",
    "        Base.show(stdout, system.str_cst, rmax=rmax)\n",
    "    end\n",
    "    return system\n",
    "end"
   ]
  },
  {
   "cell_type": "markdown",
   "id": "f8064650",
   "metadata": {},
   "source": [
    "## $\\langle (\\frac{1}{2}, 0)^4 \\rangle$"
   ]
  },
  {
   "cell_type": "code",
   "execution_count": 7,
   "id": "b855110c",
   "metadata": {},
   "outputs": [],
   "source": [
    "ind = ((1 // 2, 0), (1 // 2, 0), (1 // 2, 0), (1 // 2, 0))\n",
    "blocks_even = precompute_blocks(ind, fields_S2, parity=1, precision=10);"
   ]
  },
  {
   "cell_type": "code",
   "execution_count": 8,
   "id": "62acf83f",
   "metadata": {},
   "outputs": [
    {
     "name": "stdout",
     "output_type": "stream",
     "text": [
      "\u001b[0m\u001b[1m Channel s\u001b[22m\n",
      "┌─────────────────┬────────────────────────────┬────────────────┐\n",
      "│\u001b[34m Field           \u001b[0m│\u001b[34m Structure constant         \u001b[0m│\u001b[34m Relative error \u001b[0m│\n",
      "├─────────────────┼────────────────────────────┼────────────────┤\n",
      "│ (P=0.16+0.06im) │\u001b[32m                  1.0+0.0im \u001b[0m│\u001b[32m            0.0 \u001b[0m│\n",
      "│          (1, 0) │\u001b[32m       -0.255839+0.565057im \u001b[0m│\u001b[32m     1.53701e-8 \u001b[0m│\n",
      "│          (1, 1) │\u001b[32m                          0 \u001b[0m│\u001b[32m       0.849788 \u001b[0m│\n",
      "│          (2, 0) │\u001b[32m  0.000304229+0.000902009im \u001b[0m│\u001b[32m     6.79824e-6 \u001b[0m│\n",
      "│       (2, 1//2) │\u001b[32m                          0 \u001b[0m│\u001b[32m       0.246734 \u001b[0m│\n",
      "│          (2, 1) │\u001b[32m -8.36374e-05-0.000396747im \u001b[0m│\u001b[32m     1.05754e-5 \u001b[0m│\n",
      "└─────────────────┴────────────────────────────┴────────────────┘\n",
      "\u001b[0m\u001b[1m Channel t\u001b[22m\n",
      "┌───────────┬────────────────────────────┬────────────────┐\n",
      "│\u001b[34m Field     \u001b[0m│\u001b[34m Structure constant         \u001b[0m│\u001b[34m Relative error \u001b[0m│\n",
      "├───────────┼────────────────────────────┼────────────────┤\n",
      "│    (1, 0) │\u001b[32m       -0.255839+0.565057im \u001b[0m│\u001b[32m     1.53701e-8 \u001b[0m│\n",
      "│    (1, 1) │\u001b[32m                          0 \u001b[0m│\u001b[32m       0.849788 \u001b[0m│\n",
      "│    (2, 0) │\u001b[32m  0.000304229+0.000902009im \u001b[0m│\u001b[32m     6.79824e-6 \u001b[0m│\n",
      "│ (2, 1//2) │\u001b[32m                          0 \u001b[0m│\u001b[32m       0.246734 \u001b[0m│\n",
      "│    (2, 1) │\u001b[32m -8.36374e-05-0.000396747im \u001b[0m│\u001b[32m     1.05754e-5 \u001b[0m│\n",
      "└───────────┴────────────────────────────┴────────────────┘\n",
      "\u001b[0m\u001b[1m Channel u\u001b[22m\n",
      "┌───────────┬────────────────────────────┬────────────────┐\n",
      "│\u001b[34m Field     \u001b[0m│\u001b[34m Structure constant         \u001b[0m│\u001b[34m Relative error \u001b[0m│\n",
      "├───────────┼────────────────────────────┼────────────────┤\n",
      "│    (1, 0) │\u001b[32m       0.383152+0.0460006im \u001b[0m│\u001b[32m     1.62275e-8 \u001b[0m│\n",
      "│    (1, 1) │\u001b[32m       0.149609-0.0159249im \u001b[0m│\u001b[32m     2.14234e-8 \u001b[0m│\n",
      "│    (2, 0) │\u001b[32m -0.000582646-0.000313569im \u001b[0m│\u001b[32m     4.76053e-5 \u001b[0m│\n",
      "│ (2, 1//2) │\u001b[32m -0.000280575+0.000250685im \u001b[0m│\u001b[32m     7.17982e-5 \u001b[0m│\n",
      "│    (2, 1) │\u001b[32m  0.000147649+0.000103306im \u001b[0m│\u001b[32m     7.59304e-5 \u001b[0m│\n",
      "└───────────┴────────────────────────────┴────────────────┘\n"
     ]
    }
   ],
   "source": [
    "sol = solve(blocks_even, Sig(0, 1, 1), rmax=2);"
   ]
  },
  {
   "cell_type": "markdown",
   "id": "bcdd3828",
   "metadata": {},
   "source": [
    "Benchmarks: on my 2015, 4-core Intel Macbook pro.\n",
    "| Precision          | Python | Julia |\n",
    "|----------|----------|----------|\n",
    "| $\\Delta_{\\mathrm{max}}=20$, 13 digits  | 2min23s  | 2.3s  |\n",
    "| $\\Delta_{\\mathrm{max}}=30$, 25 digits  | 8min10s  | 3.0s  |\n",
    "| $\\Delta_{\\mathrm{max}}=40$, 35 digits  | 23min18s  | 12.6s  |"
   ]
  },
  {
   "cell_type": "markdown",
   "id": "9e3f3ac3",
   "metadata": {},
   "source": [
    "## $\\langle (\\frac{1}{2}, 0)^2 (1, 0)^2 \\rangle$"
   ]
  },
  {
   "cell_type": "code",
   "execution_count": 5,
   "id": "42d6e272",
   "metadata": {},
   "outputs": [],
   "source": [
    "ind = ((1//2, 0), (1//2, 0), (1, 0), (1, 0))\n",
    "blocks_even = precompute_blocks(ind, fields_S2, parity=1, precision=20);"
   ]
  },
  {
   "cell_type": "markdown",
   "id": "cd05328b",
   "metadata": {},
   "source": [
    "### Signature $(0, \\frac32, \\frac32)$"
   ]
  },
  {
   "cell_type": "code",
   "execution_count": 6,
   "id": "9bb2ac0b",
   "metadata": {},
   "outputs": [
    {
     "name": "stdout",
     "output_type": "stream",
     "text": [
      "\u001b[0m\u001b[1m Channel s\u001b[22m\n",
      "┌─────────────────┬────────────────────────────┬────────────────┐\n",
      "│\u001b[34m Field           \u001b[0m│\u001b[34m Structure constant         \u001b[0m│\u001b[34m Relative error \u001b[0m│\n",
      "├─────────────────┼────────────────────────────┼────────────────┤\n",
      "│ (P=0.16+0.06im) │\u001b[32m                  1.0+0.0im \u001b[0m│\u001b[32m            0.0 \u001b[0m│\n",
      "│          (1, 0) │\u001b[32m        -0.26148+0.923384im \u001b[0m│\u001b[32m    6.51652e-19 \u001b[0m│\n",
      "│          (1, 1) │\u001b[32m                          0 \u001b[0m│\u001b[32m        2.89824 \u001b[0m│\n",
      "│          (2, 0) │\u001b[32m       0.0017207-0.002615im \u001b[0m│\u001b[32m    3.53625e-16 \u001b[0m│\n",
      "│       (2, 1//2) │\u001b[32m                          0 \u001b[0m│\u001b[32m        3.81398 \u001b[0m│\n",
      "│          (2, 1) │\u001b[32m                          0 \u001b[0m│\u001b[32m        3.17457 \u001b[0m│\n",
      "│          (3, 0) │\u001b[32m -1.28106e-06-8.33233e-08im \u001b[0m│\u001b[32m    3.05527e-12 \u001b[0m│\n",
      "│       (3, 1//3) │\u001b[32m                          0 \u001b[0m│\u001b[32m        6.84996 \u001b[0m│\n",
      "│       (3, 2//3) │\u001b[32m  8.01481e-07-6.16705e-08im \u001b[0m│\u001b[32m    1.55871e-12 \u001b[0m│\n",
      "│          (3, 1) │\u001b[32m                          0 \u001b[0m│\u001b[32m        2.83822 \u001b[0m│\n",
      "└─────────────────┴────────────────────────────┴────────────────┘\n",
      "\u001b[0m\u001b[1m Channel t\u001b[22m\n",
      "┌──────────────┬──────────────────────┬────────────────┐\n",
      "│\u001b[34m Field        \u001b[0m│\u001b[34m Structure constant   \u001b[0m│\u001b[34m Relative error \u001b[0m│\n",
      "├──────────────┼──────────────────────┼────────────────┤\n",
      "│    (3//2, 0) │\u001b[32m  -0.26148+0.923384im \u001b[0m│\u001b[32m    6.51652e-19 \u001b[0m│\n",
      "│ (3//2, 2//3) │\u001b[32m                    0 \u001b[0m│\u001b[32m        2.89824 \u001b[0m│\n",
      "│    (5//2, 0) │\u001b[32m 0.0017207-0.002615im \u001b[0m│\u001b[32m    3.53625e-16 \u001b[0m│\n",
      "│ (5//2, 2//5) │\u001b[32m                    0 \u001b[0m│\u001b[32m        3.81398 \u001b[0m│\n",
      "│ (5//2, 4//5) │\u001b[32m                    0 \u001b[0m│\u001b[32m        3.17457 \u001b[0m│\n",
      "└──────────────┴──────────────────────┴────────────────┘\n",
      "\u001b[0m\u001b[1m Channel u\u001b[22m\n",
      "┌──────────────┬────────────────────────────┬────────────────┐\n",
      "│\u001b[34m Field        \u001b[0m│\u001b[34m Structure constant         \u001b[0m│\u001b[34m Relative error \u001b[0m│\n",
      "├──────────────┼────────────────────────────┼────────────────┤\n",
      "│    (3//2, 0) │\u001b[32m       0.243028+0.0341728im \u001b[0m│\u001b[32m    5.96413e-19 \u001b[0m│\n",
      "│ (3//2, 2//3) │\u001b[32m      0.148876+0.00323883im \u001b[0m│\u001b[32m    9.10373e-19 \u001b[0m│\n",
      "│    (5//2, 0) │\u001b[32m -0.000192724-4.72744e-05im \u001b[0m│\u001b[32m    8.00089e-16 \u001b[0m│\n",
      "│ (5//2, 2//5) │\u001b[32m -0.000104103+2.66871e-05im \u001b[0m│\u001b[32m    1.30004e-15 \u001b[0m│\n",
      "│ (5//2, 4//5) │\u001b[32m  2.16716e-05+5.62102e-05im \u001b[0m│\u001b[32m    3.81033e-16 \u001b[0m│\n",
      "└──────────────┴────────────────────────────┴────────────────┘\n"
     ]
    }
   ],
   "source": [
    "sol = solve(blocks_even, Sig(0, 3//2, 3//2));"
   ]
  },
  {
   "cell_type": "markdown",
   "id": "cdbb038f",
   "metadata": {},
   "source": [
    "### Signature $(1, \\frac12, \\frac32)$"
   ]
  },
  {
   "cell_type": "code",
   "execution_count": 80,
   "id": "e8e71e7c",
   "metadata": {},
   "outputs": [
    {
     "name": "stdout",
     "output_type": "stream",
     "text": [
      "\u001b[0m\u001b[1m Channel s\u001b[22m\n",
      "┌───────────┬────────────────────────────┬────────────────┐\n",
      "│\u001b[34m Field     \u001b[0m│\u001b[34m Structure constant         \u001b[0m│\u001b[34m Relative error \u001b[0m│\n",
      "├───────────┼────────────────────────────┼────────────────┤\n",
      "│    (1, 0) │\u001b[32m                  1.0+0.0im \u001b[0m│\u001b[32m            0.0 \u001b[0m│\n",
      "│    (1, 1) │\u001b[32m       0.502183-0.0830317im \u001b[0m│\u001b[32m    9.88134e-19 \u001b[0m│\n",
      "│    (2, 0) │\u001b[32m     0.00239155+0.0255139im \u001b[0m│\u001b[32m    6.66122e-17 \u001b[0m│\n",
      "│ (2, 1//2) │\u001b[32m     0.00273704+0.0200265im \u001b[0m│\u001b[32m    2.02014e-17 \u001b[0m│\n",
      "│    (2, 1) │\u001b[32m                          0 \u001b[0m│\u001b[32m        1.28257 \u001b[0m│\n",
      "│    (3, 0) │\u001b[32m -6.40312e-07-1.92164e-06im \u001b[0m│\u001b[32m     2.5215e-12 \u001b[0m│\n",
      "│ (3, 1//3) │\u001b[32m -7.07647e-07-9.43683e-07im \u001b[0m│\u001b[32m    3.51888e-12 \u001b[0m│\n",
      "│ (3, 2//3) │\u001b[32m -6.00257e-07+2.35486e-07im \u001b[0m│\u001b[32m    2.48351e-12 \u001b[0m│\n",
      "│    (3, 1) │\u001b[32m                          0 \u001b[0m│\u001b[32m         1.4421 \u001b[0m│\n",
      "└───────────┴────────────────────────────┴────────────────┘\n",
      "\u001b[0m\u001b[1m Channel t\u001b[22m\n",
      "┌──────────────┬────────────────────────────┬────────────────┐\n",
      "│\u001b[34m Field        \u001b[0m│\u001b[34m Structure constant         \u001b[0m│\u001b[34m Relative error \u001b[0m│\n",
      "├──────────────┼────────────────────────────┼────────────────┤\n",
      "│    (1//2, 0) │\u001b[32m       0.502183-0.0830317im \u001b[0m│\u001b[32m    9.88134e-19 \u001b[0m│\n",
      "│    (3//2, 0) │\u001b[32m     0.00239155+0.0255139im \u001b[0m│\u001b[32m    6.66122e-17 \u001b[0m│\n",
      "│ (3//2, 2//3) │\u001b[32m     0.00273704+0.0200265im \u001b[0m│\u001b[32m    2.02014e-17 \u001b[0m│\n",
      "│    (5//2, 0) │\u001b[32m                          0 \u001b[0m│\u001b[32m        1.28257 \u001b[0m│\n",
      "│ (5//2, 2//5) │\u001b[32m -6.40312e-07-1.92164e-06im \u001b[0m│\u001b[32m     2.5215e-12 \u001b[0m│\n",
      "│ (5//2, 4//5) │\u001b[32m -7.07647e-07-9.43683e-07im \u001b[0m│\u001b[32m    3.51888e-12 \u001b[0m│\n",
      "└──────────────┴────────────────────────────┴────────────────┘\n",
      "\u001b[0m\u001b[1m Channel u\u001b[22m\n",
      "┌──────────────┬────────────────────────────┬────────────────┐\n",
      "│\u001b[34m Field        \u001b[0m│\u001b[34m Structure constant         \u001b[0m│\u001b[34m Relative error \u001b[0m│\n",
      "├──────────────┼────────────────────────────┼────────────────┤\n",
      "│    (3//2, 0) │\u001b[32m        1.30307+0.0804648im \u001b[0m│\u001b[32m    9.33041e-19 \u001b[0m│\n",
      "│ (3//2, 2//3) │\u001b[32m       -0.318147+0.319549im \u001b[0m│\u001b[32m     1.3007e-18 \u001b[0m│\n",
      "│    (5//2, 0) │\u001b[32m       0.0191759+0.077773im \u001b[0m│\u001b[32m    2.04776e-18 \u001b[0m│\n",
      "│ (5//2, 2//5) │\u001b[32m -6.35679e-05+0.000494363im \u001b[0m│\u001b[32m    2.62132e-16 \u001b[0m│\n",
      "│ (5//2, 4//5) │\u001b[32m -2.24137e-05+8.12728e-05im \u001b[0m│\u001b[32m    1.91045e-15 \u001b[0m│\n",
      "└──────────────┴────────────────────────────┴────────────────┘\n"
     ]
    }
   ],
   "source": [
    "solve(blocks_even, Sig(1, 1//2, 3//2));"
   ]
  },
  {
   "cell_type": "markdown",
   "id": "500476f1",
   "metadata": {},
   "source": [
    "### Signature $(1, \\frac32, \\frac12)$"
   ]
  },
  {
   "cell_type": "code",
   "execution_count": 81,
   "id": "460ecb44",
   "metadata": {},
   "outputs": [
    {
     "name": "stdout",
     "output_type": "stream",
     "text": [
      "\u001b[0m\u001b[1m Channel s\u001b[22m\n",
      "┌───────────┬────────────────────────────┬────────────────┐\n",
      "│\u001b[34m Field     \u001b[0m│\u001b[34m Structure constant         \u001b[0m│\u001b[34m Relative error \u001b[0m│\n",
      "├───────────┼────────────────────────────┼────────────────┤\n",
      "│    (1, 0) │\u001b[32m                  1.0+0.0im \u001b[0m│\u001b[32m            0.0 \u001b[0m│\n",
      "│    (1, 1) │\u001b[32m      -0.502183+0.0830317im \u001b[0m│\u001b[32m    6.14357e-19 \u001b[0m│\n",
      "│    (2, 0) │\u001b[32m     0.00239155+0.0255139im \u001b[0m│\u001b[32m     4.3717e-17 \u001b[0m│\n",
      "│ (2, 1//2) │\u001b[32m    -0.00273704-0.0200265im \u001b[0m│\u001b[32m    1.22157e-17 \u001b[0m│\n",
      "│    (2, 1) │\u001b[32m                          0 \u001b[0m│\u001b[32m        1.38137 \u001b[0m│\n",
      "│    (3, 0) │\u001b[32m -6.40312e-07-1.92164e-06im \u001b[0m│\u001b[32m     2.3246e-12 \u001b[0m│\n",
      "│ (3, 1//3) │\u001b[32m  7.07647e-07+9.43683e-07im \u001b[0m│\u001b[32m     2.8984e-12 \u001b[0m│\n",
      "│ (3, 2//3) │\u001b[32m -6.00257e-07+2.35486e-07im \u001b[0m│\u001b[32m    2.18162e-12 \u001b[0m│\n",
      "│    (3, 1) │\u001b[32m                          0 \u001b[0m│\u001b[32m        1.29062 \u001b[0m│\n",
      "└───────────┴────────────────────────────┴────────────────┘\n",
      "\u001b[0m\u001b[1m Channel t\u001b[22m\n",
      "┌──────────────┬────────────────────────────┬────────────────┐\n",
      "│\u001b[34m Field        \u001b[0m│\u001b[34m Structure constant         \u001b[0m│\u001b[34m Relative error \u001b[0m│\n",
      "├──────────────┼────────────────────────────┼────────────────┤\n",
      "│    (3//2, 0) │\u001b[32m      -0.502183+0.0830317im \u001b[0m│\u001b[32m    6.14357e-19 \u001b[0m│\n",
      "│ (3//2, 2//3) │\u001b[32m     0.00239155+0.0255139im \u001b[0m│\u001b[32m     4.3717e-17 \u001b[0m│\n",
      "│    (5//2, 0) │\u001b[32m    -0.00273704-0.0200265im \u001b[0m│\u001b[32m    1.22157e-17 \u001b[0m│\n",
      "│ (5//2, 2//5) │\u001b[32m                          0 \u001b[0m│\u001b[32m        1.38137 \u001b[0m│\n",
      "│ (5//2, 4//5) │\u001b[32m -6.40312e-07-1.92164e-06im \u001b[0m│\u001b[32m     2.3246e-12 \u001b[0m│\n",
      "└──────────────┴────────────────────────────┴────────────────┘\n",
      "\u001b[0m\u001b[1m Channel u\u001b[22m\n",
      "┌──────────────┬────────────────────────────┬────────────────┐\n",
      "│\u001b[34m Field        \u001b[0m│\u001b[34m Structure constant         \u001b[0m│\u001b[34m Relative error \u001b[0m│\n",
      "├──────────────┼────────────────────────────┼────────────────┤\n",
      "│    (1//2, 0) │\u001b[32m        0.810308+0.138605im \u001b[0m│\u001b[32m    4.50916e-19 \u001b[0m│\n",
      "│    (3//2, 0) │\u001b[32m      -0.249073-0.0128304im \u001b[0m│\u001b[32m    1.17359e-18 \u001b[0m│\n",
      "│ (3//2, 2//3) │\u001b[32m -0.000357969-9.73578e-05im \u001b[0m│\u001b[32m    4.26931e-16 \u001b[0m│\n",
      "│    (5//2, 0) │\u001b[32m  0.000288598-0.000227579im \u001b[0m│\u001b[32m    3.99952e-16 \u001b[0m│\n",
      "│ (5//2, 2//5) │\u001b[32m -1.80481e-05+8.79009e-05im \u001b[0m│\u001b[32m    2.41959e-16 \u001b[0m│\n",
      "│ (5//2, 4//5) │\u001b[32m   1.7462e-09-4.00965e-09im \u001b[0m│\u001b[32m     1.22107e-9 \u001b[0m│\n",
      "└──────────────┴────────────────────────────┴────────────────┘\n"
     ]
    }
   ],
   "source": [
    "sol = solve(blocks_even, Sig(1, 3//2, 1//2));"
   ]
  },
  {
   "cell_type": "markdown",
   "id": "844aa49b",
   "metadata": {},
   "source": [
    "## $\\left\\langle (0, \\frac12)^3 P \\right\\rangle$"
   ]
  },
  {
   "cell_type": "code",
   "execution_count": null,
   "id": "525f7fbf",
   "metadata": {},
   "outputs": [
    {
     "name": "stdout",
     "output_type": "stream",
     "text": [
      "\u001b[0m\u001b[1m Channel s\u001b[22m\n",
      "┌─────────────────┬────────────────────────────┬────────────────┐\n",
      "│\u001b[34m Field           \u001b[0m│\u001b[34m Structure constant         \u001b[0m│\u001b[34m Relative error \u001b[0m│\n",
      "├─────────────────┼────────────────────────────┼────────────────┤\n",
      "│ (P=0.16+0.06im) │\u001b[32m                  1.0+0.0im \u001b[0m│\u001b[32m            0.0 \u001b[0m│\n",
      "│          (1, 0) │\u001b[32m       0.033039+0.0170519im \u001b[0m│\u001b[32m    1.53044e-19 \u001b[0m│\n",
      "│          (2, 0) │\u001b[32m  2.18931e-05+8.64717e-06im \u001b[0m│\u001b[32m    2.31071e-16 \u001b[0m│\n",
      "│          (2, 1) │\u001b[32m  1.81338e-05-1.64188e-05im \u001b[0m│\u001b[32m    4.27661e-17 \u001b[0m│\n",
      "│          (3, 0) │\u001b[32m -3.15216e-11+1.70895e-10im \u001b[0m│\u001b[32m    2.43722e-10 \u001b[0m│\n",
      "│       (3, 2//3) │\u001b[32m  -1.5888e-10+8.58888e-10im \u001b[0m│\u001b[32m    5.21382e-12 \u001b[0m│\n",
      "│          (4, 0) │ -1.43798e-16-1.12514e-16im │     0.00208119 │\n",
      "│       (4, 1//2) │ -2.78536e-16-1.98927e-16im │    0.000460803 │\n",
      "│          (4, 1) │    6.0737e-17-1.7951e-16im │    0.000379093 │\n",
      "└─────────────────┴────────────────────────────┴────────────────┘\n",
      "\u001b[0m\u001b[1m Channel t\u001b[22m\n",
      "┌─────────────────┬────────────────────────────┬────────────────┐\n",
      "│\u001b[34m Field           \u001b[0m│\u001b[34m Structure constant         \u001b[0m│\u001b[34m Relative error \u001b[0m│\n",
      "├─────────────────┼────────────────────────────┼────────────────┤\n",
      "│ (P=0.16+0.06im) │\u001b[32m       0.033039+0.0170519im \u001b[0m│\u001b[32m    1.53044e-19 \u001b[0m│\n",
      "│          (1, 0) │\u001b[32m  2.18931e-05+8.64717e-06im \u001b[0m│\u001b[32m    2.31071e-16 \u001b[0m│\n",
      "│          (2, 0) │\u001b[32m  1.81338e-05-1.64188e-05im \u001b[0m│\u001b[32m    4.27661e-17 \u001b[0m│\n",
      "│          (2, 1) │\u001b[32m -3.15216e-11+1.70895e-10im \u001b[0m│\u001b[32m    2.43722e-10 \u001b[0m│\n",
      "│          (3, 0) │\u001b[32m  -1.5888e-10+8.58888e-10im \u001b[0m│\u001b[32m    5.21382e-12 \u001b[0m│\n",
      "│       (3, 2//3) │ -1.43798e-16-1.12514e-16im │     0.00208119 │\n",
      "│          (4, 0) │ -2.78536e-16-1.98927e-16im │    0.000460803 │\n",
      "│       (4, 1//2) │    6.0737e-17-1.7951e-16im │    0.000379093 │\n",
      "│          (4, 1) │\u001b[32m                          0 \u001b[0m│\u001b[32m       0.906051 \u001b[0m│\n",
      "└─────────────────┴────────────────────────────┴────────────────┘\n",
      "\u001b[0m\u001b[1m Channel u\u001b[22m\n",
      "┌─────────────────┬────────────────────────────┬────────────────┐\n",
      "│\u001b[34m Field           \u001b[0m│\u001b[34m Structure constant         \u001b[0m│\u001b[34m Relative error \u001b[0m│\n",
      "├─────────────────┼────────────────────────────┼────────────────┤\n",
      "│ (P=0.16+0.06im) │\u001b[32m          1.0+1.47903e-21im \u001b[0m│\u001b[32m    2.55514e-21 \u001b[0m│\n",
      "│          (1, 0) │\u001b[32m       0.033039+0.0170519im \u001b[0m│\u001b[32m    8.12201e-20 \u001b[0m│\n",
      "│          (2, 0) │\u001b[32m  2.18931e-05+8.64717e-06im \u001b[0m│\u001b[32m     6.3756e-17 \u001b[0m│\n",
      "│          (2, 1) │\u001b[32m  1.81338e-05-1.64188e-05im \u001b[0m│\u001b[32m    2.73024e-17 \u001b[0m│\n",
      "│          (3, 0) │\u001b[32m -3.15216e-11+1.70895e-10im \u001b[0m│\u001b[32m    1.31594e-12 \u001b[0m│\n",
      "│       (3, 2//3) │\u001b[32m  -1.5888e-10+8.58888e-10im \u001b[0m│\u001b[32m    4.12945e-13 \u001b[0m│\n",
      "│          (4, 0) │\u001b[32m -1.43229e-16-1.11937e-16im \u001b[0m│\u001b[32m     3.29533e-7 \u001b[0m│\n",
      "│       (4, 1//2) │\u001b[32m   -2.7817e-16-1.9877e-16im \u001b[0m│\u001b[32m     4.07158e-7 \u001b[0m│\n",
      "│          (4, 1) │\u001b[32m  6.09133e-17-1.79491e-16im \u001b[0m│\u001b[32m       3.869e-7 \u001b[0m│\n",
      "└─────────────────┴────────────────────────────┴────────────────┘\n"
     ]
    }
   ],
   "source": [
    "ind = ((0, 1//2), (0, big\"0.2\"+big\"0.4\"*im), (0, 1//2), (0, 1//2))\n",
    "blocks_even_S2 = precompute_blocks(ind, fields_S2, parity=1, precision=20);\n",
    "solve(blocks_even_S2, Sig(0, 0, 0), Channels(true), rmax=4);"
   ]
  },
  {
   "cell_type": "markdown",
   "id": "e04301d3",
   "metadata": {},
   "source": [
    "## $\\left\\langle (0, \\frac12)^3 (1, 0) \\right\\rangle$"
   ]
  },
  {
   "cell_type": "code",
   "execution_count": 89,
   "id": "092378b5",
   "metadata": {},
   "outputs": [],
   "source": [
    "ind = ((1, 0), (0, 1//2), (0, 1//2), (0, 1//2))\n",
    "blocks_even_S2 = precompute_blocks(ind, fields_S2, parity=1, precision=20);"
   ]
  },
  {
   "cell_type": "code",
   "execution_count": null,
   "id": "64e4f408",
   "metadata": {},
   "outputs": [
    {
     "name": "stdout",
     "output_type": "stream",
     "text": [
      "\u001b[0m\u001b[1m Channel s\u001b[22m\n",
      "┌─────────────────┬────────────────────────────┬────────────────┐\n",
      "│\u001b[34m Field           \u001b[0m│\u001b[34m Structure constant         \u001b[0m│\u001b[34m Relative error \u001b[0m│\n",
      "├─────────────────┼────────────────────────────┼────────────────┤\n",
      "│ (P=0.16+0.06im) │\u001b[32m                  1.0+0.0im \u001b[0m│\u001b[32m            0.0 \u001b[0m│\n",
      "│          (1, 0) │\u001b[32m                          0 \u001b[0m│\u001b[32m        12.0715 \u001b[0m│\n",
      "│          (2, 0) │\u001b[32m  -0.000314628+0.00161483im \u001b[0m│\u001b[32m    5.58133e-17 \u001b[0m│\n",
      "│          (2, 1) │\u001b[32m -1.68652e-05-0.000641317im \u001b[0m│\u001b[32m    2.21923e-17 \u001b[0m│\n",
      "└─────────────────┴────────────────────────────┴────────────────┘\n",
      "\u001b[0m\u001b[1m Channel t\u001b[22m\n",
      "┌───────────┬────────────────────────────┬────────────────┐\n",
      "│\u001b[34m Field     \u001b[0m│\u001b[34m Structure constant         \u001b[0m│\u001b[34m Relative error \u001b[0m│\n",
      "├───────────┼────────────────────────────┼────────────────┤\n",
      "│    (1, 0) │\u001b[32m                          0 \u001b[0m│\u001b[32m        12.0715 \u001b[0m│\n",
      "│    (1, 1) │\u001b[32m  -0.000314628+0.00161483im \u001b[0m│\u001b[32m    5.58133e-17 \u001b[0m│\n",
      "│    (2, 0) │\u001b[32m -1.68652e-05-0.000641317im \u001b[0m│\u001b[32m    2.21923e-17 \u001b[0m│\n",
      "│ (2, 1//2) │\u001b[32m                          0 \u001b[0m│\u001b[32m       0.341744 \u001b[0m│\n",
      "│    (2, 1) │\u001b[32m                          0 \u001b[0m│\u001b[32m       0.360696 \u001b[0m│\n",
      "└───────────┴────────────────────────────┴────────────────┘\n",
      "\u001b[0m\u001b[1m Channel u\u001b[22m\n",
      "┌───────────┬───────────────────────────┬────────────────┐\n",
      "│\u001b[34m Field     \u001b[0m│\u001b[34m Structure constant        \u001b[0m│\u001b[34m Relative error \u001b[0m│\n",
      "├───────────┼───────────────────────────┼────────────────┤\n",
      "│    (1, 0) │\u001b[32m       0.545655+0.135744im \u001b[0m│\u001b[32m    1.73572e-19 \u001b[0m│\n",
      "│    (1, 1) │\u001b[32m      0.202087-0.0105464im \u001b[0m│\u001b[32m    8.53735e-20 \u001b[0m│\n",
      "│    (2, 0) │\u001b[32m 0.000452493+0.000757584im \u001b[0m│\u001b[32m     1.6628e-16 \u001b[0m│\n",
      "│ (2, 1//2) │\u001b[32m 0.000395742+0.000580602im \u001b[0m│\u001b[32m    1.58493e-16 \u001b[0m│\n",
      "│    (2, 1) │\u001b[32m  0.000249007+0.00025219im \u001b[0m│\u001b[32m    1.48925e-16 \u001b[0m│\n",
      "└───────────┴───────────────────────────┴────────────────┘\n"
     ]
    }
   ],
   "source": [
    "sys_S2 = solve(blocks_even_S2, Sig(0, 1, 1), even_spin=Channels(true, false, false), rmax=2);"
   ]
  },
  {
   "cell_type": "markdown",
   "id": "a3c2e1a7",
   "metadata": {},
   "source": [
    "## $\\left\\langle (0, \\frac12)^3 (2, 0) \\right\\rangle$"
   ]
  },
  {
   "cell_type": "code",
   "execution_count": 31,
   "id": "771216ec",
   "metadata": {},
   "outputs": [
    {
     "name": "stdout",
     "output_type": "stream",
     "text": [
      "\u001b[0m\u001b[1m Channel s\u001b[22m\n",
      "┌───────────┬────────────────────────────┬────────────────┐\n",
      "│\u001b[34m Field     \u001b[0m│\u001b[34m Structure constant         \u001b[0m│\u001b[34m Relative error \u001b[0m│\n",
      "├───────────┼────────────────────────────┼────────────────┤\n",
      "│    (1, 0) │\u001b[32m                  1.0+0.0im \u001b[0m│\u001b[32m            0.0 \u001b[0m│\n",
      "│    (1, 1) │\u001b[32m       -0.633084+0.088108im \u001b[0m│\u001b[32m    5.07475e-20 \u001b[0m│\n",
      "│    (2, 0) │\u001b[32m                          0 \u001b[0m│\u001b[32m       0.874759 \u001b[0m│\n",
      "│ (2, 1//2) │\u001b[32m                          0 \u001b[0m│\u001b[32m       0.549149 \u001b[0m│\n",
      "│    (2, 1) │\u001b[32m                          0 \u001b[0m│\u001b[32m       0.869633 \u001b[0m│\n",
      "│    (3, 0) │\u001b[32m -6.59937e-05+5.41536e-05im \u001b[0m│\u001b[32m    1.68373e-13 \u001b[0m│\n",
      "│ (3, 1//3) │\u001b[32m  2.79701e-05-2.44819e-05im \u001b[0m│\u001b[32m    3.67846e-13 \u001b[0m│\n",
      "│ (3, 2//3) │\u001b[32m  1.83437e-05-1.91256e-05im \u001b[0m│\u001b[32m    3.77195e-13 \u001b[0m│\n",
      "│    (3, 1) │\u001b[32m -1.79552e-05+2.51328e-05im \u001b[0m│\u001b[32m    1.87836e-13 \u001b[0m│\n",
      "│    (4, 0) │\u001b[32m                          0 \u001b[0m│\u001b[32m        1.49792 \u001b[0m│\n",
      "│ (4, 1//4) │\u001b[32m                          0 \u001b[0m│\u001b[32m        1.49717 \u001b[0m│\n",
      "│ (4, 1//2) │\u001b[32m                          0 \u001b[0m│\u001b[32m        1.49586 \u001b[0m│\n",
      "│ (4, 3//4) │\u001b[32m                          0 \u001b[0m│\u001b[32m        1.49431 \u001b[0m│\n",
      "│    (4, 1) │\u001b[32m                          0 \u001b[0m│\u001b[32m         1.4938 \u001b[0m│\n",
      "└───────────┴────────────────────────────┴────────────────┘\n",
      "\u001b[0m\u001b[1m Channel t\u001b[22m\n",
      "┌───────────┬────────────────────────────┬────────────────┐\n",
      "│\u001b[34m Field     \u001b[0m│\u001b[34m Structure constant         \u001b[0m│\u001b[34m Relative error \u001b[0m│\n",
      "├───────────┼────────────────────────────┼────────────────┤\n",
      "│    (2, 0) │\u001b[32m       -0.633084+0.088108im \u001b[0m│\u001b[32m    5.07475e-20 \u001b[0m│\n",
      "│    (2, 1) │\u001b[32m                          0 \u001b[0m│\u001b[32m       0.874759 \u001b[0m│\n",
      "│    (3, 0) │\u001b[32m                          0 \u001b[0m│\u001b[32m       0.549149 \u001b[0m│\n",
      "│ (3, 2//3) │\u001b[32m                          0 \u001b[0m│\u001b[32m       0.869633 \u001b[0m│\n",
      "│    (4, 0) │\u001b[32m -6.59937e-05+5.41536e-05im \u001b[0m│\u001b[32m    1.68373e-13 \u001b[0m│\n",
      "│ (4, 1//2) │\u001b[32m  2.79701e-05-2.44819e-05im \u001b[0m│\u001b[32m    3.67846e-13 \u001b[0m│\n",
      "│    (4, 1) │\u001b[32m  1.83437e-05-1.91256e-05im \u001b[0m│\u001b[32m    3.77195e-13 \u001b[0m│\n",
      "└───────────┴────────────────────────────┴────────────────┘\n",
      "\u001b[0m\u001b[1m Channel u\u001b[22m\n",
      "┌───────────┬────────────────────────────┬────────────────┐\n",
      "│\u001b[34m Field     \u001b[0m│\u001b[34m Structure constant         \u001b[0m│\u001b[34m Relative error \u001b[0m│\n",
      "├───────────┼────────────────────────────┼────────────────┤\n",
      "│    (1, 0) │\u001b[32m        0.400986+0.150499im \u001b[0m│\u001b[32m    8.14867e-20 \u001b[0m│\n",
      "│    (1, 1) │\u001b[32m      -0.119547-0.0017526im \u001b[0m│\u001b[32m    2.94972e-19 \u001b[0m│\n",
      "│    (2, 0) │\u001b[32m                          0 \u001b[0m│\u001b[32m       0.934749 \u001b[0m│\n",
      "│ (2, 1//2) │\u001b[32m                          0 \u001b[0m│\u001b[32m        1.08641 \u001b[0m│\n",
      "│    (2, 1) │\u001b[32m  2.81869e-10-1.57036e-10im \u001b[0m│\u001b[32m    6.72803e-12 \u001b[0m│\n",
      "│    (3, 0) │\u001b[32m                          0 \u001b[0m│\u001b[32m       0.925629 \u001b[0m│\n",
      "│ (3, 1//3) │\u001b[32m -9.12875e-11+8.53414e-11im \u001b[0m│\u001b[32m    8.83278e-12 \u001b[0m│\n",
      "│ (3, 2//3) │\u001b[32m                          0 \u001b[0m│\u001b[32m       0.559102 \u001b[0m│\n",
      "│    (3, 1) │\u001b[32m                          0 \u001b[0m│\u001b[32m       0.555735 \u001b[0m│\n",
      "│    (4, 0) │\u001b[32m                          0 \u001b[0m│\u001b[32m       0.685196 \u001b[0m│\n",
      "│ (4, 1//4) │\u001b[32m                          0 \u001b[0m│\u001b[32m        2.33486 \u001b[0m│\n",
      "│ (4, 1//2) │\u001b[32m                          0 \u001b[0m│\u001b[32m        1.51216 \u001b[0m│\n",
      "│ (4, 3//4) │\u001b[32m                          0 \u001b[0m│\u001b[32m        2.31252 \u001b[0m│\n",
      "│    (4, 1) │\u001b[32m                          0 \u001b[0m│\u001b[32m         1.5751 \u001b[0m│\n",
      "└───────────┴────────────────────────────┴────────────────┘\n"
     ]
    }
   ],
   "source": [
    "ind = ((0, 1//2), (2, 0), (0, 1//2), (0, 1//2))\n",
    "blocks_even_S2 = precompute_blocks(ind, fields_S2, parity=1, precision=20);\n",
    "solve(blocks_even_S2, Sig(1, 2, 1), Channels(false, true, false), rmax=4);"
   ]
  },
  {
   "cell_type": "markdown",
   "id": "2888633d",
   "metadata": {},
   "source": [
    "## $\\left\\langle (0, \\frac12)^3 (3, 0) \\right\\rangle$"
   ]
  },
  {
   "cell_type": "code",
   "execution_count": 24,
   "id": "d1515a9d",
   "metadata": {},
   "outputs": [
    {
     "name": "stdout",
     "output_type": "stream",
     "text": [
      "\u001b[0m\u001b[1m Channel s\u001b[22m\n",
      "┌───────────┬────────────────────────────┬────────────────┐\n",
      "│\u001b[34m Field     \u001b[0m│\u001b[34m Structure constant         \u001b[0m│\u001b[34m Relative error \u001b[0m│\n",
      "├───────────┼────────────────────────────┼────────────────┤\n",
      "│    (2, 0) │\u001b[32m                  1.0+0.0im \u001b[0m│\u001b[32m            0.0 \u001b[0m│\n",
      "│    (2, 1) │\u001b[32m      -0.460849+0.0936033im \u001b[0m│\u001b[32m    2.67895e-16 \u001b[0m│\n",
      "│    (3, 0) │\u001b[32m                          0 \u001b[0m│\u001b[32m         1.8295 \u001b[0m│\n",
      "│ (3, 2//3) │\u001b[32m                          0 \u001b[0m│\u001b[32m        6.62341 \u001b[0m│\n",
      "│    (4, 0) │\u001b[32m -1.37046e-06-3.46191e-07im \u001b[0m│\u001b[32m      6.0413e-9 \u001b[0m│\n",
      "│ (4, 1//2) │\u001b[32m  1.02402e-06+1.79868e-07im \u001b[0m│\u001b[32m     6.24716e-9 \u001b[0m│\n",
      "│    (4, 1) │\u001b[32m  -4.72437e-07+1.6266e-08im \u001b[0m│\u001b[32m     7.20866e-9 \u001b[0m│\n",
      "└───────────┴────────────────────────────┴────────────────┘\n",
      "\u001b[0m\u001b[1m Channel t\u001b[22m\n",
      "┌───────────┬────────────────────────────┬────────────────┐\n",
      "│\u001b[34m Field     \u001b[0m│\u001b[34m Structure constant         \u001b[0m│\u001b[34m Relative error \u001b[0m│\n",
      "├───────────┼────────────────────────────┼────────────────┤\n",
      "│    (2, 0) │\u001b[32m      -0.460849+0.0936033im \u001b[0m│\u001b[32m    2.67895e-16 \u001b[0m│\n",
      "│    (2, 1) │\u001b[32m                          0 \u001b[0m│\u001b[32m         1.8295 \u001b[0m│\n",
      "│    (3, 0) │\u001b[32m                          0 \u001b[0m│\u001b[32m        6.62341 \u001b[0m│\n",
      "│ (3, 2//3) │\u001b[32m -1.37046e-06-3.46191e-07im \u001b[0m│\u001b[32m      6.0413e-9 \u001b[0m│\n",
      "│    (4, 0) │\u001b[32m  1.02402e-06+1.79868e-07im \u001b[0m│\u001b[32m     6.24716e-9 \u001b[0m│\n",
      "│ (4, 1//2) │\u001b[32m  -4.72437e-07+1.6266e-08im \u001b[0m│\u001b[32m     7.20866e-9 \u001b[0m│\n",
      "│    (4, 1) │\u001b[32m                          0 \u001b[0m│\u001b[32m        2.94965 \u001b[0m│\n",
      "└───────────┴────────────────────────────┴────────────────┘\n",
      "\u001b[0m\u001b[1m Channel u\u001b[22m\n",
      "┌───────────┬────────────────────────────┬────────────────┐\n",
      "│\u001b[34m Field     \u001b[0m│\u001b[34m Structure constant         \u001b[0m│\u001b[34m Relative error \u001b[0m│\n",
      "├───────────┼────────────────────────────┼────────────────┤\n",
      "│    (2, 0) │\u001b[32m          1.0-1.90424e-17im \u001b[0m│\u001b[32m    6.41882e-17 \u001b[0m│\n",
      "│    (2, 1) │\u001b[32m      -0.460849+0.0936033im \u001b[0m│\u001b[32m    1.72871e-16 \u001b[0m│\n",
      "│    (3, 0) │\u001b[32m                          0 \u001b[0m│\u001b[32m        1.84974 \u001b[0m│\n",
      "│ (3, 2//3) │\u001b[32m                          0 \u001b[0m│\u001b[32m        10.8725 \u001b[0m│\n",
      "│    (4, 0) │\u001b[32m -1.37046e-06-3.46191e-07im \u001b[0m│\u001b[32m    1.65423e-11 \u001b[0m│\n",
      "│ (4, 1//2) │\u001b[32m  1.02402e-06+1.79868e-07im \u001b[0m│\u001b[32m    6.07071e-11 \u001b[0m│\n",
      "│    (4, 1) │\u001b[32m  -4.72437e-07+1.6266e-08im \u001b[0m│\u001b[32m    2.09521e-11 \u001b[0m│\n",
      "└───────────┴────────────────────────────┴────────────────┘\n"
     ]
    }
   ],
   "source": [
    "ind = ((0, 1//2), (3, 0), (0, 1//2), (0, 1//2))\n",
    "blocks_even_S2 = precompute_blocks(ind, fields_S2, parity=1, precision=20);\n",
    "solve(blocks_even_S2, Sig(2, 2, 2), Channels(true), rmax=4);"
   ]
  },
  {
   "cell_type": "markdown",
   "id": "cd73a173",
   "metadata": {},
   "source": [
    "# Torus one point functions"
   ]
  },
  {
   "cell_type": "code",
   "execution_count": 83,
   "id": "e3cd06db",
   "metadata": {},
   "outputs": [
    {
     "data": {
      "text/plain": [
       "relative_error (generic function with 1 method)"
      ]
     },
     "metadata": {},
     "output_type": "display_data"
    }
   ],
   "source": [
    "import EllipticFunctions: etaDedekind\n",
    "import BootstrapVirasoro: PosCache, xfromq, qfromx\n",
    "const Sig = Channels{Rational}\n",
    "\n",
    "c = CC(β=sqrt(big\"2\")/(big\"0.8\"+big\"0.1\"*im))\n",
    "ndiag_indices = [(r, s) for r in 1//2:1//2:20 for s in -1+1//(2r):1//(2r):1 if (r * s) % (1//2) == 0]\n",
    "diag_field = Field(c, r=0, s=big\"0.4\"+big\"0.1\"*im)\n",
    "fields = vcat([Field(c, r = r, s = s) for (r, s) in ndiag_indices], diag_field)\n",
    "\n",
    "function precompute_blocks(index::Tuple{<:Number, <:Number}, fields; parity, precision=10)\n",
    "    setprecision(BigFloat, floor(Int, 1.2*precision), base=10)\n",
    "    Δmax = floor(Int, 0.75*precision)\n",
    "    co = Correlation(Field(c, r=index[1], s=index[2]), Δmax)\n",
    "    parity != 0 && (fields = filter(V -> V.diagonal || V.s >= 0, fields))\n",
    "    f = V -> IBlock(co, V, parity=parity)\n",
    "    spec = ChanSpec(co, fields, f)\n",
    "    return @channels spec\n",
    "end\n",
    "\n",
    "xfromτ(τ) = xfromq(exp(im * (π * τ)))\n",
    "\n",
    "function prefA(τ, co_s, chan, lr)\n",
    "    x_cache = PosCache(xfromτ(τ), co_s[lr], chan)\n",
    "    return inv(\n",
    "        etaDedekind(τ) * x_cache.prefactor\n",
    "    )\n",
    "end\n",
    "\n",
    "ncprefA(τ, co_s, chan) = prefA(τ, co_s, chan, :left) * \n",
    "    prefA(-conj(τ), co_s, chan, :right)\n",
    "\n",
    "relative_error(a, b) = abs((a - b) / (a + b))"
   ]
  },
  {
   "cell_type": "markdown",
   "id": "504d38be",
   "metadata": {},
   "source": [
    "## r = 0"
   ]
  },
  {
   "cell_type": "code",
   "execution_count": 84,
   "id": "11f80e65",
   "metadata": {},
   "outputs": [],
   "source": [
    "ind = (0, sqrt(big\"2\")*(big\"0.4\"+big\"0.2\"*im))\n",
    "blocks = precompute_blocks(ind, fields, parity=1, precision=20);"
   ]
  },
  {
   "cell_type": "code",
   "execution_count": 85,
   "id": "17dba771",
   "metadata": {},
   "outputs": [
    {
     "name": "stdout",
     "output_type": "stream",
     "text": [
      "\u001b[0m\u001b[1m Channel s\u001b[22m\n",
      "┌─────────────────┬────────────────────────┬────────────────┐\n",
      "│\u001b[34m Field           \u001b[0m│\u001b[34m Structure constant     \u001b[0m│\u001b[34m Relative error \u001b[0m│\n",
      "├─────────────────┼────────────────────────┼────────────────┤\n",
      "│ (P=0.11+0.04im) │\u001b[32m              1.0+0.0im \u001b[0m│\u001b[32m            0.0 \u001b[0m│\n",
      "│       (1//2, 0) │\u001b[32m   0.308727-0.0524853im \u001b[0m│\u001b[32m    9.81208e-18 \u001b[0m│\n",
      "│       (1//2, 1) │\u001b[32m                      0 \u001b[0m│\u001b[32m        1.07228 \u001b[0m│\n",
      "│          (1, 0) │\u001b[32m   0.0780102-0.123407im \u001b[0m│\u001b[32m    8.81193e-15 \u001b[0m│\n",
      "│       (1, 1//2) │\u001b[32m                      0 \u001b[0m│\u001b[32m        1.04229 \u001b[0m│\n",
      "│          (1, 1) │\u001b[32m   -0.118635-0.139376im \u001b[0m│\u001b[32m    3.30164e-15 \u001b[0m│\n",
      "│       (3//2, 0) │\u001b[32m 0.00494416-0.0354923im \u001b[0m│\u001b[32m     5.14698e-8 \u001b[0m│\n",
      "│    (3//2, 1//3) │\u001b[32m                      0 \u001b[0m│\u001b[32m       0.915309 \u001b[0m│\n",
      "│    (3//2, 2//3) │\u001b[32m  -0.144948-0.0687758im \u001b[0m│\u001b[32m     1.12038e-8 \u001b[0m│\n",
      "│       (3//2, 1) │\u001b[32m                      0 \u001b[0m│\u001b[32m       0.939375 \u001b[0m│\n",
      "│          (2, 0) │\u001b[31m     1.52682+0.262524im \u001b[0m│\u001b[31m        1.06699 \u001b[0m│\n",
      "│       (2, 1//4) │\u001b[31m    -1.52644-0.237779im \u001b[0m│\u001b[31m        1.05741 \u001b[0m│\n",
      "│       (2, 1//2) │\u001b[31m     1.45133+0.330688im \u001b[0m│\u001b[31m        1.10473 \u001b[0m│\n",
      "│       (2, 3//4) │\u001b[31m    -1.52381-0.241948im \u001b[0m│\u001b[31m        1.05879 \u001b[0m│\n",
      "│          (2, 1) │\u001b[31m     1.40533+0.227364im \u001b[0m│\u001b[31m        1.06905 \u001b[0m│\n",
      "└─────────────────┴────────────────────────┴────────────────┘\n",
      "\u001b[0m\u001b[1m Channel t\u001b[22m\n",
      "┌─────────────────┬────────────────────────────┬────────────────┐\n",
      "│\u001b[34m Field           \u001b[0m│\u001b[34m Structure constant         \u001b[0m│\u001b[34m Relative error \u001b[0m│\n",
      "├─────────────────┼────────────────────────────┼────────────────┤\n",
      "│ (P=0.11+0.04im) │\u001b[32m       0.308727-0.0524853im \u001b[0m│\u001b[32m    9.81208e-18 \u001b[0m│\n",
      "│       (1//2, 0) │\u001b[32m                          0 \u001b[0m│\u001b[32m        1.07228 \u001b[0m│\n",
      "│       (1//2, 1) │\u001b[32m       0.0780102-0.123407im \u001b[0m│\u001b[32m    8.81193e-15 \u001b[0m│\n",
      "│          (1, 0) │\u001b[32m                          0 \u001b[0m│\u001b[32m        1.04229 \u001b[0m│\n",
      "│       (1, 1//2) │\u001b[32m       -0.118635-0.139376im \u001b[0m│\u001b[32m    3.30164e-15 \u001b[0m│\n",
      "│          (1, 1) │\u001b[32m     0.00494416-0.0354923im \u001b[0m│\u001b[32m     5.14698e-8 \u001b[0m│\n",
      "│       (3//2, 0) │\u001b[32m                          0 \u001b[0m│\u001b[32m       0.915309 \u001b[0m│\n",
      "│    (3//2, 1//3) │\u001b[32m      -0.144948-0.0687758im \u001b[0m│\u001b[32m     1.12038e-8 \u001b[0m│\n",
      "│    (3//2, 2//3) │\u001b[32m                          0 \u001b[0m│\u001b[32m       0.939375 \u001b[0m│\n",
      "│       (3//2, 1) │\u001b[31m         1.52682+0.262524im \u001b[0m│\u001b[31m        1.06699 \u001b[0m│\n",
      "│          (2, 0) │\u001b[31m        -1.52644-0.237779im \u001b[0m│\u001b[31m        1.05741 \u001b[0m│\n",
      "│       (2, 1//4) │\u001b[31m         1.45133+0.330688im \u001b[0m│\u001b[31m        1.10473 \u001b[0m│\n",
      "│       (2, 1//2) │\u001b[31m        -1.52381-0.241948im \u001b[0m│\u001b[31m        1.05879 \u001b[0m│\n",
      "│       (2, 3//4) │\u001b[31m         1.40533+0.227364im \u001b[0m│\u001b[31m        1.06905 \u001b[0m│\n",
      "│          (2, 1) │\u001b[31m -4.23448e+11+5.61048e+11im \u001b[0m│\u001b[31m        1.21391 \u001b[0m│\n",
      "└─────────────────┴────────────────────────────┴────────────────┘\n",
      "\u001b[0m\u001b[1m Channel u\u001b[22m\n",
      "┌─────────────────┬────────────────────────┬────────────────┐\n",
      "│\u001b[34m Field           \u001b[0m│\u001b[34m Structure constant     \u001b[0m│\u001b[34m Relative error \u001b[0m│\n",
      "├─────────────────┼────────────────────────┼────────────────┤\n",
      "│ (P=0.11+0.04im) │\u001b[32m      1.0+4.59839e-19im \u001b[0m│\u001b[32m    2.74799e-19 \u001b[0m│\n",
      "│       (1//2, 0) │\u001b[32m   0.308727-0.0524853im \u001b[0m│\u001b[32m    7.18281e-18 \u001b[0m│\n",
      "│       (1//2, 1) │\u001b[32m                      0 \u001b[0m│\u001b[32m        5.27236 \u001b[0m│\n",
      "│          (1, 0) │\u001b[32m   0.0780102-0.123407im \u001b[0m│\u001b[32m    1.05635e-14 \u001b[0m│\n",
      "│       (1, 1//2) │\u001b[32m                      0 \u001b[0m│\u001b[32m       0.893728 \u001b[0m│\n",
      "│          (1, 1) │\u001b[32m   -0.118635-0.139376im \u001b[0m│\u001b[32m    8.41358e-15 \u001b[0m│\n",
      "│       (3//2, 0) │\u001b[32m 0.00494416-0.0354923im \u001b[0m│\u001b[32m     7.93597e-8 \u001b[0m│\n",
      "│    (3//2, 1//3) │\u001b[32m                      0 \u001b[0m│\u001b[32m       0.972002 \u001b[0m│\n",
      "│    (3//2, 2//3) │\u001b[32m  -0.144948-0.0687758im \u001b[0m│\u001b[32m     1.78313e-8 \u001b[0m│\n",
      "│       (3//2, 1) │\u001b[32m                      0 \u001b[0m│\u001b[32m       0.971213 \u001b[0m│\n",
      "│          (2, 0) │\u001b[31m      2.42695+1.97612im \u001b[0m│\u001b[31m         1.1363 \u001b[0m│\n",
      "│       (2, 1//4) │\u001b[31m     -2.42909-1.95147im \u001b[0m│\u001b[31m        1.13297 \u001b[0m│\n",
      "│       (2, 1//2) │\u001b[31m      2.36095+2.04573im \u001b[0m│\u001b[31m        1.18185 \u001b[0m│\n",
      "│       (2, 3//4) │\u001b[31m     -2.44114-1.95973im \u001b[0m│\u001b[31m        1.13293 \u001b[0m│\n",
      "│          (2, 1) │\u001b[31m      2.32907+1.95138im \u001b[0m│\u001b[31m        1.19557 \u001b[0m│\n",
      "└─────────────────┴────────────────────────┴────────────────┘\n"
     ]
    }
   ],
   "source": [
    "solve(blocks, Sig(0, 0, 0), rmax=2);"
   ]
  },
  {
   "cell_type": "markdown",
   "id": "d99d7dd0",
   "metadata": {},
   "source": [
    "## r = 1"
   ]
  },
  {
   "cell_type": "code",
   "execution_count": 86,
   "id": "720acd49",
   "metadata": {},
   "outputs": [],
   "source": [
    "blocks = precompute_blocks((1, 0), fields, parity=1, precision=20);"
   ]
  },
  {
   "cell_type": "code",
   "execution_count": null,
   "id": "4eaa92c4",
   "metadata": {},
   "outputs": [
    {
     "name": "stdout",
     "output_type": "stream",
     "text": [
      "\u001b[0m\u001b[1m Channel s\u001b[22m\n",
      "┌─────────────────┬─────────────────────┬────────────────┐\n",
      "│\u001b[34m Field           \u001b[0m│\u001b[34m Structure constant  \u001b[0m│\u001b[34m Relative error \u001b[0m│\n",
      "├─────────────────┼─────────────────────┼────────────────┤\n",
      "│ (P=0.11+0.04im) │\u001b[32m           1.0+0.0im \u001b[0m│\u001b[32m            0.0 \u001b[0m│\n",
      "│       (1//2, 0) │\u001b[32m                   0 \u001b[0m│\u001b[32m         1.2836 \u001b[0m│\n",
      "│       (1//2, 1) │\u001b[32m                   0 \u001b[0m│\u001b[32m       0.556289 \u001b[0m│\n",
      "│          (1, 0) │\u001b[32m   5.18288-2.43916im \u001b[0m│\u001b[32m    1.74818e-16 \u001b[0m│\n",
      "│       (1, 1//2) │\u001b[32m                   0 \u001b[0m│\u001b[32m       0.764127 \u001b[0m│\n",
      "│          (1, 1) │\u001b[32m  -4.84733+2.26298im \u001b[0m│\u001b[32m    7.86559e-17 \u001b[0m│\n",
      "│       (3//2, 0) │\u001b[32m                   0 \u001b[0m│\u001b[32m        1.00824 \u001b[0m│\n",
      "│    (3//2, 1//3) │\u001b[32m                   0 \u001b[0m│\u001b[32m       0.999661 \u001b[0m│\n",
      "│    (3//2, 2//3) │\u001b[32m                   0 \u001b[0m│\u001b[32m       0.975496 \u001b[0m│\n",
      "│       (3//2, 1) │\u001b[32m                   0 \u001b[0m│\u001b[32m       0.964301 \u001b[0m│\n",
      "│          (2, 0) │\u001b[31m   10.9059-9.71077im \u001b[0m│\u001b[31m       0.128221 \u001b[0m│\n",
      "│       (2, 1//4) │\u001b[31m 0.195797+0.109164im \u001b[0m│\u001b[31m        1.05359 \u001b[0m│\n",
      "│       (2, 1//2) │\u001b[31m  -2.16255+4.97321im \u001b[0m│\u001b[31m       0.243669 \u001b[0m│\n",
      "│       (2, 3//4) │\u001b[31m 0.197122+0.106252im \u001b[0m│\u001b[31m        1.05208 \u001b[0m│\n",
      "│          (2, 1) │\u001b[31m -7.27479-0.650118im \u001b[0m│\u001b[31m       0.229722 \u001b[0m│\n",
      "└─────────────────┴─────────────────────┴────────────────┘\n",
      "\u001b[0m\u001b[1m Channel t\u001b[22m\n",
      "┌──────────────┬─────────────────────┬────────────────┐\n",
      "│\u001b[34m Field        \u001b[0m│\u001b[34m Structure constant  \u001b[0m│\u001b[34m Relative error \u001b[0m│\n",
      "├──────────────┼─────────────────────┼────────────────┤\n",
      "│    (1//2, 0) │\u001b[32m                   0 \u001b[0m│\u001b[32m         1.2836 \u001b[0m│\n",
      "│    (1//2, 1) │\u001b[32m                   0 \u001b[0m│\u001b[32m       0.556289 \u001b[0m│\n",
      "│       (1, 0) │\u001b[32m   5.18288-2.43916im \u001b[0m│\u001b[32m    1.74818e-16 \u001b[0m│\n",
      "│    (1, 1//2) │\u001b[32m                   0 \u001b[0m│\u001b[32m       0.764127 \u001b[0m│\n",
      "│       (1, 1) │\u001b[32m  -4.84733+2.26298im \u001b[0m│\u001b[32m    7.86559e-17 \u001b[0m│\n",
      "│    (3//2, 0) │\u001b[32m                   0 \u001b[0m│\u001b[32m        1.00824 \u001b[0m│\n",
      "│ (3//2, 1//3) │\u001b[32m                   0 \u001b[0m│\u001b[32m       0.999661 \u001b[0m│\n",
      "│ (3//2, 2//3) │\u001b[32m                   0 \u001b[0m│\u001b[32m       0.975496 \u001b[0m│\n",
      "│    (3//2, 1) │\u001b[32m                   0 \u001b[0m│\u001b[32m       0.964301 \u001b[0m│\n",
      "│       (2, 0) │\u001b[31m   10.9059-9.71077im \u001b[0m│\u001b[31m       0.128221 \u001b[0m│\n",
      "│    (2, 1//4) │\u001b[31m 0.195797+0.109164im \u001b[0m│\u001b[31m        1.05359 \u001b[0m│\n",
      "│    (2, 1//2) │\u001b[31m  -2.16255+4.97321im \u001b[0m│\u001b[31m       0.243669 \u001b[0m│\n",
      "│    (2, 3//4) │\u001b[31m 0.197122+0.106252im \u001b[0m│\u001b[31m        1.05208 \u001b[0m│\n",
      "│       (2, 1) │\u001b[31m -7.27479-0.650118im \u001b[0m│\u001b[31m       0.229722 \u001b[0m│\n",
      "└──────────────┴─────────────────────┴────────────────┘\n",
      "\u001b[0m\u001b[1m Channel u\u001b[22m\n",
      "┌──────────────┬─────────────────────┬────────────────┐\n",
      "│\u001b[34m Field        \u001b[0m│\u001b[34m Structure constant  \u001b[0m│\u001b[34m Relative error \u001b[0m│\n",
      "├──────────────┼─────────────────────┼────────────────┤\n",
      "│    (1//2, 0) │\u001b[32m    3.6781-1.48747im \u001b[0m│\u001b[32m    2.51096e-19 \u001b[0m│\n",
      "│    (1//2, 1) │\u001b[32m   3.06654-1.51344im \u001b[0m│\u001b[32m    5.91869e-20 \u001b[0m│\n",
      "│       (1, 0) │\u001b[32m   1.19669-2.82976im \u001b[0m│\u001b[32m    3.09203e-16 \u001b[0m│\n",
      "│    (1, 1//2) │\u001b[32m   1.17304-2.80824im \u001b[0m│\u001b[32m    2.71784e-16 \u001b[0m│\n",
      "│       (1, 1) │\u001b[32m   1.09963-2.74307im \u001b[0m│\u001b[32m     2.8948e-16 \u001b[0m│\n",
      "│    (3//2, 0) │\u001b[32m    1.0753-3.35401im \u001b[0m│\u001b[32m    3.97572e-10 \u001b[0m│\n",
      "│ (3//2, 1//3) │\u001b[32m -6.14526+0.114472im \u001b[0m│\u001b[32m    2.27404e-10 \u001b[0m│\n",
      "│ (3//2, 2//3) │\u001b[32m -6.10933+0.130747im \u001b[0m│\u001b[32m    2.27352e-10 \u001b[0m│\n",
      "│    (3//2, 1) │\u001b[32m   1.02865-3.30453im \u001b[0m│\u001b[32m    3.97502e-10 \u001b[0m│\n",
      "│       (2, 0) │\u001b[31m  -4.74487+3.63276im \u001b[0m│\u001b[31m       0.272311 \u001b[0m│\n",
      "│    (2, 1//4) │\u001b[31m  -2.98401+4.47404im \u001b[0m│\u001b[31m        0.29899 \u001b[0m│\n",
      "│    (2, 1//2) │\u001b[31m  -4.81713+3.79777im \u001b[0m│\u001b[31m       0.263908 \u001b[0m│\n",
      "│    (2, 3//4) │\u001b[31m    -2.95871+4.459im \u001b[0m│\u001b[31m       0.298992 \u001b[0m│\n",
      "│       (2, 1) │\u001b[31m  -4.68066+3.61935im \u001b[0m│\u001b[31m       0.272318 \u001b[0m│\n",
      "└──────────────┴─────────────────────┴────────────────┘\n"
     ]
    }
   ],
   "source": [
    "sys = solve(blocks, Sig(0, 1//2, 1//2), rmax=3//2);"
   ]
  },
  {
   "cell_type": "markdown",
   "id": "e0e1fbab",
   "metadata": {},
   "source": [
    "## r = 2"
   ]
  },
  {
   "cell_type": "code",
   "execution_count": 205,
   "id": "25e6c680",
   "metadata": {},
   "outputs": [],
   "source": [
    "blocks_even = precompute_blocks((2, 0), fields, parity=1, precision=25);"
   ]
  },
  {
   "cell_type": "code",
   "execution_count": 206,
   "id": "57c36565",
   "metadata": {},
   "outputs": [
    {
     "name": "stdout",
     "output_type": "stream",
     "text": [
      "\u001b[31m\u001b[1m====================\u001b[22m\u001b[39m\n",
      "\u001b[31m\u001b[1mChannel s\u001b[22m\u001b[39m\n",
      "\u001b[31m\u001b[1m====================\u001b[22m\u001b[39m\n",
      "┌──────────────┬────────────────────────────┬────────────────┐\n",
      "│\u001b[34m Field        \u001b[0m│\u001b[34m Structure constant         \u001b[0m│\u001b[34m Relative error \u001b[0m│\n",
      "├──────────────┼────────────────────────────┼────────────────┤\n",
      "│    (1//2, 0) │\u001b[32m                  1.0+0.0im \u001b[0m│\u001b[32m            0.0 \u001b[0m│\n",
      "│       (1, 0) │\u001b[31m         -370.247-6589.17im \u001b[0m│\u001b[31m       0.346136 \u001b[0m│\n",
      "│       (1, 1) │\u001b[31m         -551.224-4312.16im \u001b[0m│\u001b[31m        0.35027 \u001b[0m│\n",
      "│    (3//2, 0) │\u001b[31m  6.14453e+06-2.00515e+06im \u001b[0m│\u001b[31m       0.379677 \u001b[0m│\n",
      "│ (3//2, 2//3) │\u001b[31m  5.83822e+06-1.87505e+06im \u001b[0m│\u001b[31m       0.374344 \u001b[0m│\n",
      "│       (2, 0) │\u001b[31m  3.13349e+10+1.63396e+10im \u001b[0m│\u001b[31m       0.436682 \u001b[0m│\n",
      "│    (2, 1//2) │\u001b[31m  3.75186e+10+1.60223e+10im \u001b[0m│\u001b[31m       0.354676 \u001b[0m│\n",
      "│       (2, 1) │\u001b[31m  2.95116e+10+1.50891e+10im \u001b[0m│\u001b[31m       0.428881 \u001b[0m│\n",
      "│    (5//2, 0) │\u001b[31m  1.44027e+15+1.01898e+15im \u001b[0m│\u001b[31m       0.457327 \u001b[0m│\n",
      "│ (5//2, 2//5) │\u001b[31m   1.71854e+15+1.0154e+15im \u001b[0m│\u001b[31m       0.347922 \u001b[0m│\n",
      "│ (5//2, 4//5) │\u001b[31m  1.51624e+15+9.93452e+14im \u001b[0m│\u001b[31m        0.40509 \u001b[0m│\n",
      "│       (3, 0) │\u001b[31m  1.01213e+22-1.62988e+22im \u001b[0m│\u001b[31m       0.642458 \u001b[0m│\n",
      "│    (3, 1//3) │\u001b[31m  -8.4379e+21+1.63741e+22im \u001b[0m│\u001b[31m       0.742274 \u001b[0m│\n",
      "│    (3, 2//3) │\u001b[31m  9.94487e+21-1.61195e+22im \u001b[0m│\u001b[31m       0.642106 \u001b[0m│\n",
      "│       (3, 1) │\u001b[31m -8.09636e+21+1.59994e+22im \u001b[0m│\u001b[31m        0.74152 \u001b[0m│\n",
      "└──────────────┴────────────────────────────┴────────────────┘\n",
      "\u001b[31m\u001b[1m====================\u001b[22m\u001b[39m\n",
      "\u001b[31m\u001b[1mChannel t\u001b[22m\u001b[39m\n",
      "\u001b[31m\u001b[1m====================\u001b[22m\u001b[39m\n",
      "┌──────────────┬────────────────────────────┬────────────────┐\n",
      "│\u001b[34m Field        \u001b[0m│\u001b[34m Structure constant         \u001b[0m│\u001b[34m Relative error \u001b[0m│\n",
      "├──────────────┼────────────────────────────┼────────────────┤\n",
      "│    (1//2, 0) │\u001b[31m         -370.247-6589.17im \u001b[0m│\u001b[31m       0.346136 \u001b[0m│\n",
      "│       (1, 0) │\u001b[31m         -551.224-4312.16im \u001b[0m│\u001b[31m        0.35027 \u001b[0m│\n",
      "│       (1, 1) │\u001b[31m  6.14453e+06-2.00515e+06im \u001b[0m│\u001b[31m       0.379677 \u001b[0m│\n",
      "│    (3//2, 0) │\u001b[31m  5.83822e+06-1.87505e+06im \u001b[0m│\u001b[31m       0.374344 \u001b[0m│\n",
      "│ (3//2, 2//3) │\u001b[31m  3.13349e+10+1.63396e+10im \u001b[0m│\u001b[31m       0.436682 \u001b[0m│\n",
      "│       (2, 0) │\u001b[31m  3.75186e+10+1.60223e+10im \u001b[0m│\u001b[31m       0.354676 \u001b[0m│\n",
      "│    (2, 1//2) │\u001b[31m  2.95116e+10+1.50891e+10im \u001b[0m│\u001b[31m       0.428881 \u001b[0m│\n",
      "│       (2, 1) │\u001b[31m  1.44027e+15+1.01898e+15im \u001b[0m│\u001b[31m       0.457327 \u001b[0m│\n",
      "│    (5//2, 0) │\u001b[31m   1.71854e+15+1.0154e+15im \u001b[0m│\u001b[31m       0.347922 \u001b[0m│\n",
      "│ (5//2, 2//5) │\u001b[31m  1.51624e+15+9.93452e+14im \u001b[0m│\u001b[31m        0.40509 \u001b[0m│\n",
      "│ (5//2, 4//5) │\u001b[31m  1.01213e+22-1.62988e+22im \u001b[0m│\u001b[31m       0.642458 \u001b[0m│\n",
      "│       (3, 0) │\u001b[31m  -8.4379e+21+1.63741e+22im \u001b[0m│\u001b[31m       0.742274 \u001b[0m│\n",
      "│    (3, 1//3) │\u001b[31m  9.94487e+21-1.61195e+22im \u001b[0m│\u001b[31m       0.642106 \u001b[0m│\n",
      "│    (3, 2//3) │\u001b[31m -8.09636e+21+1.59994e+22im \u001b[0m│\u001b[31m        0.74152 \u001b[0m│\n",
      "│       (3, 1) │\u001b[31m -5.32365e+28-1.42605e+28im \u001b[0m│\u001b[31m       0.150706 \u001b[0m│\n",
      "└──────────────┴────────────────────────────┴────────────────┘\n",
      "\u001b[31m\u001b[1m====================\u001b[22m\u001b[39m\n",
      "\u001b[31m\u001b[1mChannel u\u001b[22m\u001b[39m\n",
      "\u001b[31m\u001b[1m====================\u001b[22m\u001b[39m\n",
      "┌──────────────┬────────────────────────────┬────────────────┐\n",
      "│\u001b[34m Field        \u001b[0m│\u001b[34m Structure constant         \u001b[0m│\u001b[34m Relative error \u001b[0m│\n",
      "├──────────────┼────────────────────────────┼────────────────┤\n",
      "│       (1, 0) │\u001b[31m          5.15475+5.60546im \u001b[0m│\u001b[31m       0.284029 \u001b[0m│\n",
      "│       (1, 1) │\u001b[31m  -1.3191e+06+1.89606e+06im \u001b[0m│\u001b[31m       0.253702 \u001b[0m│\n",
      "│    (3//2, 0) │\u001b[31m          83908.0-54576.3im \u001b[0m│\u001b[31m       0.266755 \u001b[0m│\n",
      "│ (3//2, 2//3) │\u001b[31m  4.43709e+12-2.61449e+13im \u001b[0m│\u001b[31m        1.40491 \u001b[0m│\n",
      "│       (2, 0) │\u001b[31m -2.02867e+13+3.81762e+12im \u001b[0m│\u001b[31m       0.346137 \u001b[0m│\n",
      "│    (2, 1//2) │\u001b[31m  3.19254e+25-2.28736e+25im \u001b[0m│\u001b[31m       0.949891 \u001b[0m│\n",
      "│       (2, 1) │\u001b[31m -1.02342e+25-1.28488e+25im \u001b[0m│\u001b[31m       0.566939 \u001b[0m│\n",
      "│    (5//2, 0) │\u001b[31m -2.02603e+25-1.34204e+25im \u001b[0m│\u001b[31m       0.528643 \u001b[0m│\n",
      "│ (5//2, 2//5) │\u001b[31m -1.02682e+41+6.05926e+40im \u001b[0m│\u001b[31m       0.520708 \u001b[0m│\n",
      "│ (5//2, 4//5) │\u001b[31m -1.39708e+41+4.75543e+40im \u001b[0m│\u001b[31m       0.288319 \u001b[0m│\n",
      "│       (3, 0) │\u001b[31m -1.63019e+41+3.65913e+40im \u001b[0m│\u001b[31m       0.253892 \u001b[0m│\n",
      "│    (3, 1//3) │\u001b[31m  1.88971e+60+1.65677e+60im \u001b[0m│\u001b[31m       0.156224 \u001b[0m│\n",
      "│    (3, 2//3) │\u001b[31m  1.84742e+60+1.71305e+60im \u001b[0m│\u001b[31m       0.173151 \u001b[0m│\n",
      "│       (3, 1) │\u001b[31m  1.78907e+60+1.78825e+60im \u001b[0m│\u001b[31m       0.180603 \u001b[0m│\n",
      "└──────────────┴────────────────────────────┴────────────────┘\n"
     ]
    }
   ],
   "source": [
    "sys = solve(blocks_even, Sig(1//2, 1//2, 1));"
   ]
  },
  {
   "cell_type": "markdown",
   "id": "e9531212",
   "metadata": {},
   "source": [
    "## r = 3"
   ]
  },
  {
   "cell_type": "code",
   "execution_count": 70,
   "id": "6e8c040b",
   "metadata": {},
   "outputs": [],
   "source": [
    "blocks = precompute_blocks((3, 0), fields, parity=1, precision=20);"
   ]
  },
  {
   "cell_type": "code",
   "execution_count": 71,
   "id": "b24bc6a1",
   "metadata": {},
   "outputs": [
    {
     "name": "stdout",
     "output_type": "stream",
     "text": [
      "\u001b[0m\u001b[1m Channel s\u001b[22m\n",
      "┌──────────────┬──────────────────────┬────────────────┐\n",
      "│\u001b[34m Field        \u001b[0m│\u001b[34m Structure constant   \u001b[0m│\u001b[34m Relative error \u001b[0m│\n",
      "├──────────────┼──────────────────────┼────────────────┤\n",
      "│       (1, 0) │\u001b[32m            1.0+0.0im \u001b[0m│\u001b[32m            0.0 \u001b[0m│\n",
      "│       (1, 1) │\u001b[32m -1.12599-0.0241255im \u001b[0m│\u001b[32m    2.15821e-20 \u001b[0m│\n",
      "│    (3//2, 0) │\u001b[32m                    0 \u001b[0m│\u001b[32m        1.62435 \u001b[0m│\n",
      "│ (3//2, 2//3) │\u001b[32m                    0 \u001b[0m│\u001b[32m        1.37079 \u001b[0m│\n",
      "│       (2, 0) │\u001b[32m   -81580.2-19167.9im \u001b[0m│\u001b[32m    1.18339e-11 \u001b[0m│\n",
      "│    (2, 1//2) │\u001b[32m    74953.0+16184.7im \u001b[0m│\u001b[32m    8.35654e-12 \u001b[0m│\n",
      "│       (2, 1) │\u001b[32m   -66144.5-11403.8im \u001b[0m│\u001b[32m    6.65419e-12 \u001b[0m│\n",
      "└──────────────┴──────────────────────┴────────────────┘\n",
      "\u001b[0m\u001b[1m Channel t\u001b[22m\n",
      "┌──────────────┬──────────────────────┬────────────────┐\n",
      "│\u001b[34m Field        \u001b[0m│\u001b[34m Structure constant   \u001b[0m│\u001b[34m Relative error \u001b[0m│\n",
      "├──────────────┼──────────────────────┼────────────────┤\n",
      "│       (1, 0) │\u001b[32m -1.12599-0.0241255im \u001b[0m│\u001b[32m    2.15821e-20 \u001b[0m│\n",
      "│       (1, 1) │\u001b[32m                    0 \u001b[0m│\u001b[32m        1.62435 \u001b[0m│\n",
      "│    (3//2, 0) │\u001b[32m                    0 \u001b[0m│\u001b[32m        1.37079 \u001b[0m│\n",
      "│ (3//2, 2//3) │\u001b[32m   -81580.2-19167.9im \u001b[0m│\u001b[32m    1.18339e-11 \u001b[0m│\n",
      "│       (2, 0) │\u001b[32m    74953.0+16184.7im \u001b[0m│\u001b[32m    8.35654e-12 \u001b[0m│\n",
      "│    (2, 1//2) │\u001b[32m   -66144.5-11403.8im \u001b[0m│\u001b[32m    6.65419e-12 \u001b[0m│\n",
      "│       (2, 1) │\u001b[31m   -4552.45+1241.55im \u001b[0m│\u001b[31m        1.85294 \u001b[0m│\n",
      "└──────────────┴──────────────────────┴────────────────┘\n",
      "\u001b[0m\u001b[1m Channel u\u001b[22m\n",
      "┌──────────────┬──────────────────────┬────────────────┐\n",
      "│\u001b[34m Field        \u001b[0m│\u001b[34m Structure constant   \u001b[0m│\u001b[34m Relative error \u001b[0m│\n",
      "├──────────────┼──────────────────────┼────────────────┤\n",
      "│       (1, 0) │\u001b[32m    1.0-6.53627e-21im \u001b[0m│\u001b[32m    9.08663e-21 \u001b[0m│\n",
      "│       (1, 1) │\u001b[32m -1.12599-0.0241255im \u001b[0m│\u001b[32m    2.21466e-20 \u001b[0m│\n",
      "│    (3//2, 0) │\u001b[32m                    0 \u001b[0m│\u001b[32m         1.3852 \u001b[0m│\n",
      "│ (3//2, 2//3) │\u001b[32m                    0 \u001b[0m│\u001b[32m        1.17821 \u001b[0m│\n",
      "│       (2, 0) │\u001b[32m   -81580.2-19167.9im \u001b[0m│\u001b[32m    2.38782e-15 \u001b[0m│\n",
      "│    (2, 1//2) │\u001b[32m    74953.0+16184.7im \u001b[0m│\u001b[32m    2.12578e-15 \u001b[0m│\n",
      "│       (2, 1) │\u001b[32m   -66144.5-11403.8im \u001b[0m│\u001b[32m    1.56456e-15 \u001b[0m│\n",
      "└──────────────┴──────────────────────┴────────────────┘\n"
     ]
    }
   ],
   "source": [
    "sys = solve(blocks, Sig(1, 1, 1), rmax=2);"
   ]
  },
  {
   "cell_type": "markdown",
   "id": "36aabc16",
   "metadata": {},
   "source": [
    "## r = 4"
   ]
  }
 ],
 "metadata": {
  "kernelspec": {
   "display_name": "Julia 1.11.7",
   "language": "julia",
   "name": "julia-1.11"
  },
  "language_info": {
   "file_extension": ".jl",
   "mimetype": "application/julia",
   "name": "julia",
   "version": "1.11.7"
  }
 },
 "nbformat": 4,
 "nbformat_minor": 5
}
