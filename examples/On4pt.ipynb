{
 "cells": [
  {
   "cell_type": "markdown",
   "id": "03777087",
   "metadata": {},
   "source": [
    "# Four point functions in the $O(n)$ model\n",
    "\n",
    "This notebook reproduces some known results about Potts and $O(n)$ four-point functions, using the new Julia code."
   ]
  },
  {
   "cell_type": "code",
   "execution_count": 1,
   "id": "5d7699d5",
   "metadata": {},
   "outputs": [
    {
     "name": "stderr",
     "output_type": "stream",
     "text": [
      "\u001b[32m\u001b[1m  Activating\u001b[22m\u001b[39m project at `~/Documents/Recherche/projet_these/code/BootstrapVirasoro/examples`\n"
     ]
    },
    {
     "name": "stdout",
     "output_type": "stream",
     "text": [
      "Number of threads: 4\n"
     ]
    }
   ],
   "source": [
    "Pkg.activate(\".\"); # activate the parent environment\n",
    "using BootstrapVirasoro, BootstrapVirasoro.LoopModels, BenchmarkTools\n",
    "println(\"Number of threads: $(Threads.nthreads())\")"
   ]
  },
  {
   "cell_type": "markdown",
   "id": "ad8906b8",
   "metadata": {},
   "source": [
    "## Spectrum\n",
    "\n",
    "We solve crossing symmetry equations for the spectrum of the $O(n)$ CFT:\n",
    "\n",
    "\\begin{align}\n",
    "\\mathcal{S}^{O(n)} &= \\left\\{V^d_{\\langle 1,s\\rangle}\\right\\}_{s\\in 2\\mathbb{N}+1} \\bigcup \\left\\{V_{(r,s)}\\right\\}_{\\substack{r\\in \\frac12\\mathbb{N}^*\\\\ s\\in\\frac{1}{r}\\mathbb{Z}}}  \\ ,\n",
    "\\end{align}\n",
    "\n",
    "## Bootstrap equations\n",
    "\n",
    "We then numerically solve\n",
    "\n",
    "\\begin{align}\n",
    "\\sum_{V \\in \\mathcal{S}^{(s)}} D^{(s)}_V \\mathcal I^{(s)}_V (x) = \\sum_{V \\in \\mathcal{S}^{(t)}} D^{(t)}_V \\mathcal I^{(t)}_V (x) = \\sum_{V \\in \\mathcal{S}^{(u)}} D^{(u)}_V \\mathcal I^{(u)}_V (x),\n",
    "\\end{align}\n",
    "\n",
    "for some channel spectra $\\mathcal{S}^{(s)}, \\mathcal{S}^{(t)}, \\mathcal{S}^{(u)}$, where $\\mathcal I$ are interchiral conformal blocks, and the $D$'s are four-point structure constants.\n",
    "\n",
    "We solve this system as\n",
    "\\begin{equation}\n",
    "\\underbrace{\n",
    "\\begin{bmatrix}\n",
    "[\\mathcal I^{(s)}_{V_j}(x_i)]_{ij} & [-\\mathcal I^{(t)}_{V_j}(1-x_i)]_{ij} & [0] \\\\\n",
    "[\\mathcal I^{(s)}_{V_j}(x_i)]_{ij} & [0] & [-\\mathcal I^{(u)}_{V_j}(1/x_i)]_{ij}\n",
    "\\end{bmatrix}}_A\n",
    "\\begin{bmatrix}\n",
    "[D^{(s)}_{V_j}]_j \\\\\n",
    "[D^{(t)}_{V_j}]_j \\\\\n",
    "[D^{(u)}_{V_j}]_j\n",
    "\\end{bmatrix} = \n",
    "\\begin{bmatrix}\n",
    "\\sum_{V_j \\in \\text{ known}} D^{(t)}_{V_j} \\mathcal{I}^{(t)}_{V_j}(1-x_i) - \\sum_{V_j \\in \\text{ known}} D^{(s)}_{V_j} \\mathcal{I}^{(s)}_{V_j}(x_i)\\\\\n",
    "\\sum_{V_j \\in \\text{ known}} D^{(u)}_{V_j} \\mathcal{I}^{(u)}_{V_j}(1/x_i) - \\sum_{V_j \\in \\text{ known}} D^{(s)}_{V_j} \\mathcal{I}^{(s)}_{V_j}(x_i)\n",
    "\\end{bmatrix}\n",
    "\\end{equation}\n",
    "where the $x_i$ take more values than there are unknowns, i.e. $A$ is a tall rectangular matrix. \n",
    "\n",
    "To check numerical convergence, we solve two subsystems and compare the solutions. If the solutions are close, we know the computation has converged.\n"
   ]
  },
  {
   "cell_type": "code",
   "execution_count": 10,
   "id": "af82dfda",
   "metadata": {},
   "outputs": [
    {
     "data": {
      "text/plain": [
       "solve (generic function with 2 methods)"
      ]
     },
     "metadata": {},
     "output_type": "display_data"
    }
   ],
   "source": [
    "const Sig = Channels{Rational}\n",
    "\n",
    "# Spectrum of O(n) model\n",
    "c_S2 = CC(β=1 / (big\"0.8\" + big\"0.1\" * im))\n",
    "ndiag_indices = [(r, s) for r in 1//2:1//2:20 for s in -1+1//(2r):1//(2r):1 if r * s % 1 == 0]\n",
    "diag_field = Field(c_S2, r=0, s=big\"0.4\" + big\"0.1\" * im)\n",
    "fields_S2 = vcat([Field(c_S2, r=r, s=s) for (r, s) in ndiag_indices], diag_field)\n",
    "\n",
    "# Determine the parity of the number of legs in 4pt channels\n",
    "function chan_parities(co::Correlation4)\n",
    "    V1, V2, V3, V4 = co.fields\n",
    "    chan_parities = Channels{Rational}((V1.r + V2.r) % 1, (V1.r + V4.r) % 1, (V1.r + V3.r) % 1)\n",
    "end\n",
    "\n",
    "# Compute series of blocks for any channel field compatible\n",
    "# with the correlation co\n",
    "function LoopSpectra(co, fields, fs)\n",
    "    Vs = @channels filter(V -> V.r % 1 == chan_parities(co)[chan], fields)\n",
    "    @channels ChannelSpectrum(co, chan, Vs[chan], fs[chan])\n",
    "end\n",
    "\n",
    "# Compute series of blocks, keeping only one of each (field, reflected field) pair\n",
    "# given indices of the external fields.\n",
    "function precompute_blocks(indices, fields; parity, precision=10)\n",
    "    setprecision(BigFloat, floor(Int, 1.2 * precision), base=10)\n",
    "    Δmax = floor(Int, 1.5 * precision)\n",
    "    co = Correlation([Field(c_S2, r=r, s=s) for (r, s) in ind], Δmax)\n",
    "    parity != 0 && (fields = filter(V -> V.diagonal || V.s >= 0, fields))\n",
    "    fs = Channels(chan -> (V -> IBlock(co, chan, V, parity=parity)))\n",
    "    LoopSpectra(co, fields, fs)\n",
    "end\n",
    "\n",
    "# Solve crossing symmetry for given signature\n",
    "function solve(specs, signature, even_spin=Channels(false); rmax=3, show=true)\n",
    "    specs = @channels filter(V -> V.r >= signature[chan], specs[chan])\n",
    "    specs = @channels filter(V -> even_spin[chan] ? spin(V) % 2 == 0 : true, specs[chan])\n",
    "    system = solve_bootstrap(specs)\n",
    "    if show\n",
    "        show(stdout, system.str_cst, rmax=rmax)\n",
    "    end\n",
    "    return system\n",
    "end"
   ]
  },
  {
   "cell_type": "markdown",
   "id": "f8064650",
   "metadata": {},
   "source": [
    "## $\\langle (\\frac{1}{2}, 0)^4 \\rangle$"
   ]
  },
  {
   "cell_type": "code",
   "execution_count": null,
   "id": "b855110c",
   "metadata": {},
   "outputs": [],
   "source": [
    "ind = ((1 // 2, 0), (1 // 2, 0), (1 // 2, 0), (1 // 2, 0))\n",
    "blocks_even = precompute_blocks(ind, fields_S2, parity=1, precision=10);"
   ]
  },
  {
   "cell_type": "code",
   "execution_count": null,
   "id": "62acf83f",
   "metadata": {},
   "outputs": [],
   "source": [
    "sol = solve(blocks_even, Sig(0, 1, 1), rmax=2);"
   ]
  },
  {
   "cell_type": "markdown",
   "id": "bcdd3828",
   "metadata": {},
   "source": [
    "Benchmarks: on my 2015, 4-core Intel Macbook pro.\n",
    "| Precision          | Python | Julia |\n",
    "|----------|----------|----------|\n",
    "| $\\Delta_{\\mathrm{max}}=20$, 13 digits  | 2min23s  | 2.3s  |\n",
    "| $\\Delta_{\\mathrm{max}}=30$, 25 digits  | 8min10s  | 3.0s  |\n",
    "| $\\Delta_{\\mathrm{max}}=40$, 35 digits  | 23min18s  | 12.6s  |"
   ]
  },
  {
   "cell_type": "markdown",
   "id": "9e3f3ac3",
   "metadata": {},
   "source": [
    "## $\\langle (\\frac{1}{2}, 0)^2 (1, 0)^2 \\rangle$"
   ]
  },
  {
   "cell_type": "code",
   "execution_count": 78,
   "id": "42d6e272",
   "metadata": {},
   "outputs": [],
   "source": [
    "ind = ((1//2, 0), (1//2, 0), (1, 0), (1, 0))\n",
    "blocks_even = precompute_blocks(ind, fields_S2, parity=1, precision=20);"
   ]
  },
  {
   "cell_type": "markdown",
   "id": "cd05328b",
   "metadata": {},
   "source": [
    "### Signature $(0, \\frac32, \\frac32)$"
   ]
  },
  {
   "cell_type": "code",
   "execution_count": 79,
   "id": "9bb2ac0b",
   "metadata": {},
   "outputs": [
    {
     "name": "stdout",
     "output_type": "stream",
     "text": [
      "\u001b[0m\u001b[1m Channel s\u001b[22m\n",
      "┌─────────────────┬────────────────────────────┬────────────────┐\n",
      "│\u001b[34m Field           \u001b[0m│\u001b[34m Structure constant         \u001b[0m│\u001b[34m Relative error \u001b[0m│\n",
      "├─────────────────┼────────────────────────────┼────────────────┤\n",
      "│ (P=0.16+0.06im) │\u001b[32m                  1.0+0.0im \u001b[0m│\u001b[32m            0.0 \u001b[0m│\n",
      "│          (1, 0) │\u001b[32m        -0.26148+0.923384im \u001b[0m│\u001b[32m    5.32739e-19 \u001b[0m│\n",
      "│          (1, 1) │\u001b[32m                          0 \u001b[0m│\u001b[32m        2.06519 \u001b[0m│\n",
      "│          (2, 0) │\u001b[32m       0.0017207-0.002615im \u001b[0m│\u001b[32m    2.99699e-16 \u001b[0m│\n",
      "│       (2, 1//2) │\u001b[32m                          0 \u001b[0m│\u001b[32m        2.18572 \u001b[0m│\n",
      "│          (2, 1) │\u001b[32m                          0 \u001b[0m│\u001b[32m        2.15411 \u001b[0m│\n",
      "│          (3, 0) │\u001b[32m -1.28106e-06-8.33233e-08im \u001b[0m│\u001b[32m    3.14966e-12 \u001b[0m│\n",
      "│       (3, 1//3) │\u001b[32m                          0 \u001b[0m│\u001b[32m        2.67088 \u001b[0m│\n",
      "│       (3, 2//3) │\u001b[32m  8.01481e-07-6.16705e-08im \u001b[0m│\u001b[32m    1.47355e-12 \u001b[0m│\n",
      "│          (3, 1) │\u001b[32m                          0 \u001b[0m│\u001b[32m        2.10467 \u001b[0m│\n",
      "└─────────────────┴────────────────────────────┴────────────────┘\n",
      "\u001b[0m\u001b[1m Channel t\u001b[22m\n",
      "┌──────────────┬──────────────────────┬────────────────┐\n",
      "│\u001b[34m Field        \u001b[0m│\u001b[34m Structure constant   \u001b[0m│\u001b[34m Relative error \u001b[0m│\n",
      "├──────────────┼──────────────────────┼────────────────┤\n",
      "│    (3//2, 0) │\u001b[32m  -0.26148+0.923384im \u001b[0m│\u001b[32m    5.32739e-19 \u001b[0m│\n",
      "│ (3//2, 2//3) │\u001b[32m                    0 \u001b[0m│\u001b[32m        2.06519 \u001b[0m│\n",
      "│    (5//2, 0) │\u001b[32m 0.0017207-0.002615im \u001b[0m│\u001b[32m    2.99699e-16 \u001b[0m│\n",
      "│ (5//2, 2//5) │\u001b[32m                    0 \u001b[0m│\u001b[32m        2.18572 \u001b[0m│\n",
      "│ (5//2, 4//5) │\u001b[32m                    0 \u001b[0m│\u001b[32m        2.15411 \u001b[0m│\n",
      "└──────────────┴──────────────────────┴────────────────┘\n",
      "\u001b[0m\u001b[1m Channel u\u001b[22m\n",
      "┌──────────────┬────────────────────────────┬────────────────┐\n",
      "│\u001b[34m Field        \u001b[0m│\u001b[34m Structure constant         \u001b[0m│\u001b[34m Relative error \u001b[0m│\n",
      "├──────────────┼────────────────────────────┼────────────────┤\n",
      "│    (3//2, 0) │\u001b[32m       0.243028+0.0341728im \u001b[0m│\u001b[32m    5.33992e-19 \u001b[0m│\n",
      "│ (3//2, 2//3) │\u001b[32m      0.148876+0.00323883im \u001b[0m│\u001b[32m      7.262e-19 \u001b[0m│\n",
      "│    (5//2, 0) │\u001b[32m -0.000192724-4.72744e-05im \u001b[0m│\u001b[32m    6.51688e-16 \u001b[0m│\n",
      "│ (5//2, 2//5) │\u001b[32m -0.000104103+2.66871e-05im \u001b[0m│\u001b[32m    1.07213e-15 \u001b[0m│\n",
      "│ (5//2, 4//5) │\u001b[32m  2.16716e-05+5.62102e-05im \u001b[0m│\u001b[32m    2.94691e-16 \u001b[0m│\n",
      "└──────────────┴────────────────────────────┴────────────────┘\n"
     ]
    }
   ],
   "source": [
    "sol = solve(blocks_even, Sig(0, 3//2, 3//2));"
   ]
  },
  {
   "cell_type": "markdown",
   "id": "cdbb038f",
   "metadata": {},
   "source": [
    "### Signature $(1, \\frac12, \\frac32)$"
   ]
  },
  {
   "cell_type": "code",
   "execution_count": 80,
   "id": "e8e71e7c",
   "metadata": {},
   "outputs": [
    {
     "name": "stdout",
     "output_type": "stream",
     "text": [
      "\u001b[0m\u001b[1m Channel s\u001b[22m\n",
      "┌───────────┬────────────────────────────┬────────────────┐\n",
      "│\u001b[34m Field     \u001b[0m│\u001b[34m Structure constant         \u001b[0m│\u001b[34m Relative error \u001b[0m│\n",
      "├───────────┼────────────────────────────┼────────────────┤\n",
      "│    (1, 0) │\u001b[32m                  1.0+0.0im \u001b[0m│\u001b[32m            0.0 \u001b[0m│\n",
      "│    (1, 1) │\u001b[32m       0.502183-0.0830317im \u001b[0m│\u001b[32m    9.88134e-19 \u001b[0m│\n",
      "│    (2, 0) │\u001b[32m     0.00239155+0.0255139im \u001b[0m│\u001b[32m    6.66122e-17 \u001b[0m│\n",
      "│ (2, 1//2) │\u001b[32m     0.00273704+0.0200265im \u001b[0m│\u001b[32m    2.02014e-17 \u001b[0m│\n",
      "│    (2, 1) │\u001b[32m                          0 \u001b[0m│\u001b[32m        1.28257 \u001b[0m│\n",
      "│    (3, 0) │\u001b[32m -6.40312e-07-1.92164e-06im \u001b[0m│\u001b[32m     2.5215e-12 \u001b[0m│\n",
      "│ (3, 1//3) │\u001b[32m -7.07647e-07-9.43683e-07im \u001b[0m│\u001b[32m    3.51888e-12 \u001b[0m│\n",
      "│ (3, 2//3) │\u001b[32m -6.00257e-07+2.35486e-07im \u001b[0m│\u001b[32m    2.48351e-12 \u001b[0m│\n",
      "│    (3, 1) │\u001b[32m                          0 \u001b[0m│\u001b[32m         1.4421 \u001b[0m│\n",
      "└───────────┴────────────────────────────┴────────────────┘\n",
      "\u001b[0m\u001b[1m Channel t\u001b[22m\n",
      "┌──────────────┬────────────────────────────┬────────────────┐\n",
      "│\u001b[34m Field        \u001b[0m│\u001b[34m Structure constant         \u001b[0m│\u001b[34m Relative error \u001b[0m│\n",
      "├──────────────┼────────────────────────────┼────────────────┤\n",
      "│    (1//2, 0) │\u001b[32m       0.502183-0.0830317im \u001b[0m│\u001b[32m    9.88134e-19 \u001b[0m│\n",
      "│    (3//2, 0) │\u001b[32m     0.00239155+0.0255139im \u001b[0m│\u001b[32m    6.66122e-17 \u001b[0m│\n",
      "│ (3//2, 2//3) │\u001b[32m     0.00273704+0.0200265im \u001b[0m│\u001b[32m    2.02014e-17 \u001b[0m│\n",
      "│    (5//2, 0) │\u001b[32m                          0 \u001b[0m│\u001b[32m        1.28257 \u001b[0m│\n",
      "│ (5//2, 2//5) │\u001b[32m -6.40312e-07-1.92164e-06im \u001b[0m│\u001b[32m     2.5215e-12 \u001b[0m│\n",
      "│ (5//2, 4//5) │\u001b[32m -7.07647e-07-9.43683e-07im \u001b[0m│\u001b[32m    3.51888e-12 \u001b[0m│\n",
      "└──────────────┴────────────────────────────┴────────────────┘\n",
      "\u001b[0m\u001b[1m Channel u\u001b[22m\n",
      "┌──────────────┬────────────────────────────┬────────────────┐\n",
      "│\u001b[34m Field        \u001b[0m│\u001b[34m Structure constant         \u001b[0m│\u001b[34m Relative error \u001b[0m│\n",
      "├──────────────┼────────────────────────────┼────────────────┤\n",
      "│    (3//2, 0) │\u001b[32m        1.30307+0.0804648im \u001b[0m│\u001b[32m    9.33041e-19 \u001b[0m│\n",
      "│ (3//2, 2//3) │\u001b[32m       -0.318147+0.319549im \u001b[0m│\u001b[32m     1.3007e-18 \u001b[0m│\n",
      "│    (5//2, 0) │\u001b[32m       0.0191759+0.077773im \u001b[0m│\u001b[32m    2.04776e-18 \u001b[0m│\n",
      "│ (5//2, 2//5) │\u001b[32m -6.35679e-05+0.000494363im \u001b[0m│\u001b[32m    2.62132e-16 \u001b[0m│\n",
      "│ (5//2, 4//5) │\u001b[32m -2.24137e-05+8.12728e-05im \u001b[0m│\u001b[32m    1.91045e-15 \u001b[0m│\n",
      "└──────────────┴────────────────────────────┴────────────────┘\n"
     ]
    }
   ],
   "source": [
    "solve(blocks_even, Sig(1, 1//2, 3//2));"
   ]
  },
  {
   "cell_type": "markdown",
   "id": "500476f1",
   "metadata": {},
   "source": [
    "### Signature $(1, \\frac32, \\frac12)$"
   ]
  },
  {
   "cell_type": "code",
   "execution_count": 81,
   "id": "460ecb44",
   "metadata": {},
   "outputs": [
    {
     "name": "stdout",
     "output_type": "stream",
     "text": [
      "\u001b[0m\u001b[1m Channel s\u001b[22m\n",
      "┌───────────┬────────────────────────────┬────────────────┐\n",
      "│\u001b[34m Field     \u001b[0m│\u001b[34m Structure constant         \u001b[0m│\u001b[34m Relative error \u001b[0m│\n",
      "├───────────┼────────────────────────────┼────────────────┤\n",
      "│    (1, 0) │\u001b[32m                  1.0+0.0im \u001b[0m│\u001b[32m            0.0 \u001b[0m│\n",
      "│    (1, 1) │\u001b[32m      -0.502183+0.0830317im \u001b[0m│\u001b[32m    6.14357e-19 \u001b[0m│\n",
      "│    (2, 0) │\u001b[32m     0.00239155+0.0255139im \u001b[0m│\u001b[32m     4.3717e-17 \u001b[0m│\n",
      "│ (2, 1//2) │\u001b[32m    -0.00273704-0.0200265im \u001b[0m│\u001b[32m    1.22157e-17 \u001b[0m│\n",
      "│    (2, 1) │\u001b[32m                          0 \u001b[0m│\u001b[32m        1.38137 \u001b[0m│\n",
      "│    (3, 0) │\u001b[32m -6.40312e-07-1.92164e-06im \u001b[0m│\u001b[32m     2.3246e-12 \u001b[0m│\n",
      "│ (3, 1//3) │\u001b[32m  7.07647e-07+9.43683e-07im \u001b[0m│\u001b[32m     2.8984e-12 \u001b[0m│\n",
      "│ (3, 2//3) │\u001b[32m -6.00257e-07+2.35486e-07im \u001b[0m│\u001b[32m    2.18162e-12 \u001b[0m│\n",
      "│    (3, 1) │\u001b[32m                          0 \u001b[0m│\u001b[32m        1.29062 \u001b[0m│\n",
      "└───────────┴────────────────────────────┴────────────────┘\n",
      "\u001b[0m\u001b[1m Channel t\u001b[22m\n",
      "┌──────────────┬────────────────────────────┬────────────────┐\n",
      "│\u001b[34m Field        \u001b[0m│\u001b[34m Structure constant         \u001b[0m│\u001b[34m Relative error \u001b[0m│\n",
      "├──────────────┼────────────────────────────┼────────────────┤\n",
      "│    (3//2, 0) │\u001b[32m      -0.502183+0.0830317im \u001b[0m│\u001b[32m    6.14357e-19 \u001b[0m│\n",
      "│ (3//2, 2//3) │\u001b[32m     0.00239155+0.0255139im \u001b[0m│\u001b[32m     4.3717e-17 \u001b[0m│\n",
      "│    (5//2, 0) │\u001b[32m    -0.00273704-0.0200265im \u001b[0m│\u001b[32m    1.22157e-17 \u001b[0m│\n",
      "│ (5//2, 2//5) │\u001b[32m                          0 \u001b[0m│\u001b[32m        1.38137 \u001b[0m│\n",
      "│ (5//2, 4//5) │\u001b[32m -6.40312e-07-1.92164e-06im \u001b[0m│\u001b[32m     2.3246e-12 \u001b[0m│\n",
      "└──────────────┴────────────────────────────┴────────────────┘\n",
      "\u001b[0m\u001b[1m Channel u\u001b[22m\n",
      "┌──────────────┬────────────────────────────┬────────────────┐\n",
      "│\u001b[34m Field        \u001b[0m│\u001b[34m Structure constant         \u001b[0m│\u001b[34m Relative error \u001b[0m│\n",
      "├──────────────┼────────────────────────────┼────────────────┤\n",
      "│    (1//2, 0) │\u001b[32m        0.810308+0.138605im \u001b[0m│\u001b[32m    4.50916e-19 \u001b[0m│\n",
      "│    (3//2, 0) │\u001b[32m      -0.249073-0.0128304im \u001b[0m│\u001b[32m    1.17359e-18 \u001b[0m│\n",
      "│ (3//2, 2//3) │\u001b[32m -0.000357969-9.73578e-05im \u001b[0m│\u001b[32m    4.26931e-16 \u001b[0m│\n",
      "│    (5//2, 0) │\u001b[32m  0.000288598-0.000227579im \u001b[0m│\u001b[32m    3.99952e-16 \u001b[0m│\n",
      "│ (5//2, 2//5) │\u001b[32m -1.80481e-05+8.79009e-05im \u001b[0m│\u001b[32m    2.41959e-16 \u001b[0m│\n",
      "│ (5//2, 4//5) │\u001b[32m   1.7462e-09-4.00965e-09im \u001b[0m│\u001b[32m     1.22107e-9 \u001b[0m│\n",
      "└──────────────┴────────────────────────────┴────────────────┘\n"
     ]
    }
   ],
   "source": [
    "sol = solve(blocks_even, Sig(1, 3//2, 1//2));"
   ]
  },
  {
   "cell_type": "markdown",
   "id": "e04301d3",
   "metadata": {},
   "source": [
    "## $\\left\\langle (0, \\frac12)^3 (1, 0) \\right\\rangle$"
   ]
  },
  {
   "cell_type": "code",
   "execution_count": 82,
   "id": "092378b5",
   "metadata": {},
   "outputs": [
    {
     "name": "stdout",
     "output_type": "stream",
     "text": [
      "\u001b[0m\u001b[1m Channel s\u001b[22m\n",
      "┌─────────────────┬────────────────────────────┬────────────────┐\n",
      "│\u001b[34m Field           \u001b[0m│\u001b[34m Structure constant         \u001b[0m│\u001b[34m Relative error \u001b[0m│\n",
      "├─────────────────┼────────────────────────────┼────────────────┤\n",
      "│ (P=0.16+0.06im) │\u001b[32m                  1.0+0.0im \u001b[0m│\u001b[32m            0.0 \u001b[0m│\n",
      "│          (1, 0) │\u001b[32m                          0 \u001b[0m│\u001b[32m         1.9442 \u001b[0m│\n",
      "│          (2, 0) │\u001b[32m  -0.000314628+0.00161483im \u001b[0m│\u001b[32m    7.18649e-17 \u001b[0m│\n",
      "│          (2, 1) │\u001b[32m -1.68652e-05-0.000641317im \u001b[0m│\u001b[32m    2.66416e-17 \u001b[0m│\n",
      "└─────────────────┴────────────────────────────┴────────────────┘\n",
      "\u001b[0m\u001b[1m Channel t\u001b[22m\n",
      "┌───────────┬────────────────────────────┬────────────────┐\n",
      "│\u001b[34m Field     \u001b[0m│\u001b[34m Structure constant         \u001b[0m│\u001b[34m Relative error \u001b[0m│\n",
      "├───────────┼────────────────────────────┼────────────────┤\n",
      "│    (1, 0) │\u001b[32m                          0 \u001b[0m│\u001b[32m         1.9442 \u001b[0m│\n",
      "│    (1, 1) │\u001b[32m  -0.000314628+0.00161483im \u001b[0m│\u001b[32m    7.18649e-17 \u001b[0m│\n",
      "│    (2, 0) │\u001b[32m -1.68652e-05-0.000641317im \u001b[0m│\u001b[32m    2.66416e-17 \u001b[0m│\n",
      "│ (2, 1//2) │\u001b[32m                          0 \u001b[0m│\u001b[32m        1.69318 \u001b[0m│\n",
      "│    (2, 1) │\u001b[32m                          0 \u001b[0m│\u001b[32m        1.69137 \u001b[0m│\n",
      "└───────────┴────────────────────────────┴────────────────┘\n",
      "\u001b[0m\u001b[1m Channel u\u001b[22m\n",
      "┌───────────┬───────────────────────────┬────────────────┐\n",
      "│\u001b[34m Field     \u001b[0m│\u001b[34m Structure constant        \u001b[0m│\u001b[34m Relative error \u001b[0m│\n",
      "├───────────┼───────────────────────────┼────────────────┤\n",
      "│    (1, 0) │\u001b[32m       0.545655+0.135744im \u001b[0m│\u001b[32m    2.04499e-19 \u001b[0m│\n",
      "│    (1, 1) │\u001b[32m      0.202087-0.0105464im \u001b[0m│\u001b[32m    6.27306e-20 \u001b[0m│\n",
      "│    (2, 0) │\u001b[32m 0.000452493+0.000757584im \u001b[0m│\u001b[32m    1.44948e-16 \u001b[0m│\n",
      "│ (2, 1//2) │\u001b[32m 0.000395742+0.000580602im \u001b[0m│\u001b[32m    1.42748e-16 \u001b[0m│\n",
      "│    (2, 1) │\u001b[32m  0.000249007+0.00025219im \u001b[0m│\u001b[32m     1.3017e-16 \u001b[0m│\n",
      "└───────────┴───────────────────────────┴────────────────┘\n"
     ]
    }
   ],
   "source": [
    "ind = ((0, 1//2), (1, 0), (0, 1//2), (0, 1//2))\n",
    "blocks_even_S2 = precompute_blocks(ind, fields_S2, parity=1, precision=20);\n",
    "solve(blocks_even_S2, Sig(0, 1, 1), Channels(true, false, false), rmax=2);"
   ]
  },
  {
   "cell_type": "markdown",
   "id": "a3c2e1a7",
   "metadata": {},
   "source": [
    "## $\\left\\langle (0, \\frac12)^3 (2, 0) \\right\\rangle$"
   ]
  },
  {
   "cell_type": "code",
   "execution_count": 93,
   "id": "771216ec",
   "metadata": {},
   "outputs": [
    {
     "name": "stdout",
     "output_type": "stream",
     "text": [
      "\u001b[0m\u001b[1m Channel s\u001b[22m\n",
      "┌───────────┬────────────────────────────┬────────────────┐\n",
      "│\u001b[34m Field     \u001b[0m│\u001b[34m Structure constant         \u001b[0m│\u001b[34m Relative error \u001b[0m│\n",
      "├───────────┼────────────────────────────┼────────────────┤\n",
      "│    (1, 0) │\u001b[32m                  1.0+0.0im \u001b[0m│\u001b[32m            0.0 \u001b[0m│\n",
      "│    (2, 0) │\u001b[31m      0.0449524+0.0767135im \u001b[0m│\u001b[31m       0.318693 \u001b[0m│\n",
      "│    (2, 1) │\u001b[31m     -0.0190418-0.0159205im \u001b[0m│\u001b[31m       0.318693 \u001b[0m│\n",
      "│    (3, 0) │\u001b[32m -6.59937e-05+5.41536e-05im \u001b[0m│\u001b[32m     1.15741e-8 \u001b[0m│\n",
      "│ (3, 2//3) │\u001b[32m  1.83437e-05-1.91256e-05im \u001b[0m│\u001b[32m     6.09016e-9 \u001b[0m│\n",
      "│    (4, 0) │\u001b[32m                          0 \u001b[0m│\u001b[32m       0.304527 \u001b[0m│\n",
      "│ (4, 1//2) │\u001b[32m                          0 \u001b[0m│\u001b[32m       0.865294 \u001b[0m│\n",
      "│    (4, 1) │\u001b[32m                          0 \u001b[0m│\u001b[32m       0.284313 \u001b[0m│\n",
      "└───────────┴────────────────────────────┴────────────────┘\n",
      "\u001b[0m\u001b[1m Channel t\u001b[22m\n",
      "┌───────────┬────────────────────────────┬────────────────┐\n",
      "│\u001b[34m Field     \u001b[0m│\u001b[34m Structure constant         \u001b[0m│\u001b[34m Relative error \u001b[0m│\n",
      "├───────────┼────────────────────────────┼────────────────┤\n",
      "│    (1, 0) │\u001b[31m      0.0449524+0.0767135im \u001b[0m│\u001b[31m       0.318693 \u001b[0m│\n",
      "│    (1, 1) │\u001b[31m     -0.0190418-0.0159205im \u001b[0m│\u001b[31m       0.318693 \u001b[0m│\n",
      "│    (2, 0) │\u001b[32m -6.59937e-05+5.41536e-05im \u001b[0m│\u001b[32m     1.15741e-8 \u001b[0m│\n",
      "│ (2, 1//2) │\u001b[32m  1.83437e-05-1.91256e-05im \u001b[0m│\u001b[32m     6.09016e-9 \u001b[0m│\n",
      "│    (2, 1) │\u001b[32m                          0 \u001b[0m│\u001b[32m       0.304527 \u001b[0m│\n",
      "│    (3, 0) │\u001b[32m                          0 \u001b[0m│\u001b[32m       0.865294 \u001b[0m│\n",
      "│ (3, 1//3) │\u001b[32m                          0 \u001b[0m│\u001b[32m       0.284313 \u001b[0m│\n",
      "│ (3, 2//3) │\u001b[32m                          0 \u001b[0m│\u001b[32m       0.817671 \u001b[0m│\n",
      "│    (3, 1) │\u001b[32m                          0 \u001b[0m│\u001b[32m        1.08865 \u001b[0m│\n",
      "│    (4, 0) │\u001b[32m                          0 \u001b[0m│\u001b[32m        1.23117 \u001b[0m│\n",
      "│ (4, 1//4) │\u001b[32m                          0 \u001b[0m│\u001b[32m        1.32629 \u001b[0m│\n",
      "│ (4, 1//2) │\u001b[32m                          0 \u001b[0m│\u001b[32m        1.36924 \u001b[0m│\n",
      "│ (4, 3//4) │\u001b[32m                          0 \u001b[0m│\u001b[32m        1.48634 \u001b[0m│\n",
      "│    (4, 1) │\u001b[32m                          0 \u001b[0m│\u001b[32m        1.44257 \u001b[0m│\n",
      "└───────────┴────────────────────────────┴────────────────┘\n",
      "\u001b[0m\u001b[1m Channel u\u001b[22m\n",
      "┌───────────┬──────────────────────────┬────────────────┐\n",
      "│\u001b[34m Field     \u001b[0m│\u001b[34m Structure constant       \u001b[0m│\u001b[34m Relative error \u001b[0m│\n",
      "├───────────┼──────────────────────────┼────────────────┤\n",
      "│    (1, 0) │\u001b[31m         0.6612+0.13081im \u001b[0m│\u001b[31m      0.0811857 \u001b[0m│\n",
      "│    (1, 1) │\u001b[31m      0.202963-0.112665im \u001b[0m│\u001b[31m       0.126625 \u001b[0m│\n",
      "│    (2, 0) │\u001b[32m     0.200493+0.0752493im \u001b[0m│\u001b[32m    2.39364e-12 \u001b[0m│\n",
      "│ (2, 1//2) │\u001b[32m                        0 \u001b[0m│\u001b[32m       0.864456 \u001b[0m│\n",
      "│    (2, 1) │\u001b[32m -0.0597736-0.000876299im \u001b[0m│\u001b[32m     2.5899e-12 \u001b[0m│\n",
      "│    (3, 0) │\u001b[32m                        0 \u001b[0m│\u001b[32m      0.0811861 \u001b[0m│\n",
      "│ (3, 1//3) │\u001b[32m                        0 \u001b[0m│\u001b[32m       0.126626 \u001b[0m│\n",
      "│ (3, 2//3) │\u001b[32m                        0 \u001b[0m│\u001b[32m      0.0811849 \u001b[0m│\n",
      "│    (3, 1) │\u001b[32m                        0 \u001b[0m│\u001b[32m       0.126624 \u001b[0m│\n",
      "│    (4, 0) │\u001b[32m                        0 \u001b[0m│\u001b[32m        5.38852 \u001b[0m│\n",
      "│ (4, 1//4) │\u001b[32m                        0 \u001b[0m│\u001b[32m        5.15072 \u001b[0m│\n",
      "│ (4, 1//2) │\u001b[32m                        0 \u001b[0m│\u001b[32m        5.15077 \u001b[0m│\n",
      "│ (4, 3//4) │\u001b[32m                        0 \u001b[0m│\u001b[32m        5.15082 \u001b[0m│\n",
      "│    (4, 1) │\u001b[32m                        0 \u001b[0m│\u001b[32m         4.9253 \u001b[0m│\n",
      "└───────────┴──────────────────────────┴────────────────┘\n"
     ]
    }
   ],
   "source": [
    "ind = ((0, 1//2), (2, 0), (0, 1//2), (0, 1//2))\n",
    "blocks_even_S2 = precompute_blocks(ind, fields_S2, parity=1, precision=20);\n",
    "solve(blocks_even_S2, Sig(1, 1, 1), Channels(true, false, false), rmax=4);"
   ]
  },
  {
   "cell_type": "markdown",
   "id": "2888633d",
   "metadata": {},
   "source": [
    "## $\\left\\langle (0, \\frac12)^3 (3, 0) \\right\\rangle$"
   ]
  },
  {
   "cell_type": "code",
   "execution_count": null,
   "id": "d1515a9d",
   "metadata": {},
   "outputs": [],
   "source": [
    "ind = ((0, 1//2), (2, 0), (0, 1//2), (0, 1//2))\n",
    "blocks_even_S2 = precompute_blocks(ind, fields_S2, parity=1, precision=20);\n",
    "solve(blocks_even_S2, Sig(1, 1, 1), Channels(true, false, false), rmax=4);"
   ]
  },
  {
   "cell_type": "markdown",
   "id": "cd73a173",
   "metadata": {},
   "source": [
    "# Torus one point functions"
   ]
  },
  {
   "cell_type": "code",
   "execution_count": 59,
   "id": "e3cd06db",
   "metadata": {},
   "outputs": [
    {
     "data": {
      "text/plain": [
       "relative_error (generic function with 1 method)"
      ]
     },
     "metadata": {},
     "output_type": "display_data"
    }
   ],
   "source": [
    "import EllipticFunctions: etaDedekind\n",
    "import BootstrapVirasoro: PosCache, xfromq, qfromx\n",
    "const Sig = Channels{Rational}\n",
    "\n",
    "c = CC(β=sqrt(big\"2\")/(big\"0.8\"+big\"0.1\"*im))\n",
    "ndiag_indices = [(r, s) for r in 1//2:1//2:20 for s in -1+1//(2r):1//(2r):1 if r*s % (1 // 2) == 0]\n",
    "diag_field = Field(c, r=0, s=big\"0.4\"+big\"0.1\"*im)\n",
    "fields = vcat([Field(c, r = r, s = s) for (r, s) in ndiag_indices], diag_field)\n",
    "\n",
    "function precompute_blocks(index::NTuple{2, <:Number}, fields; parity, precision=10)\n",
    "    setprecision(BigFloat, floor(Int, 1.2*precision), base=10)\n",
    "    Δmax = floor(Int, 1.5*precision)\n",
    "    co = Correlation(Field(c, r=index[1], s=index[2]), Δmax)\n",
    "    parity != 0 && (fields = filter(V -> V.diagonal || V.s >= 0, fields))\n",
    "    f = V -> IBlock(co, V, parity=parity)\n",
    "    spec = ChanSpec(co, fields, f)\n",
    "    return @channels spec\n",
    "end\n",
    "\n",
    "xfromτ(τ) = xfromq(exp(im * (π * τ)))\n",
    "\n",
    "function prefactor_f(τ, co_s, chan, lr)\n",
    "    x_cache = PosCache(xfromτ(τ), co_s[lr], chan)\n",
    "    return inv(\n",
    "        etaDedekind(τ) * x_cache.prefactor\n",
    "    )\n",
    "end\n",
    "\n",
    "nonchiral_prefactor_f(τ, co_s, chan) = prefactor_f(τ, co_s, chan, :left) * \n",
    "    prefactor_f(-conj(τ), co_s, chan, :right)\n",
    "\n",
    "relative_error(a, b) = abs((a - b) / (a + b))"
   ]
  },
  {
   "cell_type": "code",
   "execution_count": 89,
   "id": "8d372d20",
   "metadata": {},
   "outputs": [
    {
     "name": "stdout",
     "output_type": "stream",
     "text": [
      "(3//2, 1), s, 0.33893471661986\n",
      "(3//2, 1), t, 0.50327776110407\n",
      "(3//2, 1), u, 0.36421276243345\n",
      "(2, 3//4), t, 0.00011644695932445\n",
      "(2, 3//4), u, 0.0012080750572938\n",
      "(2, 1//2), t, 2.847678688872e-05\n",
      "(2, 1//2), u, 0.00021116812645605\n",
      "(2, -1//2), t, 2.8205514333302e-05\n",
      "(2, -1//2), u, 0.00021333225019116\n",
      "(1//2, 1), s, 1.0922758627075\n",
      "(1//2, 1), t, 0.60697496133162\n",
      "(1//2, 1), u, 1.1048226798684\n",
      "(2, 0), u, 2.4066757610602e-05\n",
      "(2, -3//4), t, 0.00011563648062607\n",
      "(2, -3//4), u, 0.00122605472035\n",
      "(2, 1//4), u, 5.0376751559222e-05\n",
      "(2, -1//4), u, 5.0609755329778e-05\n"
     ]
    }
   ],
   "source": [
    "ind = (1, 0)\n",
    "ind_S2 = ((0, 1 // 2), (ind[1], ind[2] // 2), (0, 1 // 2), (0, 1 // 2))\n",
    "blocks = precompute_blocks(ind, fields, parity=0, precision=15)\n",
    "blocks_S2 = precompute_blocks(ind_S2, fields_S2, parity=0, precision=10)\n",
    "\n",
    "for V in keys(blocks.s.blocks)\n",
    "        V_S2 = Field(c_S2, r=2 * V.r, s=V.s)\n",
    "        if V_S2 in keys(blocks_S2.s.blocks)\n",
    "                b = blocks.s.blocks[V]\n",
    "                b_S2 = @channels blocks_S2[chan].blocks[V_S2]\n",
    "\n",
    "                P = b.chan_field.dims.left.P\n",
    "                Pbar = b.chan_field.dims.right.P\n",
    "                τ = big\"0.36\" + big\"1.14\" * im\n",
    "                x = xfromq(exp(im * (π * τ)))\n",
    "                ts = Channels(τ, -1/τ, (τ-2)/(τ-1))\n",
    "                xs = Channels(x, 1-x, 1/x)\n",
    "\n",
    "                for chan in BootstrapVirasoro.CHANNELS\n",
    "                        err = relative_error(b(ts[chan]) * 16^(2P^2 + 2Pbar^2),\n",
    "                                b_S2[chan](xs[chan]) * nonchiral_prefactor_f(ts[chan], co_S2, chan) *\n",
    "                                (chan === :u ? (-1)^(spin(V_S2)) : 1))\n",
    "                        if err > 1e-5\n",
    "                                println(V, \", $chan, \", err)\n",
    "                        end\n",
    "                end\n",
    "        end\n",
    "end"
   ]
  },
  {
   "cell_type": "markdown",
   "id": "d99d7dd0",
   "metadata": {},
   "source": [
    "## r = 1"
   ]
  },
  {
   "cell_type": "code",
   "execution_count": 30,
   "id": "720acd49",
   "metadata": {},
   "outputs": [],
   "source": [
    "blocks_even = precompute_blocks((1, 0), fields, parity=0, precision=20);"
   ]
  },
  {
   "cell_type": "code",
   "execution_count": 31,
   "id": "4eaa92c4",
   "metadata": {},
   "outputs": [
    {
     "name": "stdout",
     "output_type": "stream",
     "text": [
      "\u001b[0m\u001b[1m Channel s\u001b[22m\n",
      "┌───────────────┬────────────────────────────┬────────────────┐\n",
      "│\u001b[34m Field         \u001b[0m│\u001b[34m Structure constant         \u001b[0m│\u001b[34m Relative error \u001b[0m│\n",
      "├───────────────┼────────────────────────────┼────────────────┤\n",
      "│     (1//2, 0) │\u001b[31m         -3.84331-4.52402im \u001b[0m│\u001b[31m        2.22468 \u001b[0m│\n",
      "│     (1//2, 1) │\u001b[31m      0.00449652-0.340755im \u001b[0m│\u001b[31m       0.458916 \u001b[0m│\n",
      "│        (1, 0) │\u001b[31m          6092.54-5737.21im \u001b[0m│\u001b[31m        7.03432 \u001b[0m│\n",
      "│     (1, 1//2) │\u001b[31m          -1316.2-6996.26im \u001b[0m│\u001b[31m        3.37096 \u001b[0m│\n",
      "│    (1, -1//2) │\u001b[31m          2516.44+8161.61im \u001b[0m│\u001b[31m        21.0914 \u001b[0m│\n",
      "│        (1, 1) │\u001b[31m          -9357.83-770.39im \u001b[0m│\u001b[31m        7.62188 \u001b[0m│\n",
      "│     (3//2, 0) │\u001b[31m -1.98686e+09+2.43799e+09im \u001b[0m│\u001b[31m        3.49671 \u001b[0m│\n",
      "│ (3//2, -1//3) │\u001b[31m  3.22437e+09-1.50845e+09im \u001b[0m│\u001b[31m         3.1885 \u001b[0m│\n",
      "│  (3//2, 1//3) │\u001b[31m  5.13646e+09-3.04533e+09im \u001b[0m│\u001b[31m        16.1527 \u001b[0m│\n",
      "│ (3//2, -2//3) │\u001b[31m -1.85632e+09+3.18785e+09im \u001b[0m│\u001b[31m        4.57277 \u001b[0m│\n",
      "│  (3//2, 2//3) │\u001b[31m  -4.6459e+09-1.55148e+09im \u001b[0m│\u001b[31m        8.10183 \u001b[0m│\n",
      "│     (3//2, 1) │\u001b[31m   4.18174e+07+7.5535e+07im \u001b[0m│\u001b[31m        2.36945 \u001b[0m│\n",
      "│        (2, 0) │\u001b[31m  1.23351e+22+5.61115e+21im \u001b[0m│\u001b[31m       0.784238 \u001b[0m│\n",
      "│     (2, 1//4) │\u001b[31m -4.86603e+21-1.26557e+22im \u001b[0m│\u001b[31m       0.790224 \u001b[0m│\n",
      "│    (2, -1//4) │\u001b[31m -1.27766e+22+4.68906e+21im \u001b[0m│\u001b[31m       0.781596 \u001b[0m│\n",
      "│     (2, 1//2) │\u001b[31m -5.46589e+21+1.24779e+22im \u001b[0m│\u001b[31m       0.795988 \u001b[0m│\n",
      "│    (2, -1//2) │\u001b[31m  5.76316e+21-1.24225e+22im \u001b[0m│\u001b[31m       0.783956 \u001b[0m│\n",
      "│     (2, 3//4) │\u001b[31m   1.27512e+22-4.9789e+21im \u001b[0m│\u001b[31m        0.79826 \u001b[0m│\n",
      "│    (2, -3//4) │\u001b[31m  4.80347e+21+1.28721e+22im \u001b[0m│\u001b[31m       0.789872 \u001b[0m│\n",
      "│        (2, 1) │\u001b[31m -1.25154e+22-5.55864e+21im \u001b[0m│\u001b[31m        0.79577 \u001b[0m│\n",
      "│     (5//2, 0) │\u001b[31m -1.79232e+35+3.34864e+35im \u001b[0m│\u001b[31m       0.571865 \u001b[0m│\n",
      "│ (5//2, -1//5) │\u001b[31m -1.57446e+35-3.24997e+35im \u001b[0m│\u001b[31m        0.57185 \u001b[0m│\n",
      "│  (5//2, 1//5) │\u001b[31m  3.57752e+35-4.93231e+34im \u001b[0m│\u001b[31m       0.571867 \u001b[0m│\n",
      "│ (5//2, -2//5) │\u001b[31m  3.02166e+35+5.40052e+34im \u001b[0m│\u001b[31m       0.571828 \u001b[0m│\n",
      "│  (5//2, 2//5) │\u001b[31m -2.12735e+35-2.21299e+35im \u001b[0m│\u001b[31m       0.571856 \u001b[0m│\n",
      "│  (5//2, 3//5) │\u001b[31m  -3.90512e+34+2.1929e+35im \u001b[0m│\u001b[31m       0.571836 \u001b[0m│\n",
      "│ (5//2, -3//5) │\u001b[31m  -1.60489e+35+1.5444e+35im \u001b[0m│\u001b[31m       0.571808 \u001b[0m│\n",
      "│ (5//2, -4//5) │\u001b[31m -1.61624e+34-1.15765e+35im \u001b[0m│\u001b[31m       0.571797 \u001b[0m│\n",
      "│  (5//2, 4//5) │\u001b[31m  1.05106e+35-5.11495e+34im \u001b[0m│\u001b[31m       0.571814 \u001b[0m│\n",
      "│     (5//2, 1) │\u001b[31m  5.26492e+23+2.38354e+23im \u001b[0m│\u001b[31m        1.50609 \u001b[0m│\n",
      "│        (3, 0) │\u001b[31m  -6.6825e+50+2.60831e+50im \u001b[0m│\u001b[31m       0.520841 \u001b[0m│\n",
      "│     (3, 1//6) │\u001b[31m    5.0935e+50+1.7318e+50im \u001b[0m│\u001b[31m       0.760769 \u001b[0m│\n",
      "│    (3, -1//6) │\u001b[31m  3.78506e+50-7.66526e+50im \u001b[0m│\u001b[31m       0.360244 \u001b[0m│\n",
      "│    (3, -1//3) │\u001b[31m  2.76113e+50+8.90894e+50im \u001b[0m│\u001b[31m       0.576369 \u001b[0m│\n",
      "│     (3, 1//3) │\u001b[31m -2.03069e+50-2.70916e+50im \u001b[0m│\u001b[31m       0.852918 \u001b[0m│\n",
      "│    (3, -1//2) │\u001b[31m -8.22762e+50-4.54205e+50im \u001b[0m│\u001b[31m       0.726442 \u001b[0m│\n",
      "│     (3, 1//2) │\u001b[31m  7.34938e+49+1.42891e+50im \u001b[0m│\u001b[31m       0.884827 \u001b[0m│\n",
      "│    (3, -2//3) │\u001b[31m   8.4644e+50-2.22696e+50im \u001b[0m│\u001b[31m       0.807852 \u001b[0m│\n",
      "│     (3, 2//3) │\u001b[31m -1.71063e+50-8.55764e+49im \u001b[0m│\u001b[31m       0.895182 \u001b[0m│\n",
      "│    (3, -5//6) │\u001b[31m -4.02505e+50+6.30907e+50im \u001b[0m│\u001b[31m       0.854684 \u001b[0m│\n",
      "│     (3, 5//6) │\u001b[31m  2.66198e+50+2.71927e+50im \u001b[0m│\u001b[31m       0.893865 \u001b[0m│\n",
      "│        (3, 1) │\u001b[31m  -8.25408e+49-5.7017e+50im \u001b[0m│\u001b[31m       0.881332 \u001b[0m│\n",
      "└───────────────┴────────────────────────────┴────────────────┘\n",
      "\u001b[0m\u001b[1m Channel t\u001b[22m\n",
      "┌─────────────────┬────────────────────────────┬────────────────┐\n",
      "│\u001b[34m Field           \u001b[0m│\u001b[34m Structure constant         \u001b[0m│\u001b[34m Relative error \u001b[0m│\n",
      "├─────────────────┼────────────────────────────┼────────────────┤\n",
      "│ (P=0.11+0.04im) │\u001b[32m                  1.0+0.0im \u001b[0m│\u001b[32m            0.0 \u001b[0m│\n",
      "│       (1//2, 0) │\u001b[31m         -3.84331-4.52402im \u001b[0m│\u001b[31m        2.22468 \u001b[0m│\n",
      "│       (1//2, 1) │\u001b[31m      0.00449652-0.340755im \u001b[0m│\u001b[31m       0.458916 \u001b[0m│\n",
      "│          (1, 0) │\u001b[31m          6092.54-5737.21im \u001b[0m│\u001b[31m        7.03432 \u001b[0m│\n",
      "│       (1, 1//2) │\u001b[31m          -1316.2-6996.26im \u001b[0m│\u001b[31m        3.37096 \u001b[0m│\n",
      "│      (1, -1//2) │\u001b[31m          2516.44+8161.61im \u001b[0m│\u001b[31m        21.0914 \u001b[0m│\n",
      "│          (1, 1) │\u001b[31m          -9357.83-770.39im \u001b[0m│\u001b[31m        7.62188 \u001b[0m│\n",
      "│       (3//2, 0) │\u001b[31m -1.98686e+09+2.43799e+09im \u001b[0m│\u001b[31m        3.49671 \u001b[0m│\n",
      "│   (3//2, -1//3) │\u001b[31m  3.22437e+09-1.50845e+09im \u001b[0m│\u001b[31m         3.1885 \u001b[0m│\n",
      "│    (3//2, 1//3) │\u001b[31m  5.13646e+09-3.04533e+09im \u001b[0m│\u001b[31m        16.1527 \u001b[0m│\n",
      "│   (3//2, -2//3) │\u001b[31m -1.85632e+09+3.18785e+09im \u001b[0m│\u001b[31m        4.57277 \u001b[0m│\n",
      "│    (3//2, 2//3) │\u001b[31m  -4.6459e+09-1.55148e+09im \u001b[0m│\u001b[31m        8.10183 \u001b[0m│\n",
      "│       (3//2, 1) │\u001b[31m   4.18174e+07+7.5535e+07im \u001b[0m│\u001b[31m        2.36945 \u001b[0m│\n",
      "│          (2, 0) │\u001b[31m  1.23351e+22+5.61115e+21im \u001b[0m│\u001b[31m       0.784238 \u001b[0m│\n",
      "│       (2, 1//4) │\u001b[31m -4.86603e+21-1.26557e+22im \u001b[0m│\u001b[31m       0.790224 \u001b[0m│\n",
      "│      (2, -1//4) │\u001b[31m -1.27766e+22+4.68906e+21im \u001b[0m│\u001b[31m       0.781596 \u001b[0m│\n",
      "│       (2, 1//2) │\u001b[31m -5.46589e+21+1.24779e+22im \u001b[0m│\u001b[31m       0.795988 \u001b[0m│\n",
      "│      (2, -1//2) │\u001b[31m  5.76316e+21-1.24225e+22im \u001b[0m│\u001b[31m       0.783956 \u001b[0m│\n",
      "│       (2, 3//4) │\u001b[31m   1.27512e+22-4.9789e+21im \u001b[0m│\u001b[31m        0.79826 \u001b[0m│\n",
      "│      (2, -3//4) │\u001b[31m  4.80347e+21+1.28721e+22im \u001b[0m│\u001b[31m       0.789872 \u001b[0m│\n",
      "│          (2, 1) │\u001b[31m -1.25154e+22-5.55864e+21im \u001b[0m│\u001b[31m        0.79577 \u001b[0m│\n",
      "│       (5//2, 0) │\u001b[31m -1.79232e+35+3.34864e+35im \u001b[0m│\u001b[31m       0.571865 \u001b[0m│\n",
      "│   (5//2, -1//5) │\u001b[31m -1.57446e+35-3.24997e+35im \u001b[0m│\u001b[31m        0.57185 \u001b[0m│\n",
      "│    (5//2, 1//5) │\u001b[31m  3.57752e+35-4.93231e+34im \u001b[0m│\u001b[31m       0.571867 \u001b[0m│\n",
      "│   (5//2, -2//5) │\u001b[31m  3.02166e+35+5.40052e+34im \u001b[0m│\u001b[31m       0.571828 \u001b[0m│\n",
      "│    (5//2, 2//5) │\u001b[31m -2.12735e+35-2.21299e+35im \u001b[0m│\u001b[31m       0.571856 \u001b[0m│\n",
      "│    (5//2, 3//5) │\u001b[31m  -3.90512e+34+2.1929e+35im \u001b[0m│\u001b[31m       0.571836 \u001b[0m│\n",
      "│   (5//2, -3//5) │\u001b[31m  -1.60489e+35+1.5444e+35im \u001b[0m│\u001b[31m       0.571808 \u001b[0m│\n",
      "│   (5//2, -4//5) │\u001b[31m -1.61624e+34-1.15765e+35im \u001b[0m│\u001b[31m       0.571797 \u001b[0m│\n",
      "│    (5//2, 4//5) │\u001b[31m  1.05106e+35-5.11495e+34im \u001b[0m│\u001b[31m       0.571814 \u001b[0m│\n",
      "│       (5//2, 1) │\u001b[31m  5.26492e+23+2.38354e+23im \u001b[0m│\u001b[31m        1.50609 \u001b[0m│\n",
      "│          (3, 0) │\u001b[31m  -6.6825e+50+2.60831e+50im \u001b[0m│\u001b[31m       0.520841 \u001b[0m│\n",
      "│       (3, 1//6) │\u001b[31m    5.0935e+50+1.7318e+50im \u001b[0m│\u001b[31m       0.760769 \u001b[0m│\n",
      "│      (3, -1//6) │\u001b[31m  3.78506e+50-7.66526e+50im \u001b[0m│\u001b[31m       0.360244 \u001b[0m│\n",
      "│      (3, -1//3) │\u001b[31m  2.76113e+50+8.90894e+50im \u001b[0m│\u001b[31m       0.576369 \u001b[0m│\n",
      "│       (3, 1//3) │\u001b[31m -2.03069e+50-2.70916e+50im \u001b[0m│\u001b[31m       0.852918 \u001b[0m│\n",
      "│      (3, -1//2) │\u001b[31m -8.22762e+50-4.54205e+50im \u001b[0m│\u001b[31m       0.726442 \u001b[0m│\n",
      "│       (3, 1//2) │\u001b[31m  7.34938e+49+1.42891e+50im \u001b[0m│\u001b[31m       0.884827 \u001b[0m│\n",
      "│      (3, -2//3) │\u001b[31m   8.4644e+50-2.22696e+50im \u001b[0m│\u001b[31m       0.807852 \u001b[0m│\n",
      "│       (3, 2//3) │\u001b[31m -1.71063e+50-8.55764e+49im \u001b[0m│\u001b[31m       0.895182 \u001b[0m│\n",
      "│      (3, -5//6) │\u001b[31m -4.02505e+50+6.30907e+50im \u001b[0m│\u001b[31m       0.854684 \u001b[0m│\n",
      "│       (3, 5//6) │\u001b[31m  2.66198e+50+2.71927e+50im \u001b[0m│\u001b[31m       0.893865 \u001b[0m│\n",
      "│          (3, 1) │\u001b[31m  -8.25408e+49-5.7017e+50im \u001b[0m│\u001b[31m       0.881332 \u001b[0m│\n",
      "└─────────────────┴────────────────────────────┴────────────────┘\n",
      "\u001b[0m\u001b[1m Channel u\u001b[22m\n",
      "┌───────────────┬────────────────────────────┬────────────────┐\n",
      "│\u001b[34m Field         \u001b[0m│\u001b[34m Structure constant         \u001b[0m│\u001b[34m Relative error \u001b[0m│\n",
      "├───────────────┼────────────────────────────┼────────────────┤\n",
      "│     (1//2, 0) │\u001b[31m         -5.45122-2.82838im \u001b[0m│\u001b[31m        3.40035 \u001b[0m│\n",
      "│     (1//2, 1) │\u001b[31m       -0.588698+0.172331im \u001b[0m│\u001b[31m        1.40063 \u001b[0m│\n",
      "│        (1, 0) │\u001b[31m          4162.08-2048.14im \u001b[0m│\u001b[31m        1.46322 \u001b[0m│\n",
      "│     (1, 1//2) │\u001b[31m           52.3103+4450.9im \u001b[0m│\u001b[31m        2.74119 \u001b[0m│\n",
      "│    (1, -1//2) │\u001b[31m         -828.106-2884.98im \u001b[0m│\u001b[31m       0.945497 \u001b[0m│\n",
      "│        (1, 1) │\u001b[31m          -2957.4-567.082im \u001b[0m│\u001b[31m        6.68531 \u001b[0m│\n",
      "│     (3//2, 0) │\u001b[31m -1.55966e+09-1.93892e+09im \u001b[0m│\u001b[31m       0.759107 \u001b[0m│\n",
      "│ (3//2, -1//3) │\u001b[31m  4.30567e+08+2.05813e+09im \u001b[0m│\u001b[31m       0.795242 \u001b[0m│\n",
      "│  (3//2, 1//3) │\u001b[31m  2.10932e+09+8.28971e+08im \u001b[0m│\u001b[31m       0.747935 \u001b[0m│\n",
      "│ (3//2, -2//3) │\u001b[31m  3.38355e+08-1.20331e+09im \u001b[0m│\u001b[31m       0.817107 \u001b[0m│\n",
      "│  (3//2, 2//3) │\u001b[31m  -1.31423e+09+2.5404e+08im \u001b[0m│\u001b[31m       0.768466 \u001b[0m│\n",
      "│     (3//2, 1) │\u001b[31m         7495.25+133250.0im \u001b[0m│\u001b[31m        1.20478 \u001b[0m│\n",
      "│        (2, 0) │\u001b[31m   1.2196e+21+9.53364e+22im \u001b[0m│\u001b[31m       0.878529 \u001b[0m│\n",
      "│     (2, 1//4) │\u001b[31m -6.82524e+22-6.64904e+22im \u001b[0m│\u001b[31m       0.878528 \u001b[0m│\n",
      "│    (2, -1//4) │\u001b[31m  6.64888e+22-6.82527e+22im \u001b[0m│\u001b[31m       0.878531 \u001b[0m│\n",
      "│     (2, 1//2) │\u001b[31m  9.50996e+22-1.32711e+21im \u001b[0m│\u001b[31m       0.878527 \u001b[0m│\n",
      "│    (2, -1//2) │\u001b[31m -9.50984e+22+1.32894e+21im \u001b[0m│\u001b[31m       0.878531 \u001b[0m│\n",
      "│     (2, 3//4) │\u001b[31m -6.60001e+22+6.80709e+22im \u001b[0m│\u001b[31m       0.878527 \u001b[0m│\n",
      "│    (2, -3//4) │\u001b[31m  6.80712e+22+6.59985e+22im \u001b[0m│\u001b[31m        0.87853 \u001b[0m│\n",
      "│        (2, 1) │\u001b[31m -1.65906e+21-9.43856e+22im \u001b[0m│\u001b[31m       0.878528 \u001b[0m│\n",
      "│     (5//2, 0) │\u001b[31m -1.02225e+31+2.04005e+31im \u001b[0m│\u001b[31m        1.07467 \u001b[0m│\n",
      "│ (5//2, -1//5) │\u001b[31m  2.15547e+31-4.09481e+30im \u001b[0m│\u001b[31m        1.07232 \u001b[0m│\n",
      "│  (5//2, 1//5) │\u001b[31m -9.50092e+30-1.89501e+31im \u001b[0m│\u001b[31m        1.07434 \u001b[0m│\n",
      "│ (5//2, -2//5) │\u001b[31m -1.38559e+31-1.23628e+31im \u001b[0m│\u001b[31m        1.06818 \u001b[0m│\n",
      "│  (5//2, 2//5) │\u001b[31m  1.73082e+31+2.80105e+30im \u001b[0m│\u001b[31m         1.0715 \u001b[0m│\n",
      "│  (5//2, 3//5) │\u001b[31m -8.66734e+30+8.95307e+30im \u001b[0m│\u001b[31m        1.06727 \u001b[0m│\n",
      "│ (5//2, -3//5) │\u001b[31m -1.06428e+30+1.31849e+31im \u001b[0m│\u001b[31m         1.0639 \u001b[0m│\n",
      "│ (5//2, -4//5) │\u001b[31m  5.74962e+30-3.55372e+30im \u001b[0m│\u001b[31m        1.06112 \u001b[0m│\n",
      "│  (5//2, 4//5) │\u001b[31m  -1.3066e+30-6.37398e+30im \u001b[0m│\u001b[31m        1.06323 \u001b[0m│\n",
      "│     (5//2, 1) │\u001b[31m  1.38129e+17-2.69252e+15im \u001b[0m│\u001b[31m       0.920086 \u001b[0m│\n",
      "│        (3, 0) │\u001b[31m   2.26028e+41-8.4775e+41im \u001b[0m│\u001b[31m       0.833274 \u001b[0m│\n",
      "│     (3, 1//6) │\u001b[31m  2.81204e+42+2.88935e+42im \u001b[0m│\u001b[31m        1.81295 \u001b[0m│\n",
      "│    (3, -1//6) │\u001b[31m -3.92914e+41-1.71021e+42im \u001b[0m│\u001b[31m        1.41004 \u001b[0m│\n",
      "│    (3, -1//3) │\u001b[31m -9.39769e+41+2.38051e+42im \u001b[0m│\u001b[31m        1.57179 \u001b[0m│\n",
      "│     (3, 1//3) │\u001b[31m -7.29985e+42-1.70662e+42im \u001b[0m│\u001b[31m        3.22688 \u001b[0m│\n",
      "│    (3, -1//2) │\u001b[31m  1.10595e+42-1.19959e+42im \u001b[0m│\u001b[31m        1.47758 \u001b[0m│\n",
      "│     (3, 1//2) │\u001b[31m  9.78335e+42-3.11089e+42im \u001b[0m│\u001b[31m        3.22312 \u001b[0m│\n",
      "│    (3, -2//3) │\u001b[31m  1.05619e+42+7.03182e+41im \u001b[0m│\u001b[31m       0.678484 \u001b[0m│\n",
      "│     (3, 2//3) │\u001b[31m -7.66746e+42+8.60898e+42im \u001b[0m│\u001b[31m        3.42272 \u001b[0m│\n",
      "│    (3, -5//6) │\u001b[31m -3.49122e+42-3.24867e+42im \u001b[0m│\u001b[31m        8.69508 \u001b[0m│\n",
      "│     (3, 5//6) │\u001b[31m  2.07182e+42-1.06376e+43im \u001b[0m│\u001b[31m        3.79847 \u001b[0m│\n",
      "│        (3, 1) │\u001b[31m  2.73581e+42+7.87155e+42im \u001b[0m│\u001b[31m        4.50387 \u001b[0m│\n",
      "└───────────────┴────────────────────────────┴────────────────┘\n"
     ]
    }
   ],
   "source": [
    "sys = solve(blocks_even, Sig(1//2, 0, 1//2));"
   ]
  },
  {
   "cell_type": "markdown",
   "id": "e0e1fbab",
   "metadata": {},
   "source": [
    "## r = 2"
   ]
  },
  {
   "cell_type": "code",
   "execution_count": 205,
   "id": "25e6c680",
   "metadata": {},
   "outputs": [],
   "source": [
    "blocks_even = precompute_blocks((2, 0), fields, parity=1, precision=25);"
   ]
  },
  {
   "cell_type": "code",
   "execution_count": 206,
   "id": "57c36565",
   "metadata": {},
   "outputs": [
    {
     "name": "stdout",
     "output_type": "stream",
     "text": [
      "\u001b[31m\u001b[1m====================\u001b[22m\u001b[39m\n",
      "\u001b[31m\u001b[1mChannel s\u001b[22m\u001b[39m\n",
      "\u001b[31m\u001b[1m====================\u001b[22m\u001b[39m\n",
      "┌──────────────┬────────────────────────────┬────────────────┐\n",
      "│\u001b[34m Field        \u001b[0m│\u001b[34m Structure constant         \u001b[0m│\u001b[34m Relative error \u001b[0m│\n",
      "├──────────────┼────────────────────────────┼────────────────┤\n",
      "│    (1//2, 0) │\u001b[32m                  1.0+0.0im \u001b[0m│\u001b[32m            0.0 \u001b[0m│\n",
      "│       (1, 0) │\u001b[31m         -370.247-6589.17im \u001b[0m│\u001b[31m       0.346136 \u001b[0m│\n",
      "│       (1, 1) │\u001b[31m         -551.224-4312.16im \u001b[0m│\u001b[31m        0.35027 \u001b[0m│\n",
      "│    (3//2, 0) │\u001b[31m  6.14453e+06-2.00515e+06im \u001b[0m│\u001b[31m       0.379677 \u001b[0m│\n",
      "│ (3//2, 2//3) │\u001b[31m  5.83822e+06-1.87505e+06im \u001b[0m│\u001b[31m       0.374344 \u001b[0m│\n",
      "│       (2, 0) │\u001b[31m  3.13349e+10+1.63396e+10im \u001b[0m│\u001b[31m       0.436682 \u001b[0m│\n",
      "│    (2, 1//2) │\u001b[31m  3.75186e+10+1.60223e+10im \u001b[0m│\u001b[31m       0.354676 \u001b[0m│\n",
      "│       (2, 1) │\u001b[31m  2.95116e+10+1.50891e+10im \u001b[0m│\u001b[31m       0.428881 \u001b[0m│\n",
      "│    (5//2, 0) │\u001b[31m  1.44027e+15+1.01898e+15im \u001b[0m│\u001b[31m       0.457327 \u001b[0m│\n",
      "│ (5//2, 2//5) │\u001b[31m   1.71854e+15+1.0154e+15im \u001b[0m│\u001b[31m       0.347922 \u001b[0m│\n",
      "│ (5//2, 4//5) │\u001b[31m  1.51624e+15+9.93452e+14im \u001b[0m│\u001b[31m        0.40509 \u001b[0m│\n",
      "│       (3, 0) │\u001b[31m  1.01213e+22-1.62988e+22im \u001b[0m│\u001b[31m       0.642458 \u001b[0m│\n",
      "│    (3, 1//3) │\u001b[31m  -8.4379e+21+1.63741e+22im \u001b[0m│\u001b[31m       0.742274 \u001b[0m│\n",
      "│    (3, 2//3) │\u001b[31m  9.94487e+21-1.61195e+22im \u001b[0m│\u001b[31m       0.642106 \u001b[0m│\n",
      "│       (3, 1) │\u001b[31m -8.09636e+21+1.59994e+22im \u001b[0m│\u001b[31m        0.74152 \u001b[0m│\n",
      "└──────────────┴────────────────────────────┴────────────────┘\n",
      "\u001b[31m\u001b[1m====================\u001b[22m\u001b[39m\n",
      "\u001b[31m\u001b[1mChannel t\u001b[22m\u001b[39m\n",
      "\u001b[31m\u001b[1m====================\u001b[22m\u001b[39m\n",
      "┌──────────────┬────────────────────────────┬────────────────┐\n",
      "│\u001b[34m Field        \u001b[0m│\u001b[34m Structure constant         \u001b[0m│\u001b[34m Relative error \u001b[0m│\n",
      "├──────────────┼────────────────────────────┼────────────────┤\n",
      "│    (1//2, 0) │\u001b[31m         -370.247-6589.17im \u001b[0m│\u001b[31m       0.346136 \u001b[0m│\n",
      "│       (1, 0) │\u001b[31m         -551.224-4312.16im \u001b[0m│\u001b[31m        0.35027 \u001b[0m│\n",
      "│       (1, 1) │\u001b[31m  6.14453e+06-2.00515e+06im \u001b[0m│\u001b[31m       0.379677 \u001b[0m│\n",
      "│    (3//2, 0) │\u001b[31m  5.83822e+06-1.87505e+06im \u001b[0m│\u001b[31m       0.374344 \u001b[0m│\n",
      "│ (3//2, 2//3) │\u001b[31m  3.13349e+10+1.63396e+10im \u001b[0m│\u001b[31m       0.436682 \u001b[0m│\n",
      "│       (2, 0) │\u001b[31m  3.75186e+10+1.60223e+10im \u001b[0m│\u001b[31m       0.354676 \u001b[0m│\n",
      "│    (2, 1//2) │\u001b[31m  2.95116e+10+1.50891e+10im \u001b[0m│\u001b[31m       0.428881 \u001b[0m│\n",
      "│       (2, 1) │\u001b[31m  1.44027e+15+1.01898e+15im \u001b[0m│\u001b[31m       0.457327 \u001b[0m│\n",
      "│    (5//2, 0) │\u001b[31m   1.71854e+15+1.0154e+15im \u001b[0m│\u001b[31m       0.347922 \u001b[0m│\n",
      "│ (5//2, 2//5) │\u001b[31m  1.51624e+15+9.93452e+14im \u001b[0m│\u001b[31m        0.40509 \u001b[0m│\n",
      "│ (5//2, 4//5) │\u001b[31m  1.01213e+22-1.62988e+22im \u001b[0m│\u001b[31m       0.642458 \u001b[0m│\n",
      "│       (3, 0) │\u001b[31m  -8.4379e+21+1.63741e+22im \u001b[0m│\u001b[31m       0.742274 \u001b[0m│\n",
      "│    (3, 1//3) │\u001b[31m  9.94487e+21-1.61195e+22im \u001b[0m│\u001b[31m       0.642106 \u001b[0m│\n",
      "│    (3, 2//3) │\u001b[31m -8.09636e+21+1.59994e+22im \u001b[0m│\u001b[31m        0.74152 \u001b[0m│\n",
      "│       (3, 1) │\u001b[31m -5.32365e+28-1.42605e+28im \u001b[0m│\u001b[31m       0.150706 \u001b[0m│\n",
      "└──────────────┴────────────────────────────┴────────────────┘\n",
      "\u001b[31m\u001b[1m====================\u001b[22m\u001b[39m\n",
      "\u001b[31m\u001b[1mChannel u\u001b[22m\u001b[39m\n",
      "\u001b[31m\u001b[1m====================\u001b[22m\u001b[39m\n",
      "┌──────────────┬────────────────────────────┬────────────────┐\n",
      "│\u001b[34m Field        \u001b[0m│\u001b[34m Structure constant         \u001b[0m│\u001b[34m Relative error \u001b[0m│\n",
      "├──────────────┼────────────────────────────┼────────────────┤\n",
      "│       (1, 0) │\u001b[31m          5.15475+5.60546im \u001b[0m│\u001b[31m       0.284029 \u001b[0m│\n",
      "│       (1, 1) │\u001b[31m  -1.3191e+06+1.89606e+06im \u001b[0m│\u001b[31m       0.253702 \u001b[0m│\n",
      "│    (3//2, 0) │\u001b[31m          83908.0-54576.3im \u001b[0m│\u001b[31m       0.266755 \u001b[0m│\n",
      "│ (3//2, 2//3) │\u001b[31m  4.43709e+12-2.61449e+13im \u001b[0m│\u001b[31m        1.40491 \u001b[0m│\n",
      "│       (2, 0) │\u001b[31m -2.02867e+13+3.81762e+12im \u001b[0m│\u001b[31m       0.346137 \u001b[0m│\n",
      "│    (2, 1//2) │\u001b[31m  3.19254e+25-2.28736e+25im \u001b[0m│\u001b[31m       0.949891 \u001b[0m│\n",
      "│       (2, 1) │\u001b[31m -1.02342e+25-1.28488e+25im \u001b[0m│\u001b[31m       0.566939 \u001b[0m│\n",
      "│    (5//2, 0) │\u001b[31m -2.02603e+25-1.34204e+25im \u001b[0m│\u001b[31m       0.528643 \u001b[0m│\n",
      "│ (5//2, 2//5) │\u001b[31m -1.02682e+41+6.05926e+40im \u001b[0m│\u001b[31m       0.520708 \u001b[0m│\n",
      "│ (5//2, 4//5) │\u001b[31m -1.39708e+41+4.75543e+40im \u001b[0m│\u001b[31m       0.288319 \u001b[0m│\n",
      "│       (3, 0) │\u001b[31m -1.63019e+41+3.65913e+40im \u001b[0m│\u001b[31m       0.253892 \u001b[0m│\n",
      "│    (3, 1//3) │\u001b[31m  1.88971e+60+1.65677e+60im \u001b[0m│\u001b[31m       0.156224 \u001b[0m│\n",
      "│    (3, 2//3) │\u001b[31m  1.84742e+60+1.71305e+60im \u001b[0m│\u001b[31m       0.173151 \u001b[0m│\n",
      "│       (3, 1) │\u001b[31m  1.78907e+60+1.78825e+60im \u001b[0m│\u001b[31m       0.180603 \u001b[0m│\n",
      "└──────────────┴────────────────────────────┴────────────────┘\n"
     ]
    }
   ],
   "source": [
    "sys = solve(blocks_even, Sig(1//2, 1//2, 1));"
   ]
  },
  {
   "cell_type": "markdown",
   "id": "e9531212",
   "metadata": {},
   "source": [
    "## r = 3"
   ]
  },
  {
   "cell_type": "code",
   "execution_count": null,
   "id": "6e8c040b",
   "metadata": {},
   "outputs": [],
   "source": [
    "blocks_even = precompute_blocks((3, 0), fields, parity=1, precision=40);"
   ]
  },
  {
   "cell_type": "code",
   "execution_count": null,
   "id": "b24bc6a1",
   "metadata": {},
   "outputs": [],
   "source": [
    "sys = solve(blocks_even, Sig(1//2,));"
   ]
  },
  {
   "cell_type": "markdown",
   "id": "36aabc16",
   "metadata": {},
   "source": [
    "## r = 4"
   ]
  }
 ],
 "metadata": {
  "kernelspec": {
   "display_name": "Julia 1.11.7",
   "language": "julia",
   "name": "julia-1.11"
  },
  "language_info": {
   "file_extension": ".jl",
   "mimetype": "application/julia",
   "name": "julia",
   "version": "1.11.7"
  }
 },
 "nbformat": 4,
 "nbformat_minor": 5
}
